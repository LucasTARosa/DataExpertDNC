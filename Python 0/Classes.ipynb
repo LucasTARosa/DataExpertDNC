{
  "nbformat": 4,
  "nbformat_minor": 0,
  "metadata": {
    "colab": {
      "name": "Classes.ipynb",
      "provenance": []
    },
    "kernelspec": {
      "name": "python3",
      "display_name": "Python 3"
    },
    "language_info": {
      "name": "python"
    }
  },
  "cells": [
    {
      "cell_type": "markdown",
      "metadata": {
        "id": "4rrAGYcxzcYl"
      },
      "source": [
        "#Aula - Classes\n"
      ]
    },
    {
      "cell_type": "code",
      "metadata": {
        "id": "owrgYiLQzXb-"
      },
      "source": [
        "#Classes\n",
        "class Carro():\n",
        "  def __init__(self, litros, velocidade = 0):\n",
        "    self.litros = litros\n",
        "    self.velocidade = velocidade\n",
        "\n",
        "  def gasolina(self, litros = 20):\n",
        "    print('Tem', self.litros, 'de gasolina')\n",
        "  \n",
        "  def acelera(self, velocidade = 0):\n",
        "    velocidade = self.velocidade\n",
        "    if self.velocidade < 120:\n",
        "      self.litros = self.litros-2\n",
        "      print('Velocidade: ', self.velocidade, '\\nQuantidade de litros de gasolina: ', self.litros)\n",
        "    else:\n",
        "      self.litros = self.litros-5\n",
        "      print('Velocidade: ', self.velocidade, '\\nQuantidade de litros de gasolina: ', self.litros)"
      ],
      "execution_count": 24,
      "outputs": []
    },
    {
      "cell_type": "code",
      "metadata": {
        "colab": {
          "base_uri": "https://localhost:8080/"
        },
        "id": "cV7qd5_X2LY5",
        "outputId": "b2baa492-eeb3-47c0-abf8-228250562412"
      },
      "source": [
        "uno = Carro(litros=10)\n",
        "\n",
        "uno.gasolina()\n",
        "uno.velocidade=120\n",
        "uno.acelera()\n",
        "uno.velocidade=99\n",
        "uno.acelera()\n",
        "uno.litros = uno.litros+32\n",
        "uno.acelera()"
      ],
      "execution_count": 6,
      "outputs": [
        {
          "output_type": "stream",
          "text": [
            "Tem 10 de gasolina\n",
            "Velocidade:  120 \n",
            "Quantidade de litros de gasolina:  5\n",
            "Velocidade:  99 \n",
            "Quantidade de litros de gasolina:  3\n",
            "Velocidade:  99 \n",
            "Quantidade de litros de gasolina:  33\n"
          ],
          "name": "stdout"
        }
      ]
    },
    {
      "cell_type": "code",
      "metadata": {
        "colab": {
          "base_uri": "https://localhost:8080/"
        },
        "id": "6s0Jq79p2b7g",
        "outputId": "d00f9365-4c89-42e2-cfa0-b9c18c930b31"
      },
      "source": [
        "civic = Carro(litros=50)\n",
        "civic.gasolina()\n",
        "civic.velocidade=200\n",
        "civic.acelera()"
      ],
      "execution_count": 25,
      "outputs": [
        {
          "output_type": "stream",
          "text": [
            "Tem 50 de gasolina\n",
            "Velocidade:  200 \n",
            "Quantidade de litros de gasolina:  45\n"
          ],
          "name": "stdout"
        }
      ]
    },
    {
      "cell_type": "code",
      "metadata": {
        "id": "oEo2IIcX6JO1"
      },
      "source": [
        "#Herança\n",
        "\n",
        "class fiat_uno(Carro):\n",
        "  def __init__(self):\n",
        "    Carro.__init__(self,litros = 9, velocidade = 50)\n",
        "\n",
        "  def escada(self):\n",
        "    print('Nova velocidade ', self.velocidade*10, 'Km/h')"
      ],
      "execution_count": 26,
      "outputs": []
    },
    {
      "cell_type": "code",
      "metadata": {
        "colab": {
          "base_uri": "https://localhost:8080/"
        },
        "id": "jaxowwUT7_AX",
        "outputId": "d8b192ae-8b8f-44f1-c915-0c9f17fef69b"
      },
      "source": [
        "empresa = fiat_uno()\n",
        "empresa.acelera()\n",
        "empresa.escada()"
      ],
      "execution_count": 28,
      "outputs": [
        {
          "output_type": "stream",
          "text": [
            "Velocidade:  50 \n",
            "Quantidade de litros de gasolina:  7\n",
            "Nova velocidade  500 Km/h\n"
          ],
          "name": "stdout"
        }
      ]
    },
    {
      "cell_type": "code",
      "metadata": {
        "colab": {
          "base_uri": "https://localhost:8080/"
        },
        "id": "4C_swJBk8FS9",
        "outputId": "563ebd17-5d32-4e0e-e5c3-f264744d006b"
      },
      "source": [
        "empresa.litros=17\n",
        "empresa.acelera()"
      ],
      "execution_count": 30,
      "outputs": [
        {
          "output_type": "stream",
          "text": [
            "Velocidade:  50 \n",
            "Quantidade de litros de gasolina:  15\n"
          ],
          "name": "stdout"
        }
      ]
    },
    {
      "cell_type": "code",
      "metadata": {
        "id": "2USlKVPp8ybP"
      },
      "source": [
        "##criando a classe pessoa\n",
        "\n",
        "class pessoa():\n",
        "  def __init__(self, nome = '', sobrenome = '', idade = 0):\n",
        "    self.nome = nome\n",
        "    self.sobrenome = sobrenome\n",
        "    self.idade = idade\n",
        "\n",
        "  def __lt__(self, p): ##operador '<'\n",
        "    return(self.idade < p.idade)\n",
        "\n",
        "  def __gt__(self, p): #operador '>'\n",
        "    return(self.idade > p.idade)"
      ],
      "execution_count": 31,
      "outputs": []
    },
    {
      "cell_type": "code",
      "metadata": {
        "colab": {
          "base_uri": "https://localhost:8080/"
        },
        "id": "gSeY3K8M-o1G",
        "outputId": "0cf566a5-5b5d-4fed-ac34-4cfac023f269"
      },
      "source": [
        "p1 = pessoa(nome='Lucas', sobrenome='Ap', idade = 27)\n",
        "p2 = pessoa(nome='Luana', sobrenome='Ap', idade = 33)\n",
        "\n",
        "if p1 < p2:\n",
        "  print(p1.nome, 'é mais novo que', p2.nome)\n",
        "else:\n",
        "  print(p1.nome, 'é mais velho que', p2.nome)"
      ],
      "execution_count": 33,
      "outputs": [
        {
          "output_type": "stream",
          "text": [
            "Lucas é mais novo que Luana\n"
          ],
          "name": "stdout"
        }
      ]
    },
    {
      "cell_type": "code",
      "metadata": {
        "colab": {
          "base_uri": "https://localhost:8080/",
          "height": 35
        },
        "id": "VP_rywDpECcb",
        "outputId": "dae23dc9-24de-407e-93af-05b9aee4de07"
      },
      "source": [
        "p1.nome"
      ],
      "execution_count": 70,
      "outputs": [
        {
          "output_type": "execute_result",
          "data": {
            "application/vnd.google.colaboratory.intrinsic+json": {
              "type": "string"
            },
            "text/plain": [
              "'Lucas'"
            ]
          },
          "metadata": {
            "tags": []
          },
          "execution_count": 70
        }
      ]
    },
    {
      "cell_type": "markdown",
      "metadata": {
        "id": "jknac4g8_RMA"
      },
      "source": [
        "## Exercício!\n",
        "\n",
        "1- Recrie a classe carro e adicione um novo atributo e um novo método (função)\n",
        "\n",
        "2- Crie uma sub classe a partir da classe criada no exercício 1\n",
        "\n",
        "3- Sobreescreva um dos operadores dentro de uma nova classe \n",
        "\n",
        "4- Crie uma classe chamada calculadora com os atributos digito 1 e digito 2, crie os métodos de adição e subtração\n",
        "\n",
        "5- Crie uma subclasse de calculadora e adicione os métodos de divisão, multiplicação e exponencial"
      ]
    },
    {
      "cell_type": "code",
      "metadata": {
        "id": "GoOW9MXPCFh1"
      },
      "source": [
        "class Carro():\n",
        "  def __init__(self, litros, velocidade = 0):\n",
        "    self.litros = litros\n",
        "    self.velocidade = velocidade\n",
        "\n",
        "  def gasolina(self, litros = 20):\n",
        "    print('Tem', self.litros, 'de gasolina')\n",
        "  \n",
        "  def acelera(self, velocidade = 0):\n",
        "    velocidade = self.velocidade\n",
        "    if self.velocidade < 120:\n",
        "      self.litros = self.litros-2\n",
        "      print('Velocidade: ', self.velocidade, '\\nQuantidade de litros de gasolina: ', self.litros)\n",
        "    else:\n",
        "      self.litros = self.litros-5\n",
        "      print('Velocidade: ', self.velocidade, '\\nQuantidade de litros de gasolina: ', self.litros)"
      ],
      "execution_count": 51,
      "outputs": []
    },
    {
      "cell_type": "code",
      "metadata": {
        "id": "dUs7F6Dc-9hT"
      },
      "source": [
        "# Exercício 1 e 3\n",
        "class carro():\n",
        "  def __init__(self, modelo = str, litros=20, velocidade=0, freio=0, passageiro=1):\n",
        "    self.modelo = modelo\n",
        "    self.litros = litros\n",
        "    self.velocidade = velocidade\n",
        "    self.freio = freio\n",
        "    self.passageiro = passageiro\n",
        "\n",
        "  def modelo_de_carro(self):\n",
        "    print('Seu carro é um: ', self.modelo)\n",
        "\n",
        "  def nivel_combustivel(self):\n",
        "    print('Seu carro tem:', self.litros, 'de gasolina')\n",
        "\n",
        "  def acelerando(self, velocidade = 0):\n",
        "    velocidade = self.velocidade\n",
        "    if self.velocidade < 80:\n",
        "      self.litros -= 2\n",
        "      print('Velocidade:', self.velocidade, 'km/h', '\\nCombustível restante:', self.litros)\n",
        "    else:\n",
        "      self.litros -= 4\n",
        "      print('Velocidade:', self.velocidade, 'km/h', '\\nCombustível restante:', self.litros)\n",
        "\n",
        "  def freiando(self, freio = 0):\n",
        "    freio = self.freio\n",
        "    self.velocidade -= self.freio\n",
        "    print('Freiando...velocidade =', self.velocidade, 'km/h')\n",
        "\n"
      ],
      "execution_count": 106,
      "outputs": []
    },
    {
      "cell_type": "code",
      "metadata": {
        "id": "qelFDg8UAr5v"
      },
      "source": [
        "civic = carro(modelo = 'civic', litros=50, velocidade=120, freio=5, passageiro=2)\n"
      ],
      "execution_count": 111,
      "outputs": []
    },
    {
      "cell_type": "code",
      "metadata": {
        "colab": {
          "base_uri": "https://localhost:8080/"
        },
        "id": "plNnq92GCz1h",
        "outputId": "2e16e61d-44d5-4e6d-bb6e-d5359506a4c8"
      },
      "source": [
        "civic.modelo_de_carro()\n",
        "civic.nivel_combustivel()"
      ],
      "execution_count": 93,
      "outputs": [
        {
          "output_type": "stream",
          "text": [
            "Seu carro é um:  civic\n",
            "Seu carro tem: 50 de gasolina\n"
          ],
          "name": "stdout"
        }
      ]
    },
    {
      "cell_type": "code",
      "metadata": {
        "colab": {
          "base_uri": "https://localhost:8080/"
        },
        "id": "YDwjy7ZzDC6h",
        "outputId": "b97b259a-97ce-4248-b5af-27f915cae3a7"
      },
      "source": [
        "civic.acelerando()"
      ],
      "execution_count": 112,
      "outputs": [
        {
          "output_type": "stream",
          "text": [
            "Velocidade: 120 km/h \n",
            "Combustível restante: 46\n"
          ],
          "name": "stdout"
        }
      ]
    },
    {
      "cell_type": "code",
      "metadata": {
        "colab": {
          "base_uri": "https://localhost:8080/"
        },
        "id": "SIFliWi5G2yn",
        "outputId": "f047dd71-30d1-4a55-be4f-ee18313466e0"
      },
      "source": [
        "civic.freiando()"
      ],
      "execution_count": 98,
      "outputs": [
        {
          "output_type": "stream",
          "text": [
            "Freiando...velocidade = 115 km/h\n"
          ],
          "name": "stdout"
        }
      ]
    },
    {
      "cell_type": "code",
      "metadata": {
        "colab": {
          "base_uri": "https://localhost:8080/"
        },
        "id": "QjQbI9Q1HRgQ",
        "outputId": "f78863b6-51c5-49e2-d968-c0003cabbf59"
      },
      "source": [
        "civic.velocidade=50\n",
        "civic.acelerando()"
      ],
      "execution_count": 113,
      "outputs": [
        {
          "output_type": "stream",
          "text": [
            "Velocidade: 50 km/h \n",
            "Combustível restante: 44\n"
          ],
          "name": "stdout"
        }
      ]
    },
    {
      "cell_type": "code",
      "metadata": {
        "colab": {
          "base_uri": "https://localhost:8080/"
        },
        "id": "jzw-X4BBIE5q",
        "outputId": "6d382493-96d9-46aa-d624-61e056bf715b"
      },
      "source": [
        "civic.freio=10\n",
        "civic.freiando()"
      ],
      "execution_count": 114,
      "outputs": [
        {
          "output_type": "stream",
          "text": [
            "Freiando...velocidade = 40 km/h\n"
          ],
          "name": "stdout"
        }
      ]
    },
    {
      "cell_type": "code",
      "metadata": {
        "id": "WWX7pas0G5Q6"
      },
      "source": [
        "# Exercício 2\n",
        "\n",
        "class honda(carro):\n",
        "  def __init__(self):\n",
        "    carro.__init__(self, modelo='civic', litros = 50, velocidade=100, freio = 5, passageiro = 1)\n",
        "\n",
        "  def vtec(self):\n",
        "    print('Acelerando até:', self.velocidade*1.8, 'Km/h')\n",
        "    "
      ],
      "execution_count": 115,
      "outputs": []
    },
    {
      "cell_type": "code",
      "metadata": {
        "colab": {
          "base_uri": "https://localhost:8080/"
        },
        "id": "_AMo5z34JIp6",
        "outputId": "bae58ad4-5c77-4a87-fce4-73f1f3bf73d4"
      },
      "source": [
        "si = honda()\n",
        "si.vtec()"
      ],
      "execution_count": 116,
      "outputs": [
        {
          "output_type": "stream",
          "text": [
            "Acelerando até: 180.0 Km/h\n"
          ],
          "name": "stdout"
        }
      ]
    },
    {
      "cell_type": "code",
      "metadata": {
        "id": "2icQOA7EJLoV"
      },
      "source": [
        "# Exercício 4\n",
        "\n",
        "class calculadora():\n",
        "  def __init__(self, digito1, digito2):\n",
        "    self.digito1 = digito1\n",
        "    self.digito2 = digito2\n",
        "\n",
        "  def soma(self, digito1=0, digito2=0):\n",
        "    soma = self.digito1 + self.digito2\n",
        "    print('A soma é:', soma)\n",
        "\n",
        "  def subtracao(self, digito1=0, digito2=0):\n",
        "    subtracao = self.digito1 - self.digito2\n",
        "    print('A subtração é:', subtracao)"
      ],
      "execution_count": 129,
      "outputs": []
    },
    {
      "cell_type": "code",
      "metadata": {
        "colab": {
          "base_uri": "https://localhost:8080/"
        },
        "id": "rH7jDqgfJ-u5",
        "outputId": "ee6ff23a-7d63-40bb-a94b-514d65f44ae1"
      },
      "source": [
        "calculo1 = calculadora(digito1=5, digito2=10)\n",
        "calculo1.soma()\n",
        "calculo1.subtracao()\n",
        "calculo1.digito1=20\n",
        "calculo1.digito2=7\n",
        "calculo1.soma()\n",
        "calculo1.subtracao()\n"
      ],
      "execution_count": 132,
      "outputs": [
        {
          "output_type": "stream",
          "text": [
            "A soma é: 15\n",
            "A subtração é: -5\n",
            "A soma é: 27\n",
            "A subtração é: 13\n"
          ],
          "name": "stdout"
        }
      ]
    },
    {
      "cell_type": "code",
      "metadata": {
        "id": "befesBP9KCB-"
      },
      "source": [
        "#Exercício 5\n",
        "class calculadoraAvancada(calculadora):\n",
        "  def __init__(self):\n",
        "    calculadora.__init__(self, digito1 = 0, digito2 = 0)\n",
        "\n",
        "  def divisao(self, digito1 = 0, digito2 = 0):\n",
        "    divisao = self.digito1 / self.digito2\n",
        "    print('A divisão é:', divisao)\n",
        "\n",
        "  def multiplicacao(self, digito1 = 0, digito2 = 0):\n",
        "    multiplicacao = self.digito1 * self.digito2\n",
        "    print('A multiplicação é:', multiplicacao)\n",
        "\n",
        "  def exponencial(self, digito1 = 0, digito2 = 0):\n",
        "    exponencial = self.digito1 ** self.digito2\n",
        "    print('A exponencial do primeiro digito pelo segundo é: ', exponencial)"
      ],
      "execution_count": 138,
      "outputs": []
    },
    {
      "cell_type": "code",
      "metadata": {
        "colab": {
          "base_uri": "https://localhost:8080/"
        },
        "id": "VbWLf-_HMOvd",
        "outputId": "ffc68b86-dac1-45a8-9f20-2d60af524186"
      },
      "source": [
        "calculo2 = calculadoraAvancada()\n",
        "calculo2.digito1=2\n",
        "calculo2.digito2=8\n",
        "calculo2.divisao()\n",
        "calculo2.multiplicacao()\n",
        "calculo2.exponencial()\n",
        "calculo2.digito1=8\n",
        "calculo2.digito2=2\n",
        "calculo2.divisao()\n",
        "calculo2.multiplicacao()\n",
        "calculo2.exponencial()"
      ],
      "execution_count": 141,
      "outputs": [
        {
          "output_type": "stream",
          "text": [
            "A divisão é: 0.25\n",
            "A multiplicação é: 16\n",
            "A exponencial do primeiro digito pelo segundo é:  256\n",
            "A divisão é: 4.0\n",
            "A multiplicação é: 16\n",
            "A exponencial do primeiro digito pelo segundo é:  64\n"
          ],
          "name": "stdout"
        }
      ]
    },
    {
      "cell_type": "code",
      "metadata": {
        "id": "vHmcT_9DMbq3"
      },
      "source": [
        ""
      ],
      "execution_count": null,
      "outputs": []
    }
  ]
}