{
  "nbformat": 4,
  "nbformat_minor": 0,
  "metadata": {
    "colab": {
      "name": "FuncoesLambda.ipynb",
      "provenance": []
    },
    "kernelspec": {
      "name": "python3",
      "display_name": "Python 3"
    },
    "language_info": {
      "name": "python"
    }
  },
  "cells": [
    {
      "cell_type": "markdown",
      "metadata": {
        "id": "dhRcM1mkpBXJ"
      },
      "source": [
        "#Aula sobre funções Lambda"
      ]
    },
    {
      "cell_type": "code",
      "metadata": {
        "colab": {
          "base_uri": "https://localhost:8080/"
        },
        "id": "EQL8mUSko9Yl",
        "outputId": "a5350f97-8c89-4c23-882b-8b5192c7beec"
      },
      "source": [
        "#criando função lambda que soma x com x e atribuindo a f1\n",
        "\n",
        "f1 = lambda x:x+2\n",
        "f1(10)\n",
        "\n",
        "#criando função lambda que eleva x ao quadrado e atribuindo a f2\n",
        "f2 = lambda x,y:x+y\n",
        "f2(10,12)\n"
      ],
      "execution_count": null,
      "outputs": [
        {
          "output_type": "execute_result",
          "data": {
            "text/plain": [
              "22"
            ]
          },
          "metadata": {
            "tags": []
          },
          "execution_count": 2
        }
      ]
    },
    {
      "cell_type": "code",
      "metadata": {
        "colab": {
          "base_uri": "https://localhost:8080/"
        },
        "id": "bihsWqFLpSs2",
        "outputId": "5cb2709a-4976-4a2c-bf0e-1ff9ba40dad6"
      },
      "source": [
        "#criando função de verificar par com lambda\n",
        "ver_par = lambda x: 'par' if x %2 == 0 else 'impar'\n",
        "print(ver_par(5))\n",
        "print(ver_par(4))"
      ],
      "execution_count": null,
      "outputs": [
        {
          "output_type": "stream",
          "text": [
            "impar\n",
            "par\n"
          ],
          "name": "stdout"
        }
      ]
    },
    {
      "cell_type": "code",
      "metadata": {
        "colab": {
          "base_uri": "https://localhost:8080/"
        },
        "id": "hdKonIGzpyLe",
        "outputId": "59e8a783-18a6-4c18-e99e-6129243c216e"
      },
      "source": [
        "#retorno booleano\n",
        "ver_par_filter = lambda x: True if x %2 == 0 else False\n",
        "ver_par_filter(5)"
      ],
      "execution_count": null,
      "outputs": [
        {
          "output_type": "execute_result",
          "data": {
            "text/plain": [
              "False"
            ]
          },
          "metadata": {
            "tags": []
          },
          "execution_count": 7
        }
      ]
    },
    {
      "cell_type": "code",
      "metadata": {
        "colab": {
          "base_uri": "https://localhost:8080/"
        },
        "id": "yPr-yhLKqDFZ",
        "outputId": "eaffa8d4-32a6-4735-c101-308fad5e972e"
      },
      "source": [
        "#printando variável par em uma lista usando map\n",
        "lista = [1, 2, 3, 4, 5, 6, 7]\n",
        "list(map(lambda x: True if x %2==0 else False, lista))"
      ],
      "execution_count": null,
      "outputs": [
        {
          "output_type": "execute_result",
          "data": {
            "text/plain": [
              "[False, True, False, True, False, True, False]"
            ]
          },
          "metadata": {
            "tags": []
          },
          "execution_count": 8
        }
      ]
    },
    {
      "cell_type": "code",
      "metadata": {
        "colab": {
          "base_uri": "https://localhost:8080/"
        },
        "id": "NK7C_QKIqS7x",
        "outputId": "fdae9f4f-1b25-4579-e1fd-46f11031c96e"
      },
      "source": [
        "#printando variavel par em uma lista usando filter\n",
        "pares = list(filter(lambda x: True if x %2 == 0 else False, lista))\n",
        "print(pares)"
      ],
      "execution_count": null,
      "outputs": [
        {
          "output_type": "stream",
          "text": [
            "[2, 4, 6]\n"
          ],
          "name": "stdout"
        }
      ]
    },
    {
      "cell_type": "code",
      "metadata": {
        "colab": {
          "base_uri": "https://localhost:8080/"
        },
        "id": "tBf4m7i_qhhB",
        "outputId": "7ff95bea-5566-4473-e823-617a3b611dd0"
      },
      "source": [
        "#criando função lambda verifica par dentro do map e passando uma lista e convertendo resultado em lista\n",
        "list(map(lambda x: 'par' if x %2==0 else 'impar', lista))\n"
      ],
      "execution_count": null,
      "outputs": [
        {
          "output_type": "execute_result",
          "data": {
            "text/plain": [
              "['impar', 'par', 'impar', 'par', 'impar', 'par', 'impar']"
            ]
          },
          "metadata": {
            "tags": []
          },
          "execution_count": 11
        }
      ]
    },
    {
      "cell_type": "code",
      "metadata": {
        "colab": {
          "base_uri": "https://localhost:8080/"
        },
        "id": "sLuCjPEwq3LA",
        "outputId": "9849d93b-847b-4360-9cf8-83a6c56363ff"
      },
      "source": [
        "list(filter(ver_par_filter, lista))"
      ],
      "execution_count": null,
      "outputs": [
        {
          "output_type": "execute_result",
          "data": {
            "text/plain": [
              "[2, 4, 6]"
            ]
          },
          "metadata": {
            "tags": []
          },
          "execution_count": 14
        }
      ]
    },
    {
      "cell_type": "code",
      "metadata": {
        "colab": {
          "base_uri": "https://localhost:8080/"
        },
        "id": "jx35lh0JrKx8",
        "outputId": "aca9cb45-1bf5-4816-f540-c37ad6f5a49a"
      },
      "source": [
        "#importando biblioteca de um diretório de modulos\n",
        "from functools import reduce\n",
        "\n",
        "#atribuindo o resultado do reduce a uma nova variavel e criando uma função lambda para somar x e y\n",
        "reduce(lambda x,y : x+y, range(10))"
      ],
      "execution_count": null,
      "outputs": [
        {
          "output_type": "execute_result",
          "data": {
            "text/plain": [
              "45"
            ]
          },
          "metadata": {
            "tags": []
          },
          "execution_count": 15
        }
      ]
    },
    {
      "cell_type": "code",
      "metadata": {
        "colab": {
          "base_uri": "https://localhost:8080/"
        },
        "id": "cuapLWkqrx_9",
        "outputId": "5dddb1cd-2a8c-477f-ff66-4bb6b50da065"
      },
      "source": [
        "#essa equação reduce é equivalente a:\n",
        "y = 0\n",
        "for a in range(10):\n",
        "  y += a\n",
        "print(y)"
      ],
      "execution_count": null,
      "outputs": [
        {
          "output_type": "stream",
          "text": [
            "35\n"
          ],
          "name": "stdout"
        }
      ]
    },
    {
      "cell_type": "code",
      "metadata": {
        "colab": {
          "base_uri": "https://localhost:8080/"
        },
        "id": "P0AiKkn0sYO3",
        "outputId": "3b41865b-9f23-4ca5-9f10-e1e81362a1aa"
      },
      "source": [
        "#criando função lambda que retorna a soma de 3 valores recebidos\n",
        "soma = lambda a, b, c : a+b+c\n",
        "soma(10, 20, 30)"
      ],
      "execution_count": null,
      "outputs": [
        {
          "output_type": "execute_result",
          "data": {
            "text/plain": [
              "60"
            ]
          },
          "metadata": {
            "tags": []
          },
          "execution_count": 25
        }
      ]
    },
    {
      "cell_type": "markdown",
      "metadata": {
        "id": "SVu4qPW-sydj"
      },
      "source": [
        "##Exercício!\n",
        "\n",
        "1- Crie uma função Lambda que retorna a soma de 4 valores\n",
        "\n",
        "2- Utilize uma função filter para retornar somente os números pares da lista abaixo.\n",
        "[5,2,5,7,4,2,6,10,342,54,23,6,7,9,12]\n",
        "\n",
        "3- Utilize a função reduce e retorna a soma da lista anterior"
      ]
    },
    {
      "cell_type": "code",
      "metadata": {
        "colab": {
          "base_uri": "https://localhost:8080/"
        },
        "id": "KVn1vlvmsoge",
        "outputId": "face1b06-227f-4736-82d1-1bf4f19b1381"
      },
      "source": [
        "#Exercício 1\n",
        "\n",
        "soma = lambda a, b, c, d : a+b+c+d\n",
        "soma(10, 20, 30, 40)"
      ],
      "execution_count": null,
      "outputs": [
        {
          "output_type": "execute_result",
          "data": {
            "text/plain": [
              "100"
            ]
          },
          "metadata": {
            "tags": []
          },
          "execution_count": 26
        }
      ]
    },
    {
      "cell_type": "code",
      "metadata": {
        "colab": {
          "base_uri": "https://localhost:8080/"
        },
        "id": "ofZi8ld2tWJ-",
        "outputId": "1500842f-9cc2-4243-9c69-0226e000fc5d"
      },
      "source": [
        "#Exercício 2\n",
        "\n",
        "lista_exercicio = [5, 2, 5, 7, 4, 2, 6, 10, 342, 54, 23, 6, 7, 9, 12]\n",
        "\n",
        "par = lambda x: True if x %2 == 0 else False\n",
        "lista = list(filter(par, lista_exercicio))\n",
        "print(lista)"
      ],
      "execution_count": null,
      "outputs": [
        {
          "output_type": "stream",
          "text": [
            "[2, 4, 2, 6, 10, 342, 54, 6, 12]\n"
          ],
          "name": "stdout"
        }
      ]
    },
    {
      "cell_type": "code",
      "metadata": {
        "colab": {
          "base_uri": "https://localhost:8080/"
        },
        "id": "2dhapm4rtws3",
        "outputId": "4d4798ea-bf85-4e53-c575-ad4d9a1b0aeb"
      },
      "source": [
        "#Exercício 3\n",
        "\n",
        "reduce(lambda x,y : x+y, lista_exercicio)\n"
      ],
      "execution_count": null,
      "outputs": [
        {
          "output_type": "execute_result",
          "data": {
            "text/plain": [
              "494"
            ]
          },
          "metadata": {
            "tags": []
          },
          "execution_count": 34
        }
      ]
    },
    {
      "cell_type": "code",
      "metadata": {
        "id": "j91wEfgeuBFt"
      },
      "source": [
        ""
      ],
      "execution_count": null,
      "outputs": []
    }
  ]
}