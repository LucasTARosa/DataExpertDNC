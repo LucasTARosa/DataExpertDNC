{
  "nbformat": 4,
  "nbformat_minor": 0,
  "metadata": {
    "colab": {
      "name": "Cases.ipynb",
      "provenance": []
    },
    "kernelspec": {
      "name": "python3",
      "display_name": "Python 3"
    },
    "language_info": {
      "name": "python"
    }
  },
  "cells": [
    {
      "cell_type": "markdown",
      "metadata": {
        "id": "f1uvx2W1y0Mg"
      },
      "source": [
        "#Python 0 - Case 1\n",
        "1- Uma empresa te enviou 3 listas, uma representa a largura, outra representa a altura e a terceira representa a área em m2 de determinado terreno, todas estão ordenadas entretanto tem alguns valores faltantes que precisam ser preenchidos, preencha os valores faltantes:\n",
        "\n",
        "Todos os terrenos dessa empresa são retangulares e você pode utilizar a fórmula abaixo:\n",
        "a = b. h (área = largura * altura)\n",
        "\n",
        "Utilize as listas abaixo:\n",
        "area = [200,'null',720,1500,1000,275,'null',1200,2400,'null']\n",
        "altura = ['null',30,40,30,10,25,33,'null',12,20]\n",
        "largura = [20,20,'null',50,100,'null',30,100,200,10]\n",
        "\n",
        "2- Geralmente os Terrenos possuem maior altura ou largura?\n",
        "Utilize as listas completas geradas no exercício anterior\n",
        "\n",
        "\n",
        "3- Quantos metros a empresa tem no total e qual é a média de tamanho dos terrenos?\n",
        "Utilize as listas completas geradas no primeiro exercício"
      ]
    },
    {
      "cell_type": "code",
      "metadata": {
        "id": "ABUsOljQywP8"
      },
      "source": [
        "#Exercício 1\n",
        "area = [200, 'null', 720, 1500, 1000, 275, 'null', 1200, 2400, 'null']\n",
        "altura = ['null', 30, 40, 30, 10, 25, 33, 'null', 12, 20]\n",
        "largura = [20, 20, 'null', 50, 100, 'null', 30, 100, 200, 10]"
      ],
      "execution_count": null,
      "outputs": []
    },
    {
      "cell_type": "code",
      "metadata": {
        "id": "BrF5jGdtzn2m"
      },
      "source": [
        "for a in range(len(area)):\n",
        "  if area[a] == 'null':\n",
        "    area_calculada = altura[a]*largura[a]\n",
        "    area[a] = area_calculada\n",
        "  elif altura[a] == 'null':\n",
        "    altura_calculada = area[a]/largura[a]\n",
        "    altura[a] = altura_calculada\n",
        "  elif largura[a] == 'null':\n",
        "    largura_calculada = area[a]/altura[a]\n",
        "    largura[a] = largura_calculada"
      ],
      "execution_count": null,
      "outputs": []
    },
    {
      "cell_type": "code",
      "metadata": {
        "colab": {
          "base_uri": "https://localhost:8080/"
        },
        "id": "fYItmhmI3qgO",
        "outputId": "b818d99e-5bbb-4f7b-a6e7-ed0dd201f730"
      },
      "source": [
        "print(area, altura, largura)"
      ],
      "execution_count": null,
      "outputs": [
        {
          "output_type": "stream",
          "text": [
            "[200, 600, 720, 1500, 1000, 275, 990, 1200, 2400, 200] [10.0, 30, 40, 30, 10, 25, 33, 12.0, 12, 20] [20, 20, 18.0, 50, 100, 11.0, 30, 100, 200, 10]\n"
          ],
          "name": "stdout"
        }
      ]
    },
    {
      "cell_type": "code",
      "metadata": {
        "colab": {
          "base_uri": "https://localhost:8080/"
        },
        "id": "PQIY-Tyj710W",
        "outputId": "81674be8-dd50-453f-c5c9-364da157bafb"
      },
      "source": [
        "print(area)\n",
        "print(altura)\n",
        "print(largura)"
      ],
      "execution_count": null,
      "outputs": [
        {
          "output_type": "stream",
          "text": [
            "[200, 600, 720, 1500, 1000, 275, 990, 1200, 2400, 200]\n",
            "[10.0, 30, 40, 30, 10, 25, 33, 12.0, 12, 20]\n",
            "[20, 20, 18.0, 50, 100, 11.0, 30, 100, 200, 10]\n"
          ],
          "name": "stdout"
        }
      ]
    },
    {
      "cell_type": "code",
      "metadata": {
        "colab": {
          "base_uri": "https://localhost:8080/"
        },
        "id": "uLorZgkT4e2N",
        "outputId": "5f7e4999-c3b4-4df4-f893-a7ab7bfccb48"
      },
      "source": [
        "#Exercício 2\n",
        "alt = 0\n",
        "larg = 0\n",
        "\n",
        "for a in range(len(largura)):\n",
        "  if largura[a] > altura[a]:\n",
        "    larg += 1\n",
        "  elif altura[a] > largura[a]:\n",
        "    alt += 1\n",
        "\n",
        "print('O número de terrenos em que a altura é maior do que a largura é:', alt)\n",
        "print('O número de terrenos em que a largura é maior do que a altura é: ', larg)\n",
        "if alt > larg:\n",
        "  print('Geralmente os terrenos possuem a altura maior do que a largura')\n",
        "elif larg > alt:\n",
        "  print('Geralmente os terrenos possuem a largura maior do que a altura')\n",
        "else:\n",
        "  print('O terreno possui altura e largura distribuidos igualmente')"
      ],
      "execution_count": null,
      "outputs": [
        {
          "output_type": "stream",
          "text": [
            "O número de terrenos em que a altura é maior do que a largura é: 5\n",
            "O número de terrenos em que a largura é maior do que a altura é:  5\n",
            "O terreno possui altura e largura distribuidos igualmente\n"
          ],
          "name": "stdout"
        }
      ]
    },
    {
      "cell_type": "code",
      "metadata": {
        "colab": {
          "base_uri": "https://localhost:8080/"
        },
        "id": "BBTG-GpV6xps",
        "outputId": "6445a901-96a8-4a0c-ec5e-c1d7cf16d60a"
      },
      "source": [
        "#exercicio 3\n",
        "\n",
        "from functools import reduce\n",
        "\n",
        "soma_area = reduce(lambda x,y : x+y, area)\n",
        "elementos_area = len(area)\n",
        "media = soma_area / elementos_area\n",
        "soma_largura = reduce(lambda x,y : x+y, largura)\n",
        "soma_altura = reduce(lambda x,y : x+y, altura)\n",
        "\n",
        "print('A soma da largura é: ', soma_largura, 'm')\n",
        "print('A soma da altura é: ', soma_altura,'m')\n",
        "print('A soma total de metros é: ', soma_largura+soma_altura, 'm')\n",
        "print('A área total dos terrenos é: ', soma_area, 'm²')\n",
        "print('A média da área dos terrenos é: ', media, 'm²')"
      ],
      "execution_count": null,
      "outputs": [
        {
          "output_type": "stream",
          "text": [
            "A soma da largura é:  559.0 m\n",
            "A soma da altura é:  222.0 m\n",
            "A soma total de metros é:  781.0 m\n",
            "A área total dos terrenos é:  9085 m²\n",
            "A média da área dos terrenos é:  908.5 m²\n"
          ],
          "name": "stdout"
        }
      ]
    },
    {
      "cell_type": "markdown",
      "metadata": {
        "id": "Wqaa0Ap6AILj"
      },
      "source": [
        "#Case 2\n",
        "\n",
        "1- Você recebeu um arquivo chamado usuarios_feedback, nesse arquivo contém o comentário, nome, gênero e nota de usuários referente a um produto de sua empresas. Você precisa verificar quais as palavras que mais apareceram nos comentários:\n",
        "\n",
        "usuarios_feedback = [{'nome':'Peter','nota':9,'genero':'M','comentario':'bom demais e agil'},\n",
        "{'nome':'Joao','nota':10,'genero':'M','comentario':'agil e eficiente'},\n",
        "{'nome':'user_not_found','nota':0,'genero':'M','comentario':'Horrível'},\n",
        "{'nome':'Marta','nota':10,'genero':'F','comentario':'muito agil bom demais'},\n",
        "{'nome':'Beatriz','nota':10,'genero':'F','comentario':'rápido e eficaz'},\n",
        "{'nome':'user_not_found','nota':2,'genero':'M','comentario':'ruim'},\n",
        "{'nome':'Jéssica','nota':10,'genero':'F','comentario':'agil'},\n",
        "{'nome':'José','nota':7,'genero':'M','comentario':'ok'},\n",
        "{'nome':'Elias','nota':5,'genero':'M','comentario':'precisa melhorar'},\n",
        "{'nome':'Miriã','nota':9,'genero':'F','comentario':'foi muito agil e rápido'},\n",
        "{'nome':'Maria','nota':10,'genero':'F','comentario':'muito bom e agil'}]\n",
        "\n",
        "2- Usando o mesmo arquivo, calcular a média das notas separadas por gênero:\n",
        "usuarios_feedback = [{'nome':'Peter','nota':9,'genero':'M','comentario':'bom demais e agil'},\n",
        "{'nome':'Joao','nota':10,'genero':'M','comentario':'agil e eficiente'},\n",
        "{'nome':'user_not_found','nota':0,'genero':'M','comentario':'Horrível'},\n",
        "{'nome':'Marta','nota':10,'genero':'F','comentario':'muito agil bom demais'},\n",
        "{'nome':'Beatriz','nota':10,'genero':'F','comentario':'rápido e eficaz'},\n",
        "{'nome':'user_not_found','nota':2,'genero':'M','comentario':'ruim'},\n",
        "{'nome':'Jéssica','nota':10,'genero':'F','comentario':'agil'},\n",
        "{'nome':'José','nota':7,'genero':'M','comentario':'ok'},\n",
        "{'nome':'Elias','nota':5,'genero':'M','comentario':'precisa melhorar'},\n",
        "{'nome':'Miriã','nota':9,'genero':'F','comentario':'foi muito agil e rápido'},\n",
        "{'nome':'Maria','nota':10,'genero':'F','comentario':'muito bom e agil'}]"
      ]
    },
    {
      "cell_type": "code",
      "metadata": {
        "colab": {
          "base_uri": "https://localhost:8080/"
        },
        "id": "V-jt0idO9vqy",
        "outputId": "52710a96-0122-47b9-a954-52068da75e7a"
      },
      "source": [
        "#Exercício 1\n",
        "\n",
        "usuarios_feedback = [{'nome':'Peter','nota':9,'genero':'M','comentario':'bom demais e agil'}, \n",
        "                     {'nome':'Joao','nota':10,'genero':'M','comentario':'agil e eficiente'}, \n",
        "                     {'nome':'user_not_found','nota':0,'genero':'M','comentario':'Horrível'}, \n",
        "                     {'nome':'Marta','nota':10,'genero':'F','comentario':'muito agil bom demais'}, \n",
        "                     {'nome':'Beatriz','nota':10,'genero':'F','comentario':'rápido e eficaz'}, \n",
        "                     {'nome':'user_not_found','nota':2,'genero':'M','comentario':'ruim'}, \n",
        "                     {'nome':'Jéssica','nota':10,'genero':'F','comentario':'agil'},\n",
        "                     {'nome':'José','nota':7,'genero':'M','comentario':'ok'}, \n",
        "                     {'nome':'Elias','nota':5,'genero':'M','comentario':'precisa melhorar'}, \n",
        "                     {'nome':'Miriã','nota':9,'genero':'F','comentario':'foi muito agil e rápido'}, \n",
        "                     {'nome':'Maria','nota':10,'genero':'F','comentario':'muito bom e agil'}]\n",
        "\n",
        "type(usuarios_feedback)"
      ],
      "execution_count": null,
      "outputs": [
        {
          "output_type": "execute_result",
          "data": {
            "text/plain": [
              "list"
            ]
          },
          "metadata": {
            "tags": []
          },
          "execution_count": 81
        }
      ]
    },
    {
      "cell_type": "code",
      "metadata": {
        "colab": {
          "base_uri": "https://localhost:8080/"
        },
        "id": "wS2GFclDAhvl",
        "outputId": "31ad2ab2-70b4-4db5-c086-30f52c630c70"
      },
      "source": [
        "#Exercício 1\n",
        "print(usuarios_feedback[0])"
      ],
      "execution_count": null,
      "outputs": [
        {
          "output_type": "stream",
          "text": [
            "{'nome': 'Peter', 'nota': 9, 'genero': 'M', 'comentario': 'bom demais e agil'}\n"
          ],
          "name": "stdout"
        }
      ]
    },
    {
      "cell_type": "code",
      "metadata": {
        "colab": {
          "base_uri": "https://localhost:8080/"
        },
        "id": "fC98lNrXC6vP",
        "outputId": "1a1a074a-52c9-4746-e1b9-cdcd48dd435e"
      },
      "source": [
        "print(usuarios_feedback[0]['comentario'].split())"
      ],
      "execution_count": null,
      "outputs": [
        {
          "output_type": "stream",
          "text": [
            "['bom', 'demais', 'e', 'agil']\n"
          ],
          "name": "stdout"
        }
      ]
    },
    {
      "cell_type": "code",
      "metadata": {
        "colab": {
          "base_uri": "https://localhost:8080/"
        },
        "id": "kFAMPE4NDMFH",
        "outputId": "a7a56172-e341-4f13-ca0f-8ed93de5a0f3"
      },
      "source": [
        "from collections import Counter\n",
        "coments = []\n",
        "\n",
        "for a in range(len(usuarios_feedback)):\n",
        "  coments.extend(usuarios_feedback[a]['comentario'].split())\n",
        "\n",
        "palavra_mais_comum = Counter(coments).most_common()\n",
        "print('A palavra mais comum é:', palavra_mais_comum[0])"
      ],
      "execution_count": null,
      "outputs": [
        {
          "output_type": "stream",
          "text": [
            "A palavra mais comum é: ('agil', 6) , ('e', 5)\n"
          ],
          "name": "stdout"
        }
      ]
    },
    {
      "cell_type": "code",
      "metadata": {
        "colab": {
          "base_uri": "https://localhost:8080/"
        },
        "id": "6m1Dp-SCDjKv",
        "outputId": "b9cfe608-389d-429d-be5e-06fdb18559f1"
      },
      "source": [
        "coments.sort(key=len)\n",
        "print(coments)"
      ],
      "execution_count": null,
      "outputs": [
        {
          "output_type": "stream",
          "text": [
            "['e', 'e', 'e', 'e', 'e', 'ok', 'bom', 'bom', 'foi', 'bom', 'agil', 'agil', 'agil', 'ruim', 'agil', 'agil', 'agil', 'muito', 'muito', 'muito', 'demais', 'demais', 'rápido', 'eficaz', 'rápido', 'precisa', 'Horrível', 'melhorar', 'eficiente']\n"
          ],
          "name": "stdout"
        }
      ]
    },
    {
      "cell_type": "code",
      "metadata": {
        "colab": {
          "base_uri": "https://localhost:8080/"
        },
        "id": "omI74WKPEug7",
        "outputId": "6688f5f5-8abf-4097-fc2b-9342bdb4ea24"
      },
      "source": [
        "from collections import Counter\n",
        "palavra_mais_comum = Counter(coments).most_common()\n",
        "print(palavra_mais_comum)\n",
        "print('a palavra mais comum é:', palavra_mais_comum[0])"
      ],
      "execution_count": null,
      "outputs": [
        {
          "output_type": "stream",
          "text": [
            "[('agil', 6), ('e', 5), ('bom', 3), ('muito', 3), ('demais', 2), ('rápido', 2), ('ok', 1), ('foi', 1), ('ruim', 1), ('eficaz', 1), ('precisa', 1), ('Horrível', 1), ('melhorar', 1), ('eficiente', 1)]\n",
            "a palavra mais comum é: ('agil', 6)\n"
          ],
          "name": "stdout"
        }
      ]
    },
    {
      "cell_type": "code",
      "metadata": {
        "colab": {
          "base_uri": "https://localhost:8080/"
        },
        "id": "uGGo5ywHFrRP",
        "outputId": "cacf36ec-5130-4cd7-ae28-0d3dadfd9a12"
      },
      "source": [
        "#Exercicio 2\n",
        "\n",
        "masculino = []\n",
        "feminino = []\n",
        "\n",
        "for a in range(len(usuarios_feedback)):\n",
        "  if usuarios_feedback[a]['genero'] == 'M':\n",
        "    masculino.append(usuarios_feedback[a]['nota'])\n",
        "  elif usuarios_feedback[a]['genero'] == 'F':\n",
        "    feminino.append(usuarios_feedback[a]['nota'])\n",
        "\n",
        "soma_masculino = reduce(lambda x,y : x+y, masculino)\n",
        "soma_feminino = reduce(lambda x,y : x+y, feminino)\n",
        "\n",
        "print('A média das notas para o gênero masculino é:', soma_masculino/len(masculino))\n",
        "print('A média das notas para o gênero feminino é:', soma_feminino/len(feminino))"
      ],
      "execution_count": null,
      "outputs": [
        {
          "output_type": "stream",
          "text": [
            "A média das notas para o gênero masculino é: 5.5\n",
            "A média das notas para o gênero feminino é: 9.8\n"
          ],
          "name": "stdout"
        }
      ]
    },
    {
      "cell_type": "code",
      "metadata": {
        "colab": {
          "base_uri": "https://localhost:8080/"
        },
        "id": "taUnEVq5IP33",
        "outputId": "77c5a814-d919-4465-9fdc-58289b4159d0"
      },
      "source": [
        "from functools import reduce\n",
        "\n",
        "soma_masculino = reduce(lambda x,y : x+y, masculino)\n",
        "soma_feminino = reduce(lambda x,y : x+y, feminino)\n",
        "\n",
        "print('A média das notas para o gênero masculino é:', soma_masculino/len(masculino))\n",
        "print('A média das notas para o gênero feminino é:', soma_feminino/len(feminino))"
      ],
      "execution_count": null,
      "outputs": [
        {
          "output_type": "stream",
          "text": [
            "A média das notas para o gênero masculino é: 5.5\n",
            "A média das notas para o gênero feminino é: 9.8\n"
          ],
          "name": "stdout"
        }
      ]
    },
    {
      "cell_type": "markdown",
      "metadata": {
        "id": "IWJY119VLfH4"
      },
      "source": [
        "#Case 3\n",
        "\n",
        "1- Sua empresa te passou uma lista com requisições de treinamentos (muitos repetidos), você tem que definir o cenário que melhor atenda os pedidos, o budget é de 150 moedas e você tem um dicionário que contém o nome do treinamento e o valor dele\n",
        "\n",
        "treinamentos = [{'treinamento':'Scrum','moedas':30},\n",
        "{'treinamento':'Data Science','moedas':40},\n",
        "{'treinamento':'Gestão de Projetos','moedas':50},\n",
        "{'treinamento':'Marketing','moedas':30},\n",
        "{'treinamento':'Cloud','moedas':20},\n",
        "{'treinamento':'Blockchain','moedas':10},\n",
        "{'treinamento':'Python','moedas':30}]\n",
        "\n",
        "pedidos = ['Scrum','Data Science','Gestão de Projetos','Marketing','Cloud','Python','Python','Python',\n",
        "'Scrum','Data Science','Gestão de Projetos','Marketing','Data Science','Gestão de Projetos',\n",
        "'Python','Marketing','Data Science','Gestão de Projetos','Data Science','Gestão de Projetos','Data Science']"
      ]
    },
    {
      "cell_type": "code",
      "metadata": {
        "id": "EZpeDWj-IVsC"
      },
      "source": [
        "#Resolução\n",
        "treinamentos = [{'treinamento':'Scrum','moedas':30},\n",
        "{'treinamento':'Data Science','moedas':40},\n",
        "{'treinamento':'Gestão de Projetos','moedas':50},\n",
        "{'treinamento':'Marketing','moedas':30},\n",
        "{'treinamento':'Cloud','moedas':20},\n",
        "{'treinamento':'Blockchain','moedas':10},\n",
        "{'treinamento':'Python','moedas':30}]\n",
        "\n",
        "pedidos = ['Scrum','Data Science','Gestão de Projetos','Marketing','Cloud','Python','Python','Python',\n",
        "'Scrum','Data Science','Gestão de Projetos','Marketing','Data Science','Gestão de Projetos',\n",
        "'Python','Marketing','Data Science','Gestão de Projetos','Data Science','Gestão de Projetos','Data Science']"
      ],
      "execution_count": null,
      "outputs": []
    },
    {
      "cell_type": "code",
      "metadata": {
        "colab": {
          "base_uri": "https://localhost:8080/"
        },
        "id": "IkuZkGhnMCZ1",
        "outputId": "cb0888ed-3e48-4e72-de26-d09f46f71283"
      },
      "source": [
        "pedidos_ordenados = Counter(pedidos).most_common()\n",
        "print(pedidos_ordenados)\n",
        "print(pedidos_ordenados[0])"
      ],
      "execution_count": null,
      "outputs": [
        {
          "output_type": "stream",
          "text": [
            "[('Data Science', 6), ('Gestão de Projetos', 5), ('Python', 4), ('Marketing', 3), ('Scrum', 2), ('Cloud', 1)]\n",
            "('Data Science', 6)\n"
          ],
          "name": "stdout"
        }
      ]
    },
    {
      "cell_type": "code",
      "metadata": {
        "colab": {
          "base_uri": "https://localhost:8080/"
        },
        "id": "5gCG7UHVjsvt",
        "outputId": "2fa628eb-2ed9-4ad1-b6bc-d38cfbd4070e"
      },
      "source": [
        "budget = 150\n",
        "cursos_adquiridos = []\n",
        "\n",
        "for a in treinamentos:\n",
        "  for b in range (len(pedidos_ordenados)):\n",
        "    if budget > 0 and pedidos_ordenados[b][0] and a['treinamento'] == 'Data Science':\n",
        "        print('Budget antes da compra:', budget)\n",
        "        budget -= a['moedas']\n",
        "        print('Após a compra:', budget)\n",
        "        print('Curso adquirido:', a['treinamento'])\n",
        "        print('----'*10)\n",
        "        cursos_adquiridos.append(a['treinamento'])\n",
        "        break\n",
        "    else:\n",
        "      if budget > 0 and pedidos_ordenados[b][0] and a['treinamento'] == 'Gestão de Projetos':\n",
        "        print('Budget antes da compra:', budget)\n",
        "        budget -= a['moedas']\n",
        "        print('Após a compra:', budget)\n",
        "        print('Curso adquirido:', a['treinamento'])\n",
        "        print('----'*10)\n",
        "        cursos_adquiridos.append(a['treinamento'])\n",
        "        break\n",
        "      else:\n",
        "        if budget > 0 and pedidos_ordenados[b][0] and a['treinamento'] == 'Python':\n",
        "          print('Budget antes da compra:', budget)\n",
        "          budget -= a['moedas']\n",
        "          print('Após a compra:', budget)\n",
        "          print('Curso adquirido:', a['treinamento'])\n",
        "          print('----'*10)\n",
        "          cursos_adquiridos.append(a['treinamento'])\n",
        "          break\n",
        "        else:\n",
        "          if budget > 0 and pedidos_ordenados[b][0] and a['treinamento'] == 'Marketing':\n",
        "            print('Budget antes da compra:', budget)\n",
        "            budget -= a['moedas']\n",
        "            print('Após a compra:', budget)\n",
        "            print('Curso adquirido:', a['treinamento'])\n",
        "            print('----'*10)\n",
        "            cursos_adquiridos.append(a['treinamento'])\n",
        "            break\n",
        "          else:\n",
        "            if budget <= 0:\n",
        "              print('Acabou o dinheiro')\n",
        "    \n",
        "    \n",
        "print('Cursos adquiridos:', cursos_adquiridos)"
      ],
      "execution_count": null,
      "outputs": [
        {
          "output_type": "stream",
          "text": [
            "Budget antes da compra: 150\n",
            "Após a compra: 110\n",
            "Curso adquirido: Data Science\n",
            "----------------------------------------\n",
            "Budget antes da compra: 110\n",
            "Após a compra: 60\n",
            "Curso adquirido: Gestão de Projetos\n",
            "----------------------------------------\n",
            "Budget antes da compra: 60\n",
            "Após a compra: 30\n",
            "Curso adquirido: Marketing\n",
            "----------------------------------------\n",
            "Budget antes da compra: 30\n",
            "Após a compra: 0\n",
            "Curso adquirido: Python\n",
            "----------------------------------------\n",
            "Cursos adquiridos: ['Data Science', 'Gestão de Projetos', 'Marketing', 'Python']\n"
          ],
          "name": "stdout"
        }
      ]
    },
    {
      "cell_type": "markdown",
      "metadata": {
        "id": "p2SvuepECsz0"
      },
      "source": [
        "### Auxílio para a resolução\n",
        "\n",
        "Os códigos a seguir foram utilizados para entendimento e desenvolvimento da lógica utilizada na resolução do case"
      ]
    },
    {
      "cell_type": "code",
      "metadata": {
        "id": "TuMhVef2Me31"
      },
      "source": [
        "budget = 150\n",
        "\n",
        "for a in range(len(pedidos_ordenados)):\n",
        "  if budget >=0:\n",
        "    budget -= "
      ],
      "execution_count": null,
      "outputs": []
    },
    {
      "cell_type": "code",
      "metadata": {
        "colab": {
          "base_uri": "https://localhost:8080/"
        },
        "id": "87HO5NqcPqCF",
        "outputId": "34e4233d-4adf-45ff-ff38-d95ff640c3a4"
      },
      "source": [
        "for a in treinamentos:\n",
        "  print(a['treinamento'])"
      ],
      "execution_count": null,
      "outputs": [
        {
          "output_type": "stream",
          "text": [
            "Scrum\n",
            "Data Science\n",
            "Gestão de Projetos\n",
            "Marketing\n",
            "Cloud\n",
            "Blockchain\n",
            "Python\n"
          ],
          "name": "stdout"
        }
      ]
    },
    {
      "cell_type": "code",
      "metadata": {
        "colab": {
          "base_uri": "https://localhost:8080/"
        },
        "id": "DeC_SirxPtDZ",
        "outputId": "923e7ca6-1473-46a2-e8ec-d7250be91604"
      },
      "source": [
        "for a in treinamentos:\n",
        "  if a['treinamento'] == 'Scrum':\n",
        "    print(a['moedas'])"
      ],
      "execution_count": null,
      "outputs": [
        {
          "output_type": "stream",
          "text": [
            "30\n"
          ],
          "name": "stdout"
        }
      ]
    },
    {
      "cell_type": "code",
      "metadata": {
        "colab": {
          "base_uri": "https://localhost:8080/"
        },
        "id": "0VEfjtooQVkR",
        "outputId": "c4526aa4-0277-428b-f571-35175a884e36"
      },
      "source": [
        "print(pedidos_ordenados[4])"
      ],
      "execution_count": null,
      "outputs": [
        {
          "output_type": "stream",
          "text": [
            "('Scrum', 2)\n"
          ],
          "name": "stdout"
        }
      ]
    },
    {
      "cell_type": "code",
      "metadata": {
        "colab": {
          "base_uri": "https://localhost:8080/"
        },
        "id": "yFn5_Ss4RU-y",
        "outputId": "11235d62-5707-4046-fcbe-0c491bd2124a"
      },
      "source": [
        "for a in treinamentos:\n",
        "  if pedidos_ordenados[4][0] == 'Scrum':\n",
        "      if a['treinamento'] == 'Scrum':\n",
        "        print(a['moedas'])"
      ],
      "execution_count": null,
      "outputs": [
        {
          "output_type": "stream",
          "text": [
            "30\n"
          ],
          "name": "stdout"
        }
      ]
    },
    {
      "cell_type": "code",
      "metadata": {
        "colab": {
          "base_uri": "https://localhost:8080/"
        },
        "id": "qqCsYz71TtRW",
        "outputId": "458da8ce-6065-49eb-fc76-2360ecf52234"
      },
      "source": [
        "for a in treinamentos:\n",
        "  if pedidos_ordenados[4][0] == 'Scrum' and a['treinamento'] == 'Scrum':\n",
        "      print(a['moedas'])"
      ],
      "execution_count": null,
      "outputs": [
        {
          "output_type": "stream",
          "text": [
            "30\n"
          ],
          "name": "stdout"
        }
      ]
    },
    {
      "cell_type": "code",
      "metadata": {
        "colab": {
          "base_uri": "https://localhost:8080/"
        },
        "id": "2GUx-9nrT0b3",
        "outputId": "b155b5f1-ea18-4884-acad-9d0f6f8f5955"
      },
      "source": [
        "for a in treinamentos:\n",
        "  if pedidos_ordenados[4][0] and a['treinamento'] == 'Scrum':\n",
        "      print(a['moedas'])"
      ],
      "execution_count": null,
      "outputs": [
        {
          "output_type": "stream",
          "text": [
            "30\n"
          ],
          "name": "stdout"
        }
      ]
    },
    {
      "cell_type": "code",
      "metadata": {
        "colab": {
          "base_uri": "https://localhost:8080/"
        },
        "id": "Izd7Xd96VLwD",
        "outputId": "78f1f382-5ff2-4a58-ab5c-2fa4c79e1352"
      },
      "source": [
        "budget = 150\n",
        "\n",
        "for a in treinamentos:\n",
        "  if pedidos_ordenados[4][0] and a['treinamento'] == 'Scrum':\n",
        "      budget -= a['moedas']\n",
        "      print(budget)"
      ],
      "execution_count": null,
      "outputs": [
        {
          "output_type": "stream",
          "text": [
            "120\n"
          ],
          "name": "stdout"
        }
      ]
    },
    {
      "cell_type": "code",
      "metadata": {
        "colab": {
          "base_uri": "https://localhost:8080/"
        },
        "id": "zCOI2moJtBYG",
        "outputId": "550ed962-2bf1-4673-da24-eea96610c77e"
      },
      "source": [
        "budget = 150\n",
        "\n",
        "for a in treinamentos:\n",
        "  for b in range (len(pedidos_ordenados)):\n",
        "    if budget > 0 and pedidos_ordenados[b][0] and a['treinamento'] == 'Data Science':\n",
        "        print('Budget antes da compra:', budget)\n",
        "        budget -= a['moedas']\n",
        "        print('Curso adquirido:', a['treinamento'])\n",
        "        print('Após a compra:', budget)\n",
        "        break\n",
        "    else:\n",
        "      if budget > 0 and pedidos_ordenados[b][0] and a['treinamento'] == 'Gestão de Projetos':\n",
        "        print('Budget antes da compra:', budget)\n",
        "        budget -= a['moedas']\n",
        "        print('Após a compra:', budget)\n",
        "        print('Curso adquirido:', a['treinamento'])\n",
        "        break\n",
        "      else:\n",
        "        if budget > 0 and pedidos_ordenados[b][0] and a['treinamento'] == 'Python':\n",
        "          print('Budget antes da compra:', budget)\n",
        "          budget -= a['moedas']\n",
        "          print('Após a compra:', budget)\n",
        "          print('Curso adquirido:', a['treinamento'])\n",
        "          break\n",
        "        else:\n",
        "          if budget > 0 and pedidos_ordenados[b][0] and a['treinamento'] == 'Marketing':\n",
        "            print('Budget antes da compra:', budget)\n",
        "            budget -= a['moedas']\n",
        "            print('Após a compra:', budget)\n",
        "            print('Curso adquirido:', a['treinamento'])\n",
        "            break\n",
        "\n",
        "    "
      ],
      "execution_count": null,
      "outputs": [
        {
          "output_type": "stream",
          "text": [
            "Budget antes da compra: 150\n",
            "Curso adquirido: Data Science\n",
            "Após a compra: 110\n",
            "Budget antes da compra: 110\n",
            "Após a compra: 60\n",
            "Curso adquirido: Gestão de Projetos\n",
            "Budget antes da compra: 60\n",
            "Após a compra: 30\n",
            "Curso adquirido: Marketing\n",
            "Budget antes da compra: 30\n",
            "Após a compra: 0\n",
            "Curso adquirido: Python\n"
          ],
          "name": "stdout"
        }
      ]
    },
    {
      "cell_type": "code",
      "metadata": {
        "colab": {
          "base_uri": "https://localhost:8080/"
        },
        "id": "DGLoscEa9w0p",
        "outputId": "96ac3708-83d4-4bc3-8129-6cd1241e88a0"
      },
      "source": [
        "budget = 150\n",
        "\n",
        "for a in treinamentos:\n",
        "  for b in range (len(pedidos_ordenados)):\n",
        "    if budget > 0 and pedidos_ordenados[b][0] and a['treinamento'] == 'Data Science':\n",
        "        print('Budget antes da compra:', budget)\n",
        "        budget -= a['moedas']\n",
        "        print('Curso adquirido:', a['treinamento'])\n",
        "        print('Após a compra:', budget)\n",
        "        break\n",
        "    else:\n",
        "      if budget > 0 and pedidos_ordenados[b][0] and a['treinamento'] == 'Gestão de Projetos':\n",
        "        print('Budget antes da compra:', budget)\n",
        "        budget -= a['moedas']\n",
        "        print('Após a compra:', budget)\n",
        "        print('Curso adquirido:', a['treinamento'])\n",
        "        break\n",
        "      else:\n",
        "        if budget > 0 and pedidos_ordenados[b][0] and a['treinamento'] == 'Python':\n",
        "          print('Budget antes da compra:', budget)\n",
        "          budget -= a['moedas']\n",
        "          print('Após a compra:', budget)\n",
        "          print('Curso adquirido:', a['treinamento'])\n",
        "          break\n",
        "        else:\n",
        "          if budget > 0 and pedidos_ordenados[b][0] and a['treinamento'] == 'Marketing':\n",
        "            print('Budget antes da compra:', budget)\n",
        "            budget -= a['moedas']\n",
        "            print('Após a compra:', budget)\n",
        "            print('Curso adquirido:', a['treinamento'])\n",
        "            break\n",
        "          else:\n",
        "            if budget > 0 and pedidos_ordenados[b][0] and a['treinamento'] == 'Scrum':\n",
        "              print('Budget antes da compra:', budget)\n",
        "              budget -= a['moedas']\n",
        "              print('Após a compra:', budget)\n",
        "              print('Curso adquirido:', a['treinamento'])\n",
        "              break\n",
        "            else:\n",
        "              if budget > 0 and pedidos_ordenados[b][0] and a['treinamento'] == 'Cloud':\n",
        "                print('Budget antes da compra:', budget)\n",
        "                budget -= a['moedas']\n",
        "                print('Após a compra:', budget)\n",
        "                print('Curso adquirido:', a['treinamento'])\n",
        "                break\n",
        "              else:\n",
        "                print('Acabou o dinheiro')\n",
        "                break\n",
        "            "
      ],
      "execution_count": null,
      "outputs": [
        {
          "output_type": "stream",
          "text": [
            "Budget antes da compra: 150\n",
            "Após a compra: 120\n",
            "Curso adquirido: Scrum\n",
            "Budget antes da compra: 120\n",
            "Curso adquirido: Data Science\n",
            "Após a compra: 80\n",
            "Budget antes da compra: 80\n",
            "Após a compra: 30\n",
            "Curso adquirido: Gestão de Projetos\n",
            "Budget antes da compra: 30\n",
            "Após a compra: 0\n",
            "Curso adquirido: Marketing\n",
            "Acabou o dinheiro\n",
            "Acabou o dinheiro\n",
            "Acabou o dinheiro\n"
          ],
          "name": "stdout"
        }
      ]
    },
    {
      "cell_type": "code",
      "metadata": {
        "colab": {
          "base_uri": "https://localhost:8080/"
        },
        "id": "jC0Sb8XJ_ClI",
        "outputId": "d035b623-b482-4d6d-ce8e-6005d5c67975"
      },
      "source": [
        "budget = 150\n",
        "cursos_adquiridos = []\n",
        "\n",
        "for a in treinamentos:\n",
        "  for b in range (len(pedidos_ordenados)):\n",
        "    if budget > 0 and pedidos_ordenados[b][0] and a['treinamento'] == 'Data Science':\n",
        "        cursos_adquiridos.append(a['treinamento'])\n",
        "        budget -= a['moedas']\n",
        "        break\n",
        "    else:\n",
        "      if budget > 0 and pedidos_ordenados[b][0] and a['treinamento'] == 'Gestão de Projetos':\n",
        "        cursos_adquiridos.append(a['treinamento'])\n",
        "        budget -= a['moedas']\n",
        "        break\n",
        "      else:\n",
        "        if budget > 0 and pedidos_ordenados[b][0] and a['treinamento'] == 'Python':\n",
        "          cursos_adquiridos.append(a['treinamento'])\n",
        "          budget -= a['moedas']\n",
        "          break\n",
        "        else:\n",
        "          if budget > 0 and pedidos_ordenados[b][0] and a['treinamento'] == 'Marketing':\n",
        "            cursos_adquiridos.append(a['treinamento'])\n",
        "            budget -= a['moedas']\n",
        "            break\n",
        "          else:\n",
        "            if budget > 0 and pedidos_ordenados[b][0] and a['treinamento'] == 'Scrum':\n",
        "              cursos_adquiridos.append(a['treinamento'])\n",
        "              budget -= a['moedas']\n",
        "              break\n",
        "            else:\n",
        "              if budget > 0 and pedidos_ordenados[b][0] and a['treinamento'] == 'Cloud':\n",
        "                cursos_adquiridos.append(a['treinamento'])\n",
        "                budget -= a['moedas']\n",
        "                break\n",
        "              else:\n",
        "                print('Acabou o dinheiro')\n",
        "                break\n",
        "            \n",
        "print(cursos_adquiridos)"
      ],
      "execution_count": null,
      "outputs": [
        {
          "output_type": "stream",
          "text": [
            "Acabou o dinheiro\n",
            "Acabou o dinheiro\n",
            "Acabou o dinheiro\n",
            "['Scrum', 'Data Science', 'Gestão de Projetos', 'Marketing']\n"
          ],
          "name": "stdout"
        }
      ]
    },
    {
      "cell_type": "code",
      "metadata": {
        "colab": {
          "base_uri": "https://localhost:8080/"
        },
        "id": "X-LBYfX0prb4",
        "outputId": "907f84cc-e5fb-4530-e213-feb6db4f37b8"
      },
      "source": [
        "budget = 150\n",
        "\n",
        "for a in treinamentos:\n",
        "  for b in range (len(pedidos_ordenados)):\n",
        "    if budget > 0 and pedidos_ordenados[b][0] and a['treinamento'] == 'Data Science':\n",
        "        print('Budget antes da compra:', budget)\n",
        "        budget -= a['moedas']\n",
        "        print('Curso adquirido:', a['treinamento'])\n",
        "        print('Após a compra:', budget)\n",
        "    elif budget > 0 and pedidos_ordenados[b][0] and a['treinamento'] == 'Gestão de Projetos':\n",
        "        print('Budget antes da compra:', budget)\n",
        "        budget -= a['moedas']\n",
        "        print('Após a compra:', budget)\n",
        "        print('Curso adquirido:', a['treinamento'])\n",
        "    elif budget > 0 and pedidos_ordenados[b][0] and a['treinamento'] == 'Python':\n",
        "        print('Budget antes da compra:', budget)\n",
        "        budget -= a['moedas']\n",
        "        print('Após a compra:', budget)\n",
        "        print('Curso adquirido:', a['treinamento'])\n",
        "    elif budget > 0 and pedidos_ordenados[b][0] and a['treinamento'] == 'Marketing':\n",
        "        print('Budget antes da compra:', budget)\n",
        "        budget -= a['moedas']\n",
        "        print('Após a compra:', budget)\n",
        "        print('Curso adquirido:', a['treinamento'])\n",
        "    elif budget > 0 and pedidos_ordenados[b][0] and a['treinamento'] == 'Scrum':\n",
        "        print('Budget antes da compra:', budget)\n",
        "        budget -= a['moedas']\n",
        "        print('Após a compra:', budget)\n",
        "        print('Curso adquirido:', a['treinamento'])\n",
        "    elif budget > 0 and pedidos_ordenados[b][0] and a['treinamento'] == 'Cloud':\n",
        "        print('Budget antes da compra:', budget)\n",
        "        budget -= a['moedas']\n",
        "        print('Após a compra:', budget)\n",
        "        print('Curso adquirido:', a['treinamento'])\n",
        "    break"
      ],
      "execution_count": null,
      "outputs": [
        {
          "output_type": "stream",
          "text": [
            "Budget antes da compra: 150\n",
            "Após a compra: 120\n",
            "Curso adquirido: Scrum\n",
            "Budget antes da compra: 120\n",
            "Curso adquirido: Data Science\n",
            "Após a compra: 80\n",
            "Budget antes da compra: 80\n",
            "Após a compra: 30\n",
            "Curso adquirido: Gestão de Projetos\n",
            "Budget antes da compra: 30\n",
            "Após a compra: 0\n",
            "Curso adquirido: Marketing\n"
          ],
          "name": "stdout"
        }
      ]
    },
    {
      "cell_type": "code",
      "metadata": {
        "colab": {
          "base_uri": "https://localhost:8080/"
        },
        "id": "F9oq5cSBRqvy",
        "outputId": "f49fcf3f-abe9-4c50-a4a4-81900c757c88"
      },
      "source": [
        "type(pedidos_ordenados[4])"
      ],
      "execution_count": null,
      "outputs": [
        {
          "output_type": "execute_result",
          "data": {
            "text/plain": [
              "tuple"
            ]
          },
          "metadata": {
            "tags": []
          },
          "execution_count": 140
        }
      ]
    },
    {
      "cell_type": "code",
      "metadata": {
        "colab": {
          "base_uri": "https://localhost:8080/"
        },
        "id": "K4-txq_mRsps",
        "outputId": "cd72e1f9-7fa0-402b-ebdd-4a6b861e8cbf"
      },
      "source": [
        "print(pedidos_ordenados[4][0])"
      ],
      "execution_count": null,
      "outputs": [
        {
          "output_type": "stream",
          "text": [
            "Scrum\n"
          ],
          "name": "stdout"
        }
      ]
    },
    {
      "cell_type": "code",
      "metadata": {
        "colab": {
          "base_uri": "https://localhost:8080/"
        },
        "id": "zNdahXnvSHQH",
        "outputId": "886b6b5c-97ca-48ba-9c07-8e5b9096b477"
      },
      "source": [
        "print(len(treinamentos))"
      ],
      "execution_count": null,
      "outputs": [
        {
          "output_type": "stream",
          "text": [
            "7\n"
          ],
          "name": "stdout"
        }
      ]
    },
    {
      "cell_type": "code",
      "metadata": {
        "colab": {
          "base_uri": "https://localhost:8080/"
        },
        "id": "WN5fsvVHWIVi",
        "outputId": "7420be52-abec-44e0-96b5-6657f8b9bfbb"
      },
      "source": [
        "print(len(pedidos_ordenados))"
      ],
      "execution_count": null,
      "outputs": [
        {
          "output_type": "stream",
          "text": [
            "6\n"
          ],
          "name": "stdout"
        }
      ]
    },
    {
      "cell_type": "code",
      "metadata": {
        "colab": {
          "base_uri": "https://localhost:8080/"
        },
        "id": "othysHWaWUrh",
        "outputId": "82a70124-a797-409a-f225-b52604455910"
      },
      "source": [
        "print(pedidos_ordenados[0][0])"
      ],
      "execution_count": null,
      "outputs": [
        {
          "output_type": "stream",
          "text": [
            "Data Science\n"
          ],
          "name": "stdout"
        }
      ]
    },
    {
      "cell_type": "code",
      "metadata": {
        "id": "t7aO7nIwXCi3"
      },
      "source": [
        ""
      ],
      "execution_count": null,
      "outputs": []
    }
  ]
}