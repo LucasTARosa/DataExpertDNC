{
  "nbformat": 4,
  "nbformat_minor": 0,
  "metadata": {
    "colab": {
      "name": "Cases.ipynb",
      "provenance": []
    },
    "kernelspec": {
      "name": "python3",
      "display_name": "Python 3"
    },
    "language_info": {
      "name": "python"
    }
  },
  "cells": [
    {
      "cell_type": "markdown",
      "metadata": {
        "id": "f1uvx2W1y0Mg"
      },
      "source": [
        "#Python 0 - Case 1\n",
        "1- Uma empresa te enviou 3 listas, uma representa a largura, outra representa a altura e a terceira representa a área em m2 de determinado terreno, todas estão ordenadas entretanto tem alguns valores faltantes que precisam ser preenchidos, preencha os valores faltantes:\n",
        "\n",
        "Todos os terrenos dessa empresa são retangulares e você pode utilizar a fórmula abaixo:\n",
        "a = b. h (área = largura * altura)\n",
        "\n",
        "Utilize as listas abaixo:\n",
        "area = [200,'null',720,1500,1000,275,'null',1200,2400,'null']\n",
        "altura = ['null',30,40,30,10,25,33,'null',12,20]\n",
        "largura = [20,20,'null',50,100,'null',30,100,200,10]\n",
        "\n",
        "2- Geralmente os Terrenos possuem maior altura ou largura?\n",
        "Utilize as listas completas geradas no exercício anterior\n",
        "\n",
        "\n",
        "3- Quantos metros a empresa tem no total e qual é a média de tamanho dos terrenos?\n",
        "Utilize as listas completas geradas no primeiro exercício"
      ]
    },
    {
      "cell_type": "code",
      "metadata": {
        "id": "ABUsOljQywP8"
      },
      "source": [
        "#Exercício 1\n",
        "area = [200, 'null', 720, 1500, 1000, 275, 'null', 1200, 2400, 'null']\n",
        "altura = ['null', 30, 40, 30, 10, 25, 33, 'null', 12, 20]\n",
        "largura = [20, 20, 'null', 50, 100, 'null', 30, 100, 200, 10]"
      ],
      "execution_count": 4,
      "outputs": []
    },
    {
      "cell_type": "code",
      "metadata": {
        "id": "BrF5jGdtzn2m"
      },
      "source": [
        "for a in range(len(area)):\n",
        "  if area[a] == 'null':\n",
        "    area_calculada = altura[a]*largura[a]\n",
        "    area[a] = area_calculada\n",
        "  elif altura[a] == 'null':\n",
        "    altura_calculada = area[a]/largura[a]\n",
        "    altura[a] = altura_calculada\n",
        "  elif largura[a] == 'null':\n",
        "    largura_calculada = area[a]/altura[a]\n",
        "    largura[a] = largura_calculada"
      ],
      "execution_count": 5,
      "outputs": []
    },
    {
      "cell_type": "code",
      "metadata": {
        "colab": {
          "base_uri": "https://localhost:8080/"
        },
        "id": "fYItmhmI3qgO",
        "outputId": "1e51a8cc-2840-4bd4-af79-66102e138f7c"
      },
      "source": [
        "print(area, altura, largura)"
      ],
      "execution_count": 6,
      "outputs": [
        {
          "output_type": "stream",
          "text": [
            "[200, 600, 720, 1500, 1000, 275, 990, 1200, 2400, 200] [10.0, 30, 40, 30, 10, 25, 33, 12.0, 12, 20] [20, 20, 18.0, 50, 100, 11.0, 30, 100, 200, 10]\n"
          ],
          "name": "stdout"
        }
      ]
    },
    {
      "cell_type": "code",
      "metadata": {
        "colab": {
          "base_uri": "https://localhost:8080/"
        },
        "id": "PQIY-Tyj710W",
        "outputId": "1fce0d19-9410-4b18-aa64-47b3a76ae97b"
      },
      "source": [
        "print(area)\n",
        "print(altura)\n",
        "print(largura)"
      ],
      "execution_count": 7,
      "outputs": [
        {
          "output_type": "stream",
          "text": [
            "[200, 600, 720, 1500, 1000, 275, 990, 1200, 2400, 200]\n",
            "[10.0, 30, 40, 30, 10, 25, 33, 12.0, 12, 20]\n",
            "[20, 20, 18.0, 50, 100, 11.0, 30, 100, 200, 10]\n"
          ],
          "name": "stdout"
        }
      ]
    },
    {
      "cell_type": "code",
      "metadata": {
        "colab": {
          "base_uri": "https://localhost:8080/"
        },
        "id": "uLorZgkT4e2N",
        "outputId": "6e322c3f-a6f3-4eb2-a57a-c07915202882"
      },
      "source": [
        "#Exercício 2\n",
        "alt = 0\n",
        "larg = 0\n",
        "\n",
        "for a in range(len(largura)):\n",
        "  if largura[a] > altura[a]:\n",
        "    larg += 1\n",
        "  elif altura[a] > largura[a]:\n",
        "    alt += 1\n",
        "\n",
        "print('O número de terrenos em que a altura é maior do que a largura é:', alt)\n",
        "print('O número de terrenos em que a largura é maior do que a altura é: ', larg)\n",
        "if alt > larg:\n",
        "  print('Geralmente os terrenos possuem a altura maior do que a largura')\n",
        "elif larg > alt:\n",
        "  print('Geralmente os terrenos possuem a largura maior do que a altura')\n",
        "else:\n",
        "  print('O terreno possui altura e largura distribuidos igualmente')"
      ],
      "execution_count": 8,
      "outputs": [
        {
          "output_type": "stream",
          "text": [
            "O número de terrenos em que a altura é maior do que a largura é: 5\n",
            "O número de terrenos em que a largura é maior do que a altura é:  5\n",
            "O terreno possui altura e largura distribuidos igualmente\n"
          ],
          "name": "stdout"
        }
      ]
    },
    {
      "cell_type": "code",
      "metadata": {
        "colab": {
          "base_uri": "https://localhost:8080/"
        },
        "id": "BBTG-GpV6xps",
        "outputId": "04e78f0b-8018-4385-afff-8da39e3edb6c"
      },
      "source": [
        "#exercicio 3\n",
        "\n",
        "from functools import reduce\n",
        "\n",
        "soma_area = reduce(lambda x,y : x+y, area)\n",
        "elementos_area = len(area)\n",
        "media = soma_area / elementos_area\n",
        "soma_largura = reduce(lambda x,y : x+y, largura)\n",
        "soma_altura = reduce(lambda x,y : x+y, altura)\n",
        "\n",
        "print('A soma da largura é: ', soma_largura, 'm')\n",
        "print('A soma da altura é: ', soma_altura,'m')\n",
        "print('A soma total de metros é: ', soma_largura+soma_altura, 'm')\n",
        "print('A área total dos terrenos é: ', soma_area, 'm²')\n",
        "print('A média da área dos terrenos é: ', media, 'm²')"
      ],
      "execution_count": 9,
      "outputs": [
        {
          "output_type": "stream",
          "text": [
            "A soma da largura é:  559.0 m\n",
            "A soma da altura é:  222.0 m\n",
            "A soma total de metros é:  781.0 m\n",
            "A área total dos terrenos é:  9085 m²\n",
            "A média da área dos terrenos é:  908.5 m²\n"
          ],
          "name": "stdout"
        }
      ]
    },
    {
      "cell_type": "markdown",
      "metadata": {
        "id": "Wqaa0Ap6AILj"
      },
      "source": [
        "#Case 2\n",
        "\n",
        "1- Você recebeu um arquivo chamado usuarios_feedback, nesse arquivo contém o comentário, nome, gênero e nota de usuários referente a um produto de sua empresas. Você precisa verificar quais as palavras que mais apareceram nos comentários:\n",
        "\n",
        "usuarios_feedback = [{'nome':'Peter','nota':9,'genero':'M','comentario':'bom demais e agil'},\n",
        "{'nome':'Joao','nota':10,'genero':'M','comentario':'agil e eficiente'},\n",
        "{'nome':'user_not_found','nota':0,'genero':'M','comentario':'Horrível'},\n",
        "{'nome':'Marta','nota':10,'genero':'F','comentario':'muito agil bom demais'},\n",
        "{'nome':'Beatriz','nota':10,'genero':'F','comentario':'rápido e eficaz'},\n",
        "{'nome':'user_not_found','nota':2,'genero':'M','comentario':'ruim'},\n",
        "{'nome':'Jéssica','nota':10,'genero':'F','comentario':'agil'},\n",
        "{'nome':'José','nota':7,'genero':'M','comentario':'ok'},\n",
        "{'nome':'Elias','nota':5,'genero':'M','comentario':'precisa melhorar'},\n",
        "{'nome':'Miriã','nota':9,'genero':'F','comentario':'foi muito agil e rápido'},\n",
        "{'nome':'Maria','nota':10,'genero':'F','comentario':'muito bom e agil'}]\n",
        "\n",
        "2- Usando o mesmo arquivo, calcular a média das notas separadas por gênero:\n",
        "usuarios_feedback = [{'nome':'Peter','nota':9,'genero':'M','comentario':'bom demais e agil'},\n",
        "{'nome':'Joao','nota':10,'genero':'M','comentario':'agil e eficiente'},\n",
        "{'nome':'user_not_found','nota':0,'genero':'M','comentario':'Horrível'},\n",
        "{'nome':'Marta','nota':10,'genero':'F','comentario':'muito agil bom demais'},\n",
        "{'nome':'Beatriz','nota':10,'genero':'F','comentario':'rápido e eficaz'},\n",
        "{'nome':'user_not_found','nota':2,'genero':'M','comentario':'ruim'},\n",
        "{'nome':'Jéssica','nota':10,'genero':'F','comentario':'agil'},\n",
        "{'nome':'José','nota':7,'genero':'M','comentario':'ok'},\n",
        "{'nome':'Elias','nota':5,'genero':'M','comentario':'precisa melhorar'},\n",
        "{'nome':'Miriã','nota':9,'genero':'F','comentario':'foi muito agil e rápido'},\n",
        "{'nome':'Maria','nota':10,'genero':'F','comentario':'muito bom e agil'}]"
      ]
    },
    {
      "cell_type": "code",
      "metadata": {
        "colab": {
          "base_uri": "https://localhost:8080/"
        },
        "id": "V-jt0idO9vqy",
        "outputId": "ab796857-278e-4af7-e50b-36e4e2644117"
      },
      "source": [
        "#Exercício 1 - Case 2\n",
        "\n",
        "usuarios_feedback = [{'nome':'Peter','nota':9,'genero':'M','comentario':'bom demais e agil'}, \n",
        "                     {'nome':'Joao','nota':10,'genero':'M','comentario':'agil e eficiente'}, \n",
        "                     {'nome':'user_not_found','nota':0,'genero':'M','comentario':'Horrível'}, \n",
        "                     {'nome':'Marta','nota':10,'genero':'F','comentario':'muito agil bom demais'}, \n",
        "                     {'nome':'Beatriz','nota':10,'genero':'F','comentario':'rápido e eficaz'}, \n",
        "                     {'nome':'user_not_found','nota':2,'genero':'M','comentario':'ruim'}, \n",
        "                     {'nome':'Jéssica','nota':10,'genero':'F','comentario':'agil'},\n",
        "                     {'nome':'José','nota':7,'genero':'M','comentario':'ok'}, \n",
        "                     {'nome':'Elias','nota':5,'genero':'M','comentario':'precisa melhorar'}, \n",
        "                     {'nome':'Miriã','nota':9,'genero':'F','comentario':'foi muito agil e rápido'}, \n",
        "                     {'nome':'Maria','nota':10,'genero':'F','comentario':'muito bom e agil'}]\n",
        "\n",
        "type(usuarios_feedback)"
      ],
      "execution_count": 10,
      "outputs": [
        {
          "output_type": "execute_result",
          "data": {
            "text/plain": [
              "list"
            ]
          },
          "metadata": {
            "tags": []
          },
          "execution_count": 10
        }
      ]
    },
    {
      "cell_type": "code",
      "metadata": {
        "colab": {
          "base_uri": "https://localhost:8080/"
        },
        "id": "wS2GFclDAhvl",
        "outputId": "be8800be-e828-45b3-efb7-0eb8fe80e178"
      },
      "source": [
        "#Exercício 1\n",
        "print(usuarios_feedback[0])"
      ],
      "execution_count": 11,
      "outputs": [
        {
          "output_type": "stream",
          "text": [
            "{'nome': 'Peter', 'nota': 9, 'genero': 'M', 'comentario': 'bom demais e agil'}\n"
          ],
          "name": "stdout"
        }
      ]
    },
    {
      "cell_type": "code",
      "metadata": {
        "colab": {
          "base_uri": "https://localhost:8080/"
        },
        "id": "fC98lNrXC6vP",
        "outputId": "1832c144-caf8-4aa0-b59f-28509acec611"
      },
      "source": [
        "print(usuarios_feedback[0]['comentario'].split())"
      ],
      "execution_count": 12,
      "outputs": [
        {
          "output_type": "stream",
          "text": [
            "['bom', 'demais', 'e', 'agil']\n"
          ],
          "name": "stdout"
        }
      ]
    },
    {
      "cell_type": "code",
      "metadata": {
        "colab": {
          "base_uri": "https://localhost:8080/"
        },
        "id": "kFAMPE4NDMFH",
        "outputId": "9be922d0-c81e-4c99-bbb8-164aa462f793"
      },
      "source": [
        "from collections import Counter\n",
        "coments = []\n",
        "\n",
        "for a in range(len(usuarios_feedback)):\n",
        "  coments.extend(usuarios_feedback[a]['comentario'].split())\n",
        "\n",
        "palavra_mais_comum = Counter(coments).most_common()\n",
        "print('A palavra mais comum é:', palavra_mais_comum[0])"
      ],
      "execution_count": 13,
      "outputs": [
        {
          "output_type": "stream",
          "text": [
            "A palavra mais comum é: ('agil', 6)\n"
          ],
          "name": "stdout"
        }
      ]
    },
    {
      "cell_type": "code",
      "metadata": {
        "colab": {
          "base_uri": "https://localhost:8080/"
        },
        "id": "6m1Dp-SCDjKv",
        "outputId": "c66b2cbb-982a-495b-e73b-9b8b43ba946f"
      },
      "source": [
        "coments.sort(key=len)\n",
        "print(coments)"
      ],
      "execution_count": 14,
      "outputs": [
        {
          "output_type": "stream",
          "text": [
            "['e', 'e', 'e', 'e', 'e', 'ok', 'bom', 'bom', 'foi', 'bom', 'agil', 'agil', 'agil', 'ruim', 'agil', 'agil', 'agil', 'muito', 'muito', 'muito', 'demais', 'demais', 'rápido', 'eficaz', 'rápido', 'precisa', 'Horrível', 'melhorar', 'eficiente']\n"
          ],
          "name": "stdout"
        }
      ]
    },
    {
      "cell_type": "code",
      "metadata": {
        "colab": {
          "base_uri": "https://localhost:8080/"
        },
        "id": "omI74WKPEug7",
        "outputId": "f45fc5d1-a4ae-4f4b-8083-62288f123dbf"
      },
      "source": [
        "from collections import Counter\n",
        "palavra_mais_comum = Counter(coments).most_common()\n",
        "print(palavra_mais_comum)\n",
        "print('a palavra mais comum é:', palavra_mais_comum[0])"
      ],
      "execution_count": 15,
      "outputs": [
        {
          "output_type": "stream",
          "text": [
            "[('agil', 6), ('e', 5), ('bom', 3), ('muito', 3), ('demais', 2), ('rápido', 2), ('ok', 1), ('foi', 1), ('ruim', 1), ('eficaz', 1), ('precisa', 1), ('Horrível', 1), ('melhorar', 1), ('eficiente', 1)]\n",
            "a palavra mais comum é: ('agil', 6)\n"
          ],
          "name": "stdout"
        }
      ]
    },
    {
      "cell_type": "code",
      "metadata": {
        "colab": {
          "base_uri": "https://localhost:8080/"
        },
        "id": "uGGo5ywHFrRP",
        "outputId": "9e3b11f3-eb0f-4d3d-af50-7c2c399069a4"
      },
      "source": [
        "#Exercicio 2\n",
        "\n",
        "masculino = []\n",
        "feminino = []\n",
        "\n",
        "for a in range(len(usuarios_feedback)):\n",
        "  if usuarios_feedback[a]['genero'] == 'M':\n",
        "    masculino.append(usuarios_feedback[a]['nota'])\n",
        "  elif usuarios_feedback[a]['genero'] == 'F':\n",
        "    feminino.append(usuarios_feedback[a]['nota'])\n",
        "\n",
        "soma_masculino = reduce(lambda x,y : x+y, masculino)\n",
        "soma_feminino = reduce(lambda x,y : x+y, feminino)\n",
        "\n",
        "print('A média das notas para o gênero masculino é:', soma_masculino/len(masculino))\n",
        "print('A média das notas para o gênero feminino é:', soma_feminino/len(feminino))"
      ],
      "execution_count": 16,
      "outputs": [
        {
          "output_type": "stream",
          "text": [
            "A média das notas para o gênero masculino é: 5.5\n",
            "A média das notas para o gênero feminino é: 9.8\n"
          ],
          "name": "stdout"
        }
      ]
    },
    {
      "cell_type": "code",
      "metadata": {
        "colab": {
          "base_uri": "https://localhost:8080/"
        },
        "id": "taUnEVq5IP33",
        "outputId": "21fdfb81-a7b5-4d53-c3c4-b2cbac089619"
      },
      "source": [
        "from functools import reduce\n",
        "\n",
        "soma_masculino = reduce(lambda x,y : x+y, masculino)\n",
        "soma_feminino = reduce(lambda x,y : x+y, feminino)\n",
        "\n",
        "print('A média das notas para o gênero masculino é:', soma_masculino/len(masculino))\n",
        "print('A média das notas para o gênero feminino é:', soma_feminino/len(feminino))"
      ],
      "execution_count": 17,
      "outputs": [
        {
          "output_type": "stream",
          "text": [
            "A média das notas para o gênero masculino é: 5.5\n",
            "A média das notas para o gênero feminino é: 9.8\n"
          ],
          "name": "stdout"
        }
      ]
    },
    {
      "cell_type": "markdown",
      "metadata": {
        "id": "IWJY119VLfH4"
      },
      "source": [
        "#Case 3\n",
        "\n",
        "1- Sua empresa te passou uma lista com requisições de treinamentos (muitos repetidos), você tem que definir o cenário que melhor atenda os pedidos, o budget é de 150 moedas e você tem um dicionário que contém o nome do treinamento e o valor dele\n",
        "\n",
        "treinamentos = [{'treinamento':'Scrum','moedas':30},\n",
        "{'treinamento':'Data Science','moedas':40},\n",
        "{'treinamento':'Gestão de Projetos','moedas':50},\n",
        "{'treinamento':'Marketing','moedas':30},\n",
        "{'treinamento':'Cloud','moedas':20},\n",
        "{'treinamento':'Blockchain','moedas':10},\n",
        "{'treinamento':'Python','moedas':30}]\n",
        "\n",
        "pedidos = ['Scrum','Data Science','Gestão de Projetos','Marketing','Cloud','Python','Python','Python',\n",
        "'Scrum','Data Science','Gestão de Projetos','Marketing','Data Science','Gestão de Projetos',\n",
        "'Python','Marketing','Data Science','Gestão de Projetos','Data Science','Gestão de Projetos','Data Science']"
      ]
    },
    {
      "cell_type": "code",
      "metadata": {
        "id": "EZpeDWj-IVsC"
      },
      "source": [
        "#Resolução\n",
        "treinamentos = [{'treinamento':'Scrum','moedas':30},\n",
        "{'treinamento':'Data Science','moedas':40},\n",
        "{'treinamento':'Gestão de Projetos','moedas':50},\n",
        "{'treinamento':'Marketing','moedas':30},\n",
        "{'treinamento':'Cloud','moedas':20},\n",
        "{'treinamento':'Blockchain','moedas':10},\n",
        "{'treinamento':'Python','moedas':30}]\n",
        "\n",
        "pedidos = ['Scrum','Data Science','Gestão de Projetos','Marketing','Cloud','Python','Python','Python',\n",
        "'Scrum','Data Science','Gestão de Projetos','Marketing','Data Science','Gestão de Projetos',\n",
        "'Python','Marketing','Data Science','Gestão de Projetos','Data Science','Gestão de Projetos','Data Science']"
      ],
      "execution_count": 18,
      "outputs": []
    },
    {
      "cell_type": "code",
      "metadata": {
        "colab": {
          "base_uri": "https://localhost:8080/"
        },
        "id": "IkuZkGhnMCZ1",
        "outputId": "8c35aec4-b8a7-4918-fc1c-c8c754897052"
      },
      "source": [
        "pedidos_ordenados = Counter(pedidos).most_common()\n",
        "print(pedidos_ordenados)\n",
        "print(pedidos_ordenados[0])"
      ],
      "execution_count": 19,
      "outputs": [
        {
          "output_type": "stream",
          "text": [
            "[('Data Science', 6), ('Gestão de Projetos', 5), ('Python', 4), ('Marketing', 3), ('Scrum', 2), ('Cloud', 1)]\n",
            "('Data Science', 6)\n"
          ],
          "name": "stdout"
        }
      ]
    },
    {
      "cell_type": "code",
      "metadata": {
        "colab": {
          "base_uri": "https://localhost:8080/"
        },
        "id": "5gCG7UHVjsvt",
        "outputId": "2b8ad404-3548-45b4-811d-5e122e299059"
      },
      "source": [
        "budget = 150\n",
        "cursos_adquiridos = []\n",
        "\n",
        "for a in treinamentos:\n",
        "  for b in range (len(pedidos_ordenados)):\n",
        "    if budget > 0 and pedidos_ordenados[b][0] and a['treinamento'] == 'Data Science':\n",
        "        print('Budget antes da compra:', budget)\n",
        "        budget -= a['moedas']\n",
        "        print('Após a compra:', budget)\n",
        "        print('Curso adquirido:', a['treinamento'])\n",
        "        print('----'*10)\n",
        "        cursos_adquiridos.append(a['treinamento'])\n",
        "        break\n",
        "    else:\n",
        "      if budget > 0 and pedidos_ordenados[b][0] and a['treinamento'] == 'Gestão de Projetos':\n",
        "        print('Budget antes da compra:', budget)\n",
        "        budget -= a['moedas']\n",
        "        print('Após a compra:', budget)\n",
        "        print('Curso adquirido:', a['treinamento'])\n",
        "        print('----'*10)\n",
        "        cursos_adquiridos.append(a['treinamento'])\n",
        "        break\n",
        "      else:\n",
        "        if budget > 0 and pedidos_ordenados[b][0] and a['treinamento'] == 'Python':\n",
        "          print('Budget antes da compra:', budget)\n",
        "          budget -= a['moedas']\n",
        "          print('Após a compra:', budget)\n",
        "          print('Curso adquirido:', a['treinamento'])\n",
        "          print('----'*10)\n",
        "          cursos_adquiridos.append(a['treinamento'])\n",
        "          break\n",
        "        else:\n",
        "          if budget > 0 and pedidos_ordenados[b][0] and a['treinamento'] == 'Marketing':\n",
        "            print('Budget antes da compra:', budget)\n",
        "            budget -= a['moedas']\n",
        "            print('Após a compra:', budget)\n",
        "            print('Curso adquirido:', a['treinamento'])\n",
        "            print('----'*10)\n",
        "            cursos_adquiridos.append(a['treinamento'])\n",
        "            break\n",
        "          else:\n",
        "            if budget <= 0:\n",
        "              print('Acabou o dinheiro')\n",
        "    \n",
        "    \n",
        "print('Cursos adquiridos:', cursos_adquiridos)"
      ],
      "execution_count": 20,
      "outputs": [
        {
          "output_type": "stream",
          "text": [
            "Budget antes da compra: 150\n",
            "Após a compra: 110\n",
            "Curso adquirido: Data Science\n",
            "----------------------------------------\n",
            "Budget antes da compra: 110\n",
            "Após a compra: 60\n",
            "Curso adquirido: Gestão de Projetos\n",
            "----------------------------------------\n",
            "Budget antes da compra: 60\n",
            "Após a compra: 30\n",
            "Curso adquirido: Marketing\n",
            "----------------------------------------\n",
            "Budget antes da compra: 30\n",
            "Após a compra: 0\n",
            "Curso adquirido: Python\n",
            "----------------------------------------\n",
            "Cursos adquiridos: ['Data Science', 'Gestão de Projetos', 'Marketing', 'Python']\n"
          ],
          "name": "stdout"
        }
      ]
    },
    {
      "cell_type": "markdown",
      "metadata": {
        "id": "p2SvuepECsz0"
      },
      "source": [
        "### Auxílio para a resolução\n",
        "\n",
        "Os códigos a seguir foram utilizados para entendimento e desenvolvimento da lógica utilizada na resolução do case"
      ]
    },
    {
      "cell_type": "code",
      "metadata": {
        "id": "TuMhVef2Me31"
      },
      "source": [
        ""
      ],
      "execution_count": 22,
      "outputs": []
    },
    {
      "cell_type": "code",
      "metadata": {
        "colab": {
          "base_uri": "https://localhost:8080/"
        },
        "id": "87HO5NqcPqCF",
        "outputId": "fe917a7e-fc20-4b5e-b2ee-944240d03608"
      },
      "source": [
        "for a in treinamentos:\n",
        "  print(a['treinamento'])"
      ],
      "execution_count": 23,
      "outputs": [
        {
          "output_type": "stream",
          "text": [
            "Scrum\n",
            "Data Science\n",
            "Gestão de Projetos\n",
            "Marketing\n",
            "Cloud\n",
            "Blockchain\n",
            "Python\n"
          ],
          "name": "stdout"
        }
      ]
    },
    {
      "cell_type": "code",
      "metadata": {
        "colab": {
          "base_uri": "https://localhost:8080/"
        },
        "id": "DeC_SirxPtDZ",
        "outputId": "acceeb23-69ed-416b-8549-f9cece4cefc9"
      },
      "source": [
        "for a in treinamentos:\n",
        "  if a['treinamento'] == 'Scrum':\n",
        "    print(a['moedas'])"
      ],
      "execution_count": 24,
      "outputs": [
        {
          "output_type": "stream",
          "text": [
            "30\n"
          ],
          "name": "stdout"
        }
      ]
    },
    {
      "cell_type": "code",
      "metadata": {
        "colab": {
          "base_uri": "https://localhost:8080/"
        },
        "id": "0VEfjtooQVkR",
        "outputId": "dfeab44e-9831-47a9-84c6-468e02fd21f9"
      },
      "source": [
        "print(pedidos_ordenados[4])"
      ],
      "execution_count": 25,
      "outputs": [
        {
          "output_type": "stream",
          "text": [
            "('Scrum', 2)\n"
          ],
          "name": "stdout"
        }
      ]
    },
    {
      "cell_type": "code",
      "metadata": {
        "colab": {
          "base_uri": "https://localhost:8080/"
        },
        "id": "yFn5_Ss4RU-y",
        "outputId": "f96c3536-fc55-4be5-f539-f23b51377655"
      },
      "source": [
        "for a in treinamentos:\n",
        "  if pedidos_ordenados[4][0] == 'Scrum':\n",
        "      if a['treinamento'] == 'Scrum':\n",
        "        print(a['moedas'])"
      ],
      "execution_count": 27,
      "outputs": [
        {
          "output_type": "stream",
          "text": [
            "30\n"
          ],
          "name": "stdout"
        }
      ]
    },
    {
      "cell_type": "code",
      "metadata": {
        "colab": {
          "base_uri": "https://localhost:8080/"
        },
        "id": "qqCsYz71TtRW",
        "outputId": "001f384a-a9eb-41ab-be37-4faefa117865"
      },
      "source": [
        "for a in treinamentos:\n",
        "  if pedidos_ordenados[4][0] == 'Scrum' and a['treinamento'] == 'Scrum':\n",
        "      print(a['moedas'])"
      ],
      "execution_count": 28,
      "outputs": [
        {
          "output_type": "stream",
          "text": [
            "30\n"
          ],
          "name": "stdout"
        }
      ]
    },
    {
      "cell_type": "code",
      "metadata": {
        "colab": {
          "base_uri": "https://localhost:8080/"
        },
        "id": "2GUx-9nrT0b3",
        "outputId": "cf0e29c9-1897-48db-86d5-1d4d5324cce3"
      },
      "source": [
        "for a in treinamentos:\n",
        "  if pedidos_ordenados[4][0] and a['treinamento'] == 'Scrum':\n",
        "      print(a['moedas'])"
      ],
      "execution_count": 29,
      "outputs": [
        {
          "output_type": "stream",
          "text": [
            "30\n"
          ],
          "name": "stdout"
        }
      ]
    },
    {
      "cell_type": "code",
      "metadata": {
        "colab": {
          "base_uri": "https://localhost:8080/"
        },
        "id": "Izd7Xd96VLwD",
        "outputId": "db42888f-8fc7-4f67-f9ea-022e4c03f3f8"
      },
      "source": [
        "budget = 150\n",
        "\n",
        "for a in treinamentos:\n",
        "  if pedidos_ordenados[4][0] and a['treinamento'] == 'Scrum':\n",
        "      budget -= a['moedas']\n",
        "      print(budget)"
      ],
      "execution_count": 30,
      "outputs": [
        {
          "output_type": "stream",
          "text": [
            "120\n"
          ],
          "name": "stdout"
        }
      ]
    },
    {
      "cell_type": "code",
      "metadata": {
        "colab": {
          "base_uri": "https://localhost:8080/"
        },
        "id": "zCOI2moJtBYG",
        "outputId": "bff2ab9f-163a-440e-a20b-fc2f5cf886f8"
      },
      "source": [
        "budget = 150\n",
        "\n",
        "for a in treinamentos:\n",
        "  for b in range (len(pedidos_ordenados)):\n",
        "    if budget > 0 and pedidos_ordenados[b][0] and a['treinamento'] == 'Data Science':\n",
        "        print('Budget antes da compra:', budget)\n",
        "        budget -= a['moedas']\n",
        "        print('Curso adquirido:', a['treinamento'])\n",
        "        print('Após a compra:', budget)\n",
        "        break\n",
        "    else:\n",
        "      if budget > 0 and pedidos_ordenados[b][0] and a['treinamento'] == 'Gestão de Projetos':\n",
        "        print('Budget antes da compra:', budget)\n",
        "        budget -= a['moedas']\n",
        "        print('Após a compra:', budget)\n",
        "        print('Curso adquirido:', a['treinamento'])\n",
        "        break\n",
        "      else:\n",
        "        if budget > 0 and pedidos_ordenados[b][0] and a['treinamento'] == 'Python':\n",
        "          print('Budget antes da compra:', budget)\n",
        "          budget -= a['moedas']\n",
        "          print('Após a compra:', budget)\n",
        "          print('Curso adquirido:', a['treinamento'])\n",
        "          break\n",
        "        else:\n",
        "          if budget > 0 and pedidos_ordenados[b][0] and a['treinamento'] == 'Marketing':\n",
        "            print('Budget antes da compra:', budget)\n",
        "            budget -= a['moedas']\n",
        "            print('Após a compra:', budget)\n",
        "            print('Curso adquirido:', a['treinamento'])\n",
        "            break\n",
        "\n",
        "    "
      ],
      "execution_count": 31,
      "outputs": [
        {
          "output_type": "stream",
          "text": [
            "Budget antes da compra: 150\n",
            "Curso adquirido: Data Science\n",
            "Após a compra: 110\n",
            "Budget antes da compra: 110\n",
            "Após a compra: 60\n",
            "Curso adquirido: Gestão de Projetos\n",
            "Budget antes da compra: 60\n",
            "Após a compra: 30\n",
            "Curso adquirido: Marketing\n",
            "Budget antes da compra: 30\n",
            "Após a compra: 0\n",
            "Curso adquirido: Python\n"
          ],
          "name": "stdout"
        }
      ]
    },
    {
      "cell_type": "code",
      "metadata": {
        "colab": {
          "base_uri": "https://localhost:8080/"
        },
        "id": "DGLoscEa9w0p",
        "outputId": "119debc3-12fc-4e80-fd33-bcf26de587e6"
      },
      "source": [
        "budget = 150\n",
        "\n",
        "for a in treinamentos:\n",
        "  for b in range (len(pedidos_ordenados)):\n",
        "    if budget > 0 and pedidos_ordenados[b][0] and a['treinamento'] == 'Data Science':\n",
        "        print('Budget antes da compra:', budget)\n",
        "        budget -= a['moedas']\n",
        "        print('Curso adquirido:', a['treinamento'])\n",
        "        print('Após a compra:', budget)\n",
        "        break\n",
        "    else:\n",
        "      if budget > 0 and pedidos_ordenados[b][0] and a['treinamento'] == 'Gestão de Projetos':\n",
        "        print('Budget antes da compra:', budget)\n",
        "        budget -= a['moedas']\n",
        "        print('Após a compra:', budget)\n",
        "        print('Curso adquirido:', a['treinamento'])\n",
        "        break\n",
        "      else:\n",
        "        if budget > 0 and pedidos_ordenados[b][0] and a['treinamento'] == 'Python':\n",
        "          print('Budget antes da compra:', budget)\n",
        "          budget -= a['moedas']\n",
        "          print('Após a compra:', budget)\n",
        "          print('Curso adquirido:', a['treinamento'])\n",
        "          break\n",
        "        else:\n",
        "          if budget > 0 and pedidos_ordenados[b][0] and a['treinamento'] == 'Marketing':\n",
        "            print('Budget antes da compra:', budget)\n",
        "            budget -= a['moedas']\n",
        "            print('Após a compra:', budget)\n",
        "            print('Curso adquirido:', a['treinamento'])\n",
        "            break\n",
        "          else:\n",
        "            if budget > 0 and pedidos_ordenados[b][0] and a['treinamento'] == 'Scrum':\n",
        "              print('Budget antes da compra:', budget)\n",
        "              budget -= a['moedas']\n",
        "              print('Após a compra:', budget)\n",
        "              print('Curso adquirido:', a['treinamento'])\n",
        "              break\n",
        "            else:\n",
        "              if budget > 0 and pedidos_ordenados[b][0] and a['treinamento'] == 'Cloud':\n",
        "                print('Budget antes da compra:', budget)\n",
        "                budget -= a['moedas']\n",
        "                print('Após a compra:', budget)\n",
        "                print('Curso adquirido:', a['treinamento'])\n",
        "                break\n",
        "              else:\n",
        "                print('Acabou o dinheiro')\n",
        "                break\n",
        "            "
      ],
      "execution_count": 32,
      "outputs": [
        {
          "output_type": "stream",
          "text": [
            "Budget antes da compra: 150\n",
            "Após a compra: 120\n",
            "Curso adquirido: Scrum\n",
            "Budget antes da compra: 120\n",
            "Curso adquirido: Data Science\n",
            "Após a compra: 80\n",
            "Budget antes da compra: 80\n",
            "Após a compra: 30\n",
            "Curso adquirido: Gestão de Projetos\n",
            "Budget antes da compra: 30\n",
            "Após a compra: 0\n",
            "Curso adquirido: Marketing\n",
            "Acabou o dinheiro\n",
            "Acabou o dinheiro\n",
            "Acabou o dinheiro\n"
          ],
          "name": "stdout"
        }
      ]
    },
    {
      "cell_type": "code",
      "metadata": {
        "colab": {
          "base_uri": "https://localhost:8080/"
        },
        "id": "jC0Sb8XJ_ClI",
        "outputId": "86fe0f9d-d415-4ec0-fd33-a9f6e9e1d4ea"
      },
      "source": [
        "budget = 150\n",
        "cursos_adquiridos = []\n",
        "\n",
        "for a in treinamentos:\n",
        "  for b in range (len(pedidos_ordenados)):\n",
        "    if budget > 0 and pedidos_ordenados[b][0] and a['treinamento'] == 'Data Science':\n",
        "        cursos_adquiridos.append(a['treinamento'])\n",
        "        budget -= a['moedas']\n",
        "        break\n",
        "    else:\n",
        "      if budget > 0 and pedidos_ordenados[b][0] and a['treinamento'] == 'Gestão de Projetos':\n",
        "        cursos_adquiridos.append(a['treinamento'])\n",
        "        budget -= a['moedas']\n",
        "        break\n",
        "      else:\n",
        "        if budget > 0 and pedidos_ordenados[b][0] and a['treinamento'] == 'Python':\n",
        "          cursos_adquiridos.append(a['treinamento'])\n",
        "          budget -= a['moedas']\n",
        "          break\n",
        "        else:\n",
        "          if budget > 0 and pedidos_ordenados[b][0] and a['treinamento'] == 'Marketing':\n",
        "            cursos_adquiridos.append(a['treinamento'])\n",
        "            budget -= a['moedas']\n",
        "            break\n",
        "          else:\n",
        "            if budget > 0 and pedidos_ordenados[b][0] and a['treinamento'] == 'Scrum':\n",
        "              cursos_adquiridos.append(a['treinamento'])\n",
        "              budget -= a['moedas']\n",
        "              break\n",
        "            else:\n",
        "              if budget > 0 and pedidos_ordenados[b][0] and a['treinamento'] == 'Cloud':\n",
        "                cursos_adquiridos.append(a['treinamento'])\n",
        "                budget -= a['moedas']\n",
        "                break\n",
        "              else:\n",
        "                print('Acabou o dinheiro')\n",
        "                break\n",
        "            \n",
        "print(cursos_adquiridos)"
      ],
      "execution_count": 33,
      "outputs": [
        {
          "output_type": "stream",
          "text": [
            "Acabou o dinheiro\n",
            "Acabou o dinheiro\n",
            "Acabou o dinheiro\n",
            "['Scrum', 'Data Science', 'Gestão de Projetos', 'Marketing']\n"
          ],
          "name": "stdout"
        }
      ]
    },
    {
      "cell_type": "code",
      "metadata": {
        "colab": {
          "base_uri": "https://localhost:8080/"
        },
        "id": "X-LBYfX0prb4",
        "outputId": "2f679360-fa15-4752-a843-739dac95b894"
      },
      "source": [
        "budget = 150\n",
        "\n",
        "for a in treinamentos:\n",
        "  for b in range (len(pedidos_ordenados)):\n",
        "    if budget > 0 and pedidos_ordenados[b][0] and a['treinamento'] == 'Data Science':\n",
        "        print('Budget antes da compra:', budget)\n",
        "        budget -= a['moedas']\n",
        "        print('Curso adquirido:', a['treinamento'])\n",
        "        print('Após a compra:', budget)\n",
        "        break\n",
        "    else:\n",
        "      print('Acabou o dinheiro')\n",
        "      break\n",
        "    if budget > 0 and pedidos_ordenados[b][0] and a['treinamento'] == 'Gestão de Projetos':\n",
        "        print('Budget antes da compra:', budget)\n",
        "        budget -= a['moedas']\n",
        "        print('Após a compra:', budget)\n",
        "        print('Curso adquirido:', a['treinamento'])\n",
        "        break\n",
        "    else:\n",
        "      print('Acabou o dinheiro')\n",
        "      break\n",
        "    if budget > 0 and pedidos_ordenados[b][0] and a['treinamento'] == 'Python':\n",
        "        print('Budget antes da compra:', budget)\n",
        "        budget -= a['moedas']\n",
        "        print('Após a compra:', budget)\n",
        "        print('Curso adquirido:', a['treinamento'])\n",
        "        break\n",
        "    else:\n",
        "      print('Acabou o dinheiro')\n",
        "      break\n",
        "    if budget > 0 and pedidos_ordenados[b][0] and a['treinamento'] == 'Marketing':\n",
        "        print('Budget antes da compra:', budget)\n",
        "        budget -= a['moedas']\n",
        "        print('Após a compra:', budget)\n",
        "        print('Curso adquirido:', a['treinamento'])\n",
        "        break\n",
        "    else:\n",
        "      print('Acabou o dinheiro')\n",
        "      break\n",
        "    if budget > 0 and pedidos_ordenados[b][0] and a['treinamento'] == 'Scrum':\n",
        "        print('Budget antes da compra:', budget)\n",
        "        budget -= a['moedas']\n",
        "        print('Após a compra:', budget)\n",
        "        print('Curso adquirido:', a['treinamento'])\n",
        "        break\n",
        "    else:\n",
        "      print('Acabou o dinheiro')\n",
        "      break\n",
        "    if budget > 0 and pedidos_ordenados[b][0] and a['treinamento'] == 'Cloud':\n",
        "        print('Budget antes da compra:', budget)\n",
        "        budget -= a['moedas']\n",
        "        print('Após a compra:', budget)\n",
        "        print('Curso adquirido:', a['treinamento'])\n",
        "    else:\n",
        "      print('Acabou o dinheiro')\n",
        "      break\n",
        "    "
      ],
      "execution_count": 34,
      "outputs": [
        {
          "output_type": "stream",
          "text": [
            "Acabou o dinheiro\n",
            "Budget antes da compra: 150\n",
            "Curso adquirido: Data Science\n",
            "Após a compra: 110\n",
            "Acabou o dinheiro\n",
            "Acabou o dinheiro\n",
            "Acabou o dinheiro\n",
            "Acabou o dinheiro\n",
            "Acabou o dinheiro\n"
          ],
          "name": "stdout"
        }
      ]
    },
    {
      "cell_type": "code",
      "metadata": {
        "colab": {
          "base_uri": "https://localhost:8080/"
        },
        "id": "F9oq5cSBRqvy",
        "outputId": "42b9e7f8-63b2-4bab-8456-2bfdfa1d0b6f"
      },
      "source": [
        "type(pedidos_ordenados[4])"
      ],
      "execution_count": 35,
      "outputs": [
        {
          "output_type": "execute_result",
          "data": {
            "text/plain": [
              "tuple"
            ]
          },
          "metadata": {
            "tags": []
          },
          "execution_count": 35
        }
      ]
    },
    {
      "cell_type": "code",
      "metadata": {
        "colab": {
          "base_uri": "https://localhost:8080/"
        },
        "id": "K4-txq_mRsps",
        "outputId": "b7508623-3045-42fc-9503-8092b658043f"
      },
      "source": [
        "print(pedidos_ordenados[4][0])"
      ],
      "execution_count": 36,
      "outputs": [
        {
          "output_type": "stream",
          "text": [
            "Scrum\n"
          ],
          "name": "stdout"
        }
      ]
    },
    {
      "cell_type": "code",
      "metadata": {
        "colab": {
          "base_uri": "https://localhost:8080/"
        },
        "id": "zNdahXnvSHQH",
        "outputId": "4ccb3488-788b-4e6d-9759-6bff36a1fbb3"
      },
      "source": [
        "print(len(treinamentos))"
      ],
      "execution_count": 37,
      "outputs": [
        {
          "output_type": "stream",
          "text": [
            "7\n"
          ],
          "name": "stdout"
        }
      ]
    },
    {
      "cell_type": "code",
      "metadata": {
        "colab": {
          "base_uri": "https://localhost:8080/"
        },
        "id": "WN5fsvVHWIVi",
        "outputId": "8f0daa8c-edd1-4446-8517-8f03863e8dee"
      },
      "source": [
        "print(len(pedidos_ordenados))"
      ],
      "execution_count": 38,
      "outputs": [
        {
          "output_type": "stream",
          "text": [
            "6\n"
          ],
          "name": "stdout"
        }
      ]
    },
    {
      "cell_type": "code",
      "metadata": {
        "colab": {
          "base_uri": "https://localhost:8080/"
        },
        "id": "othysHWaWUrh",
        "outputId": "493b2d92-fa10-4674-cc89-e0f534fb3b1b"
      },
      "source": [
        "print(pedidos_ordenados[0][0])"
      ],
      "execution_count": 39,
      "outputs": [
        {
          "output_type": "stream",
          "text": [
            "Data Science\n"
          ],
          "name": "stdout"
        }
      ]
    },
    {
      "cell_type": "markdown",
      "metadata": {
        "id": "yDCsmXrFS_Uz"
      },
      "source": [
        "# Resolução comentada pelo professor\n"
      ]
    },
    {
      "cell_type": "code",
      "metadata": {
        "id": "t7aO7nIwXCi3",
        "colab": {
          "base_uri": "https://localhost:8080/"
        },
        "outputId": "9cf6c18a-9053-427a-986e-fc154185edad"
      },
      "source": [
        "#Case 1\n",
        "area = [200, 'null', 720, 1500, 1000, 275, 'null', 1200, 2400, 'null']\n",
        "altura = ['null', 30, 40, 30, 10, 25, 33, 'null', 12, 20]\n",
        "largura = [20, 20, 'null', 50, 100, 'null', 30, 100, 200, 10]\n",
        "print(len(area), len(altura), len(largura))"
      ],
      "execution_count": 40,
      "outputs": [
        {
          "output_type": "stream",
          "text": [
            "10 10 10\n"
          ],
          "name": "stdout"
        }
      ]
    },
    {
      "cell_type": "code",
      "metadata": {
        "colab": {
          "base_uri": "https://localhost:8080/"
        },
        "id": "11w2l7GmTYU6",
        "outputId": "739ef942-5eea-41f8-e61b-0957c40bb61f"
      },
      "source": [
        "def preenche(a, b, h):\n",
        "  area_full = []\n",
        "  largura_full = []\n",
        "  altura_full = []\n",
        "  for area,largura,altura in zip(a, b, h):\n",
        "    if type(area) != int:\n",
        "      area_full.append(int(largura*altura))\n",
        "    else:\n",
        "      area_full.append(area)\n",
        "    if type(largura) != int:\n",
        "      largura_full.append(int(area/altura))\n",
        "    else:\n",
        "      largura_full.append(largura)\n",
        "    if type(altura) != int:\n",
        "      altura_full.append(int(area/largura))\n",
        "    else:\n",
        "      altura_full.append(altura)\n",
        "  return(area_full, largura_full, altura_full)\n",
        "\n",
        "\n",
        "(area, largura, altura) = preenche(area, largura, altura)\n",
        "print(area)\n",
        "print(largura)\n",
        "print(altura)"
      ],
      "execution_count": 41,
      "outputs": [
        {
          "output_type": "stream",
          "text": [
            "[200, 600, 720, 1500, 1000, 275, 990, 1200, 2400, 200]\n",
            "[20, 20, 18, 50, 100, 11, 30, 100, 200, 10]\n",
            "[10, 30, 40, 30, 10, 25, 33, 12, 12, 20]\n"
          ],
          "name": "stdout"
        }
      ]
    },
    {
      "cell_type": "code",
      "metadata": {
        "colab": {
          "base_uri": "https://localhost:8080/"
        },
        "id": "NT63wfueUywM",
        "outputId": "c8e49dbd-c8b6-4f29-8f67-f753babbb8c7"
      },
      "source": [
        "print('média em m de altura:', sum(altura)/len(altura))\n",
        "print('média em m de largura:', sum(largura)/len(largura))"
      ],
      "execution_count": 42,
      "outputs": [
        {
          "output_type": "stream",
          "text": [
            "média em m de altura: 22.2\n",
            "média em m de largura: 55.9\n"
          ],
          "name": "stdout"
        }
      ]
    },
    {
      "cell_type": "code",
      "metadata": {
        "colab": {
          "base_uri": "https://localhost:8080/"
        },
        "id": "1gXwTFFIWUtk",
        "outputId": "9553a268-40da-46ef-d344-1814c1fea03d"
      },
      "source": [
        "print('Metragem total:', sum(area), 'm²')\n",
        "print('A média dos terrenosé: ', sum(area)/len(area), 'm²')"
      ],
      "execution_count": 45,
      "outputs": [
        {
          "output_type": "stream",
          "text": [
            "Metragem total: 9085 m²\n",
            "A média dos terrenosé:  908.5 m²\n"
          ],
          "name": "stdout"
        }
      ]
    },
    {
      "cell_type": "code",
      "metadata": {
        "colab": {
          "base_uri": "https://localhost:8080/"
        },
        "id": "HmbUxnLTWh5p",
        "outputId": "57bef153-b478-4f1d-c643-d579062c478d"
      },
      "source": [
        "#Case 2\n",
        "\n",
        "usuarios_feedback = [{'nome':'Peter','nota':9,'genero':'M','comentario':'bom demais e agil'}, \n",
        "                     {'nome':'Joao','nota':10,'genero':'M','comentario':'agil e eficiente'}, \n",
        "                     {'nome':'user_not_found','nota':0,'genero':'M','comentario':'Horrível'}, \n",
        "                     {'nome':'Marta','nota':10,'genero':'F','comentario':'muito agil bom demais'}, \n",
        "                     {'nome':'Beatriz','nota':10,'genero':'F','comentario':'rápido e eficaz'}, \n",
        "                     {'nome':'user_not_found','nota':2,'genero':'M','comentario':'ruim'}, \n",
        "                     {'nome':'Jéssica','nota':10,'genero':'F','comentario':'agil'},\n",
        "                     {'nome':'José','nota':7,'genero':'M','comentario':'ok'}, \n",
        "                     {'nome':'Elias','nota':5,'genero':'M','comentario':'precisa melhorar'}, \n",
        "                     {'nome':'Miriã','nota':9,'genero':'F','comentario':'foi muito agil e rápido'}, \n",
        "                     {'nome':'Maria','nota':10,'genero':'F','comentario':'muito bom e agil'}]\n",
        "\n",
        "type(usuarios_feedback)"
      ],
      "execution_count": 46,
      "outputs": [
        {
          "output_type": "execute_result",
          "data": {
            "text/plain": [
              "list"
            ]
          },
          "metadata": {
            "tags": []
          },
          "execution_count": 46
        }
      ]
    },
    {
      "cell_type": "code",
      "metadata": {
        "colab": {
          "base_uri": "https://localhost:8080/"
        },
        "id": "fgHay5QcXirs",
        "outputId": "030b9514-b9ab-47b7-916b-aca017ea1625"
      },
      "source": [
        "def conta_frequencia(x):\n",
        "  todas_palavras = []\n",
        "  for user in x:\n",
        "    todas_palavras.extend(user['comentario'].split())\n",
        "    uniqWords = sorted(set(todas_palavras))\n",
        "  for word in uniqWords:\n",
        "    print (todas_palavras.count(word), word)\n",
        "conta_frequencia(usuarios_feedback)"
      ],
      "execution_count": 48,
      "outputs": [
        {
          "output_type": "stream",
          "text": [
            "1 Horrível\n",
            "6 agil\n",
            "3 bom\n",
            "2 demais\n",
            "5 e\n",
            "1 eficaz\n",
            "1 eficiente\n",
            "1 foi\n",
            "1 melhorar\n",
            "3 muito\n",
            "1 ok\n",
            "1 precisa\n",
            "1 ruim\n",
            "2 rápido\n"
          ],
          "name": "stdout"
        }
      ]
    },
    {
      "cell_type": "code",
      "metadata": {
        "colab": {
          "base_uri": "https://localhost:8080/"
        },
        "id": "2PZX2frFY02P",
        "outputId": "e473e3a5-a727-4547-9deb-93cd36c60718"
      },
      "source": [
        "def conta_frequencia(x):\n",
        "  todas_palavras = []\n",
        "  for user in x:\n",
        "    todas_palavras.extend(user['comentario'].split())\n",
        "    uniqWords = sorted(set(todas_palavras))\n",
        "  for word in uniqWords:\n",
        "    if word != 'e':\n",
        "      print (todas_palavras.count(word), word)\n",
        "conta_frequencia(usuarios_feedback)"
      ],
      "execution_count": 49,
      "outputs": [
        {
          "output_type": "stream",
          "text": [
            "1 Horrível\n",
            "6 agil\n",
            "3 bom\n",
            "2 demais\n",
            "1 eficaz\n",
            "1 eficiente\n",
            "1 foi\n",
            "1 melhorar\n",
            "3 muito\n",
            "1 ok\n",
            "1 precisa\n",
            "1 ruim\n",
            "2 rápido\n"
          ],
          "name": "stdout"
        }
      ]
    },
    {
      "cell_type": "code",
      "metadata": {
        "colab": {
          "base_uri": "https://localhost:8080/"
        },
        "id": "N2eZdG6qY_E7",
        "outputId": "cab2ab1c-8d3d-44f9-cffe-221bc583c253"
      },
      "source": [
        "def notas (x):\n",
        "  m = []\n",
        "  f = []\n",
        "  for a in x:\n",
        "    if a['genero'] == 'M':\n",
        "      m.append(a['nota'])\n",
        "    elif a['genero'] == 'F':\n",
        "      f.append(a['nota'])\n",
        "  print('média masc =', sum(m)/len(m), 'média fem =', sum(f)/len(f))\n",
        "  return m, f\n",
        "masc, fem = notas(usuarios_feedback)\n",
        "print(masc, fem)"
      ],
      "execution_count": 50,
      "outputs": [
        {
          "output_type": "stream",
          "text": [
            "média masc = 5.5 média fem = 9.8\n",
            "[9, 10, 0, 2, 7, 5] [10, 10, 10, 9, 10]\n"
          ],
          "name": "stdout"
        }
      ]
    },
    {
      "cell_type": "code",
      "metadata": {
        "colab": {
          "base_uri": "https://localhost:8080/"
        },
        "id": "Aaw_4nd_ZjNQ",
        "outputId": "7e87faf0-57c9-4016-bb9e-07fe17b66373"
      },
      "source": [
        "user_null = []\n",
        "for a in usuarios_feedback:\n",
        "  if a['nome'] == 'user_not_found':\n",
        "    print(a)\n",
        "    user_null.append(a)\n",
        "print(len(user_null))"
      ],
      "execution_count": 51,
      "outputs": [
        {
          "output_type": "stream",
          "text": [
            "{'nome': 'user_not_found', 'nota': 0, 'genero': 'M', 'comentario': 'Horrível'}\n",
            "{'nome': 'user_not_found', 'nota': 2, 'genero': 'M', 'comentario': 'ruim'}\n",
            "2\n"
          ],
          "name": "stdout"
        }
      ]
    },
    {
      "cell_type": "code",
      "metadata": {
        "id": "tAUxHswzaYPt"
      },
      "source": [
        "# Case 3\n",
        "\n",
        "treinamentos = [{'treinamento':'Scrum','moedas':30},\n",
        "{'treinamento':'Data Science','moedas':40},\n",
        "{'treinamento':'Gestão de Projetos','moedas':50},\n",
        "{'treinamento':'Marketing','moedas':30},\n",
        "{'treinamento':'Cloud','moedas':20},\n",
        "{'treinamento':'Blockchain','moedas':10},\n",
        "{'treinamento':'Python','moedas':30}]\n",
        "\n",
        "pedidos = ['Scrum','Data Science','Gestão de Projetos','Marketing','Cloud','Python','Python','Python',\n",
        "'Scrum','Data Science','Gestão de Projetos','Marketing','Data Science','Gestão de Projetos',\n",
        "'Python','Marketing','Data Science','Gestão de Projetos','Data Science','Gestão de Projetos','Data Science']\n"
      ],
      "execution_count": 65,
      "outputs": []
    },
    {
      "cell_type": "code",
      "metadata": {
        "colab": {
          "base_uri": "https://localhost:8080/"
        },
        "id": "XeptofmveRgx",
        "outputId": "734e0f1e-133c-4b06-d220-06f4136f9458"
      },
      "source": [
        "print(sorted(set(pedidos)))"
      ],
      "execution_count": 66,
      "outputs": [
        {
          "output_type": "stream",
          "text": [
            "['Cloud', 'Data Science', 'Gestão de Projetos', 'Marketing', 'Python', 'Scrum']\n"
          ],
          "name": "stdout"
        }
      ]
    },
    {
      "cell_type": "code",
      "metadata": {
        "colab": {
          "base_uri": "https://localhost:8080/"
        },
        "id": "mQkdNDT7aoVN",
        "outputId": "c9b7f905-6bdd-46c5-8068-1554dd5b8929"
      },
      "source": [
        "def get_value(x,b):\n",
        "  for a in x:\n",
        "    if a['treinamento'] in b:\n",
        "      print('valor:', a['moedas'])\n",
        "      return a['moedas']\n",
        "\n",
        "ped = sorted(set(pedidos))\n",
        "for a in ped:\n",
        "  print('solicitações:', pedidos.count(a), '\\nTreinamento:', a)\n",
        "  valor = get_value(treinamentos, a)\n",
        "  for b in treinamentos:\n",
        "    if a == b['treinamento']:\n",
        "      b['total_pedidos']=pedidos.count(a)"
      ],
      "execution_count": 67,
      "outputs": [
        {
          "output_type": "stream",
          "text": [
            "solicitações: 1 \n",
            "Treinamento: Cloud\n",
            "valor: 20\n",
            "solicitações: 6 \n",
            "Treinamento: Data Science\n",
            "valor: 40\n",
            "solicitações: 5 \n",
            "Treinamento: Gestão de Projetos\n",
            "valor: 50\n",
            "solicitações: 3 \n",
            "Treinamento: Marketing\n",
            "valor: 30\n",
            "solicitações: 4 \n",
            "Treinamento: Python\n",
            "valor: 30\n",
            "solicitações: 2 \n",
            "Treinamento: Scrum\n",
            "valor: 30\n"
          ],
          "name": "stdout"
        }
      ]
    },
    {
      "cell_type": "code",
      "metadata": {
        "colab": {
          "base_uri": "https://localhost:8080/"
        },
        "id": "MlHBourbbiaF",
        "outputId": "e334e31b-ccdb-4c75-f316-c118aaf1d30b"
      },
      "source": [
        "treinamentos"
      ],
      "execution_count": 56,
      "outputs": [
        {
          "output_type": "execute_result",
          "data": {
            "text/plain": [
              "[{'moedas': 30, 'total_pedidos': 2, 'treinamento': 'Scrum'},\n",
              " {'moedas': 40, 'total_pedidos': 6, 'treinamento': 'Data Science'},\n",
              " {'moedas': 50, 'total_pedidos': 5, 'treinamento': 'Gestão de Projetos'},\n",
              " {'moedas': 30, 'total_pedidos': 3, 'treinamento': 'Marketing'},\n",
              " {'moedas': 20, 'total_pedidos': 1, 'treinamento': 'Cloud'},\n",
              " {'moedas': 10, 'treinamento': 'Blockchain'},\n",
              " {'moedas': 30, 'total_pedidos': 4, 'treinamento': 'Python'}]"
            ]
          },
          "metadata": {
            "tags": []
          },
          "execution_count": 56
        }
      ]
    },
    {
      "cell_type": "code",
      "metadata": {
        "colab": {
          "base_uri": "https://localhost:8080/"
        },
        "id": "ocavuiOGfxWf",
        "outputId": "748861de-b3d8-4e25-9541-946679ef2de5"
      },
      "source": [
        "print(type(treinamentos))"
      ],
      "execution_count": 73,
      "outputs": [
        {
          "output_type": "stream",
          "text": [
            "<class 'list'>\n"
          ],
          "name": "stdout"
        }
      ]
    },
    {
      "cell_type": "code",
      "metadata": {
        "colab": {
          "base_uri": "https://localhost:8080/"
        },
        "id": "s1HeD-vggbPy",
        "outputId": "ceed5e4f-0c89-4ea5-8a50-9b187717d96a"
      },
      "source": [
        "print(pedidos)"
      ],
      "execution_count": 75,
      "outputs": [
        {
          "output_type": "stream",
          "text": [
            "['Scrum', 'Data Science', 'Gestão de Projetos', 'Marketing', 'Cloud', 'Python', 'Python', 'Python', 'Scrum', 'Data Science', 'Gestão de Projetos', 'Marketing', 'Data Science', 'Gestão de Projetos', 'Python', 'Marketing', 'Data Science', 'Gestão de Projetos', 'Data Science', 'Gestão de Projetos', 'Data Science']\n"
          ],
          "name": "stdout"
        }
      ]
    },
    {
      "cell_type": "code",
      "metadata": {
        "colab": {
          "base_uri": "https://localhost:8080/"
        },
        "id": "QURqKhBZbuBd",
        "outputId": "bc68f161-b3a5-46fe-f85d-9045b46de965"
      },
      "source": [
        "budget = 150\n",
        "count = 6\n",
        "total = []\n",
        "while budget > 0:\n",
        "  for a in treinamentos:\n",
        "    qte = a.get('total_pedidos', 0)\n",
        "    if qte == count:\n",
        "      print('treinamento', a['treinamento'],'comprado')\n",
        "      total.append(qte)\n",
        "      budget -= a['moedas']\n",
        "      count -= 1\n",
        "    else:\n",
        "      continue\n",
        "print('total de pedidos atendidos:', sum(total), 'representando', (sum(total)/len(pedidos))*100, '% de atendimento', '\\nBudget no caixa:', budget)"
      ],
      "execution_count": 74,
      "outputs": [
        {
          "output_type": "stream",
          "text": [
            "treinamento Data Science comprado\n",
            "treinamento Gestão de Projetos comprado\n",
            "treinamento Python comprado\n",
            "treinamento Marketing comprado\n",
            "total de pedidos atendidos: 18 representando 85.71428571428571 % de atendimento \n",
            "Budget no caixa: 0\n"
          ],
          "name": "stdout"
        }
      ]
    }
  ]
}