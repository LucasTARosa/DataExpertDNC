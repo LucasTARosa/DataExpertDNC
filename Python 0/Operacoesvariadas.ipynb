{
  "nbformat": 4,
  "nbformat_minor": 0,
  "metadata": {
    "colab": {
      "name": "Operacoes.ipynb",
      "provenance": []
    },
    "kernelspec": {
      "name": "python3",
      "display_name": "Python 3"
    },
    "language_info": {
      "name": "python"
    }
  },
  "cells": [
    {
      "cell_type": "markdown",
      "metadata": {
        "id": "usQUSf60gXrk"
      },
      "source": [
        "#Aula - Operações com listas, strings, tuplas e dicionários\n",
        "\n",
        "## Listas\n"
      ]
    },
    {
      "cell_type": "code",
      "metadata": {
        "colab": {
          "base_uri": "https://localhost:8080/"
        },
        "id": "TuyCaxdrgVGO",
        "outputId": "89b207d2-092c-4eb5-ea3f-439a0cc259f9"
      },
      "source": [
        "#função append\n",
        "lista = [1,2,3,3,2,5,6,7,9,53]\n",
        "print(lista)\n",
        "lista.append(4)\n",
        "print(lista)\n",
        "lista.append([2,1,3])\n",
        "print(lista)\n",
        "print(lista[-1][1])"
      ],
      "execution_count": 3,
      "outputs": [
        {
          "output_type": "stream",
          "text": [
            "[1, 2, 3, 3, 2, 5, 6, 7, 9, 53]\n",
            "[1, 2, 3, 3, 2, 5, 6, 7, 9, 53, 4]\n",
            "[1, 2, 3, 3, 2, 5, 6, 7, 9, 53, 4, [2, 1, 3]]\n",
            "1\n"
          ],
          "name": "stdout"
        }
      ]
    },
    {
      "cell_type": "code",
      "metadata": {
        "colab": {
          "base_uri": "https://localhost:8080/"
        },
        "id": "XBOaG8Ybg7F-",
        "outputId": "72bf1e87-e7a0-4c6f-92fd-a9890c96a68d"
      },
      "source": [
        "#função copy\n",
        "lista2 = lista.copy()\n",
        "print(lista2)\n",
        "lista2.append(10)\n",
        "print(lista)\n",
        "print(lista2)\n",
        "print(id(lista))\n",
        "print(id(lista2))"
      ],
      "execution_count": 5,
      "outputs": [
        {
          "output_type": "stream",
          "text": [
            "[1, 2, 3, 3, 2, 5, 6, 7, 9, 53, 4, [2, 1, 3]]\n",
            "[1, 2, 3, 3, 2, 5, 6, 7, 9, 53, 4, [2, 1, 3]]\n",
            "[1, 2, 3, 3, 2, 5, 6, 7, 9, 53, 4, [2, 1, 3], 10]\n",
            "140145689869840\n",
            "140145689828960\n"
          ],
          "name": "stdout"
        }
      ]
    },
    {
      "cell_type": "code",
      "metadata": {
        "colab": {
          "base_uri": "https://localhost:8080/"
        },
        "id": "LTmITv0UhRdS",
        "outputId": "ee075761-2947-429a-b007-686fd4b382e4"
      },
      "source": [
        "#função clear\n",
        "lista2.clear()\n",
        "print(lista)\n",
        "print(lista2)"
      ],
      "execution_count": 6,
      "outputs": [
        {
          "output_type": "stream",
          "text": [
            "[1, 2, 3, 3, 2, 5, 6, 7, 9, 53, 4, [2, 1, 3]]\n",
            "[]\n"
          ],
          "name": "stdout"
        }
      ]
    },
    {
      "cell_type": "code",
      "metadata": {
        "colab": {
          "base_uri": "https://localhost:8080/"
        },
        "id": "gkSZRU5fh1oZ",
        "outputId": "33a7e459-2e22-417c-be10-75cb54ae5a71"
      },
      "source": [
        "#função count\n",
        "print(lista.count(1))\n",
        "print(lista.count(3))"
      ],
      "execution_count": 11,
      "outputs": [
        {
          "output_type": "stream",
          "text": [
            "1\n",
            "2\n"
          ],
          "name": "stdout"
        }
      ]
    },
    {
      "cell_type": "code",
      "metadata": {
        "colab": {
          "base_uri": "https://localhost:8080/"
        },
        "id": "7VbpndZqh5eX",
        "outputId": "6d1ee026-4cee-4c2e-ce3c-3241d76d0548"
      },
      "source": [
        "#função extend\n",
        "lista.extend([1,2,3,4,5])\n",
        "print(lista)"
      ],
      "execution_count": 12,
      "outputs": [
        {
          "output_type": "stream",
          "text": [
            "[1, 2, 3, 3, 2, 5, 6, 7, 9, 53, 4, [2, 1, 3], 1, 2, 3, 4, 5]\n"
          ],
          "name": "stdout"
        }
      ]
    },
    {
      "cell_type": "code",
      "metadata": {
        "colab": {
          "base_uri": "https://localhost:8080/"
        },
        "id": "6hAQhf24iItx",
        "outputId": "93ae2a57-2c5b-4495-b5b0-5ed36a2713f3"
      },
      "source": [
        "#função index\n",
        "print(lista.index(1))\n",
        "print(lista.index(3))"
      ],
      "execution_count": 14,
      "outputs": [
        {
          "output_type": "stream",
          "text": [
            "0\n",
            "2\n"
          ],
          "name": "stdout"
        }
      ]
    },
    {
      "cell_type": "code",
      "metadata": {
        "colab": {
          "base_uri": "https://localhost:8080/"
        },
        "id": "meJGyvKYiNoQ",
        "outputId": "f830ea74-dcd2-47bb-8c96-a30c4a63e61c"
      },
      "source": [
        "#função insert\n",
        "lista.insert(3, 18)\n",
        "print(lista)\n",
        "print(lista.index(18))"
      ],
      "execution_count": 22,
      "outputs": [
        {
          "output_type": "stream",
          "text": [
            "[1, 2, 3, 18, 18, 3, 2, 5, 6, 7, 9, 53, 4, [2, 1, 3], 1, 2, 3, 4, 5]\n",
            "3\n"
          ],
          "name": "stdout"
        }
      ]
    },
    {
      "cell_type": "code",
      "metadata": {
        "colab": {
          "base_uri": "https://localhost:8080/"
        },
        "id": "TCL3CpEWiZUi",
        "outputId": "6534f7f5-840f-4cfe-ca40-0c08068190f4"
      },
      "source": [
        "#função pop\n",
        "lista.pop(3)\n",
        "print(lista)"
      ],
      "execution_count": 23,
      "outputs": [
        {
          "output_type": "stream",
          "text": [
            "[1, 2, 3, 18, 3, 2, 5, 6, 7, 9, 53, 4, [2, 1, 3], 1, 2, 3, 4, 5]\n"
          ],
          "name": "stdout"
        }
      ]
    },
    {
      "cell_type": "code",
      "metadata": {
        "colab": {
          "base_uri": "https://localhost:8080/"
        },
        "id": "_ePwPtDwiuKy",
        "outputId": "400e7541-baf0-4043-9334-4a2dea7b9a2d"
      },
      "source": [
        "#função remove\n",
        "lista.remove(3)\n",
        "print(lista)"
      ],
      "execution_count": 24,
      "outputs": [
        {
          "output_type": "stream",
          "text": [
            "[1, 2, 18, 3, 2, 5, 6, 7, 9, 53, 4, [2, 1, 3], 1, 2, 3, 4, 5]\n"
          ],
          "name": "stdout"
        }
      ]
    },
    {
      "cell_type": "code",
      "metadata": {
        "colab": {
          "base_uri": "https://localhost:8080/"
        },
        "id": "weggVcYui4Zv",
        "outputId": "7cde0f99-580c-447c-e4fd-c96466f1dad0"
      },
      "source": [
        "#função reverse\n",
        "lista.reverse()\n",
        "print(lista)"
      ],
      "execution_count": 27,
      "outputs": [
        {
          "output_type": "stream",
          "text": [
            "[5, 4, 3, 2, 1, [2, 1, 3], 4, 53, 9, 7, 6, 5, 2, 3, 18, 2, 1]\n"
          ],
          "name": "stdout"
        }
      ]
    },
    {
      "cell_type": "code",
      "metadata": {
        "colab": {
          "base_uri": "https://localhost:8080/"
        },
        "id": "Y61tBg0xi-21",
        "outputId": "871bd9f0-b084-45a6-f79b-5bc2d0ffa7fb"
      },
      "source": [
        "#função sort\n",
        "lista = [1,5,8,2,190,40,3]\n",
        "lista.sort()\n",
        "print(lista)\n",
        "lista_nome = ['João', 'onomatopeia', 'Pedro']\n",
        "print(lista_nome)\n",
        "lista_nome.append('olá')\n",
        "print(lista_nome)\n",
        "lista_nome.sort(key=len)\n",
        "print(lista_nome)"
      ],
      "execution_count": 34,
      "outputs": [
        {
          "output_type": "stream",
          "text": [
            "[1, 2, 3, 5, 8, 40, 190]\n",
            "['João', 'onomatopeia', 'Pedro']\n",
            "['João', 'onomatopeia', 'Pedro', 'olá']\n",
            "['olá', 'João', 'Pedro', 'onomatopeia']\n"
          ],
          "name": "stdout"
        }
      ]
    },
    {
      "cell_type": "code",
      "metadata": {
        "colab": {
          "base_uri": "https://localhost:8080/"
        },
        "id": "g1wy8qkbjHW8",
        "outputId": "72fe92e1-805a-42c2-a112-51a8c004f498"
      },
      "source": [
        "#list comprehension\n",
        "\n",
        "lista_c = [a for a in range(100)]\n",
        "print(lista_c)"
      ],
      "execution_count": 35,
      "outputs": [
        {
          "output_type": "stream",
          "text": [
            "[0, 1, 2, 3, 4, 5, 6, 7, 8, 9, 10, 11, 12, 13, 14, 15, 16, 17, 18, 19, 20, 21, 22, 23, 24, 25, 26, 27, 28, 29, 30, 31, 32, 33, 34, 35, 36, 37, 38, 39, 40, 41, 42, 43, 44, 45, 46, 47, 48, 49, 50, 51, 52, 53, 54, 55, 56, 57, 58, 59, 60, 61, 62, 63, 64, 65, 66, 67, 68, 69, 70, 71, 72, 73, 74, 75, 76, 77, 78, 79, 80, 81, 82, 83, 84, 85, 86, 87, 88, 89, 90, 91, 92, 93, 94, 95, 96, 97, 98, 99]\n"
          ],
          "name": "stdout"
        }
      ]
    },
    {
      "cell_type": "code",
      "metadata": {
        "colab": {
          "base_uri": "https://localhost:8080/"
        },
        "id": "kS4Dkl0PkYWE",
        "outputId": "a0f5d835-55a9-42b0-91f1-d9f44d49dd86"
      },
      "source": [
        "lista_c = [a for a in range(100) if a %2 == 0]\n",
        "print(lista_c)"
      ],
      "execution_count": 37,
      "outputs": [
        {
          "output_type": "stream",
          "text": [
            "[0, 2, 4, 6, 8, 10, 12, 14, 16, 18, 20, 22, 24, 26, 28, 30, 32, 34, 36, 38, 40, 42, 44, 46, 48, 50, 52, 54, 56, 58, 60, 62, 64, 66, 68, 70, 72, 74, 76, 78, 80, 82, 84, 86, 88, 90, 92, 94, 96, 98]\n"
          ],
          "name": "stdout"
        }
      ]
    },
    {
      "cell_type": "markdown",
      "metadata": {
        "id": "MuurD2A6knCq"
      },
      "source": [
        "## Exercícios!\n",
        "\n",
        "1- Construa uma lista de inteiros e ordene elas do maior para o menor\n",
        "\n",
        "2- Adicione os valores 10, 7, 33, 22 com uma única linha de código e deixe-os ordenados também em uma segunda linha de código\n",
        "\n",
        "3- Gere uma lista de nomes e ordene ela pelo tamanho de cada nome"
      ]
    },
    {
      "cell_type": "code",
      "metadata": {
        "colab": {
          "base_uri": "https://localhost:8080/"
        },
        "id": "lpgqpHRWkdl_",
        "outputId": "bc623f46-8703-4dd3-b203-0f11eebdedfa"
      },
      "source": [
        "#Exercício 1\n",
        "\n",
        "lista = [1, 3, 5, 7, 9, 4903, 2, 4, 19, 8]\n",
        "print(lista)\n",
        "lista.sort(reverse=True)\n",
        "print(lista)"
      ],
      "execution_count": 39,
      "outputs": [
        {
          "output_type": "stream",
          "text": [
            "[1, 3, 5, 7, 9, 4903, 2, 4, 19, 8]\n",
            "[4903, 19, 9, 8, 7, 5, 4, 3, 2, 1]\n"
          ],
          "name": "stdout"
        }
      ]
    },
    {
      "cell_type": "code",
      "metadata": {
        "colab": {
          "base_uri": "https://localhost:8080/"
        },
        "id": "o0bK75nglF89",
        "outputId": "63ce57ea-6941-4ae9-d9e5-85512c14dded"
      },
      "source": [
        "#Exercício 2\n",
        "lista.extend([10, 7, 33, 22])\n",
        "print(lista)\n",
        "lista.sort(reverse=True)\n",
        "print(lista)\n",
        "lista.sort()\n",
        "print(lista)"
      ],
      "execution_count": 42,
      "outputs": [
        {
          "output_type": "stream",
          "text": [
            "[4903, 33, 22, 19, 10, 9, 8, 7, 7, 5, 4, 3, 2, 1, 10, 7, 33, 22]\n",
            "[4903, 33, 33, 22, 22, 19, 10, 10, 9, 8, 7, 7, 7, 5, 4, 3, 2, 1]\n",
            "[1, 2, 3, 4, 5, 7, 7, 7, 8, 9, 10, 10, 19, 22, 22, 33, 33, 4903]\n"
          ],
          "name": "stdout"
        }
      ]
    },
    {
      "cell_type": "code",
      "metadata": {
        "colab": {
          "base_uri": "https://localhost:8080/"
        },
        "id": "KdxCx_pBla0H",
        "outputId": "b6f950e2-cf64-4bdc-bf43-4d5465dc3c03"
      },
      "source": [
        "#Exercício 3\n",
        "lista_nomes = ['Ana', 'Maria', 'Rafael', 'Washington', 'Esteferson', 'Júlia', 'Letícia']\n",
        "print(lista_nomes)\n",
        "lista_nomes.sort(key=len)\n",
        "print(lista_nomes)"
      ],
      "execution_count": 43,
      "outputs": [
        {
          "output_type": "stream",
          "text": [
            "['Ana', 'Maria', 'Rafael', 'Washington', 'Esteferson', 'Júlia', 'Letícia']\n",
            "['Ana', 'Maria', 'Júlia', 'Rafael', 'Letícia', 'Washington', 'Esteferson']\n"
          ],
          "name": "stdout"
        }
      ]
    },
    {
      "cell_type": "markdown",
      "metadata": {
        "id": "_oXJOC3UmBt5"
      },
      "source": [
        "## Funções string"
      ]
    },
    {
      "cell_type": "code",
      "metadata": {
        "colab": {
          "base_uri": "https://localhost:8080/",
          "height": 35
        },
        "id": "nTV22E6Pl9jl",
        "outputId": "fdaf8cd0-8c76-487e-f113-f0772b839c26"
      },
      "source": [
        "#capitalize\n",
        "text = 'vou fazer um sanduíche pois estou com fome'\n",
        "text.capitalize()"
      ],
      "execution_count": 44,
      "outputs": [
        {
          "output_type": "execute_result",
          "data": {
            "application/vnd.google.colaboratory.intrinsic+json": {
              "type": "string"
            },
            "text/plain": [
              "'Vou fazer um sanduíche pois estou com fome'"
            ]
          },
          "metadata": {
            "tags": []
          },
          "execution_count": 44
        }
      ]
    },
    {
      "cell_type": "code",
      "metadata": {
        "colab": {
          "base_uri": "https://localhost:8080/",
          "height": 35
        },
        "id": "r6V-2cfomAQH",
        "outputId": "528f4c3f-e1ec-48c9-8f2c-8805ce9ce339"
      },
      "source": [
        "#casefold\n",
        "text.casefold()"
      ],
      "execution_count": 45,
      "outputs": [
        {
          "output_type": "execute_result",
          "data": {
            "application/vnd.google.colaboratory.intrinsic+json": {
              "type": "string"
            },
            "text/plain": [
              "'vou fazer um sanduíche pois estou com fome'"
            ]
          },
          "metadata": {
            "tags": []
          },
          "execution_count": 45
        }
      ]
    },
    {
      "cell_type": "code",
      "metadata": {
        "colab": {
          "base_uri": "https://localhost:8080/"
        },
        "id": "0eW40lEXml21",
        "outputId": "6a34c0e8-706f-4a44-f61d-4ab566cc29ad"
      },
      "source": [
        "#find\n",
        "text.find('um')"
      ],
      "execution_count": 46,
      "outputs": [
        {
          "output_type": "execute_result",
          "data": {
            "text/plain": [
              "10"
            ]
          },
          "metadata": {
            "tags": []
          },
          "execution_count": 46
        }
      ]
    },
    {
      "cell_type": "code",
      "metadata": {
        "colab": {
          "base_uri": "https://localhost:8080/"
        },
        "id": "XCJyzpiGmpc1",
        "outputId": "b5a9f502-8f40-49f2-92cd-fc8fcfe65d54"
      },
      "source": [
        "#split\n",
        "text.split()"
      ],
      "execution_count": 47,
      "outputs": [
        {
          "output_type": "execute_result",
          "data": {
            "text/plain": [
              "['vou', 'fazer', 'um', 'sanduíche', 'pois', 'estou', 'com', 'fome']"
            ]
          },
          "metadata": {
            "tags": []
          },
          "execution_count": 47
        }
      ]
    },
    {
      "cell_type": "code",
      "metadata": {
        "colab": {
          "base_uri": "https://localhost:8080/",
          "height": 35
        },
        "id": "lZWNvc1Amx42",
        "outputId": "729e582f-4ad4-4a74-84bb-0735df725399"
      },
      "source": [
        "#strip\n",
        "text.strip(' ')"
      ],
      "execution_count": 51,
      "outputs": [
        {
          "output_type": "execute_result",
          "data": {
            "application/vnd.google.colaboratory.intrinsic+json": {
              "type": "string"
            },
            "text/plain": [
              "'vou fazer um sanduíche pois estou com fome'"
            ]
          },
          "metadata": {
            "tags": []
          },
          "execution_count": 51
        }
      ]
    },
    {
      "cell_type": "code",
      "metadata": {
        "colab": {
          "base_uri": "https://localhost:8080/",
          "height": 35
        },
        "id": "gtshBIq1m5Kl",
        "outputId": "c73ee6c1-630c-4c8f-b2d7-327c1bd03927"
      },
      "source": [
        "#replace\n",
        "text.replace(' ', '-')"
      ],
      "execution_count": 52,
      "outputs": [
        {
          "output_type": "execute_result",
          "data": {
            "application/vnd.google.colaboratory.intrinsic+json": {
              "type": "string"
            },
            "text/plain": [
              "'vou-fazer-um-sanduíche-pois-estou-com-fome'"
            ]
          },
          "metadata": {
            "tags": []
          },
          "execution_count": 52
        }
      ]
    },
    {
      "cell_type": "code",
      "metadata": {
        "colab": {
          "base_uri": "https://localhost:8080/"
        },
        "id": "xo8h41VfnO-U",
        "outputId": "86f59a9e-c3cb-4de6-eec2-922911e0c836"
      },
      "source": [
        "#splitlines\n",
        "text2 = 'vou fazer um sanduíche \\npois estou com fome'\n",
        "text2.splitlines()"
      ],
      "execution_count": 54,
      "outputs": [
        {
          "output_type": "execute_result",
          "data": {
            "text/plain": [
              "['vou fazer um sanduíche ', 'pois estou com fome']"
            ]
          },
          "metadata": {
            "tags": []
          },
          "execution_count": 54
        }
      ]
    },
    {
      "cell_type": "code",
      "metadata": {
        "colab": {
          "base_uri": "https://localhost:8080/"
        },
        "id": "LvPszxXNndSX",
        "outputId": "61e3b0b5-2957-4eef-fad8-89cd9c06e89c"
      },
      "source": [
        "#isalnum\n",
        "text3 = '39A29'\n",
        "text3.isalnum()"
      ],
      "execution_count": 57,
      "outputs": [
        {
          "output_type": "execute_result",
          "data": {
            "text/plain": [
              "True"
            ]
          },
          "metadata": {
            "tags": []
          },
          "execution_count": 57
        }
      ]
    },
    {
      "cell_type": "code",
      "metadata": {
        "colab": {
          "base_uri": "https://localhost:8080/"
        },
        "id": "WLxiQmhfn6IM",
        "outputId": "324a7c10-8848-428c-af5c-ee7c52bc698d"
      },
      "source": [
        "#isnumeric\n",
        "text3.isnumeric()"
      ],
      "execution_count": 58,
      "outputs": [
        {
          "output_type": "execute_result",
          "data": {
            "text/plain": [
              "False"
            ]
          },
          "metadata": {
            "tags": []
          },
          "execution_count": 58
        }
      ]
    },
    {
      "cell_type": "code",
      "metadata": {
        "colab": {
          "base_uri": "https://localhost:8080/"
        },
        "id": "eD_4JGXpoDe-",
        "outputId": "8e254d97-9424-478a-a202-e6b7437bc09c"
      },
      "source": [
        "#isupper\n",
        "text4 = 'PYTHON'\n",
        "text4.isupper()"
      ],
      "execution_count": 59,
      "outputs": [
        {
          "output_type": "execute_result",
          "data": {
            "text/plain": [
              "True"
            ]
          },
          "metadata": {
            "tags": []
          },
          "execution_count": 59
        }
      ]
    },
    {
      "cell_type": "code",
      "metadata": {
        "colab": {
          "base_uri": "https://localhost:8080/"
        },
        "id": "VQGUvnmFoK0Y",
        "outputId": "7e2ae597-0387-47cf-ae62-c061ac79ba4e"
      },
      "source": [
        "#istitle\n",
        "text5 = 'Python'\n",
        "text5.istitle()"
      ],
      "execution_count": 60,
      "outputs": [
        {
          "output_type": "execute_result",
          "data": {
            "text/plain": [
              "True"
            ]
          },
          "metadata": {
            "tags": []
          },
          "execution_count": 60
        }
      ]
    },
    {
      "cell_type": "code",
      "metadata": {
        "colab": {
          "base_uri": "https://localhost:8080/"
        },
        "id": "wfdb62pkoS0w",
        "outputId": "4c25dab4-8c80-4f04-90d5-a90669ac6d28"
      },
      "source": [
        "#join\n",
        "lista = ['oi', 'você', 'vem', 'sempre', 'aqui?']\n",
        "text6 = ' '.join(lista)\n",
        "text7 = ','.join(lista)\n",
        "print(text6)\n",
        "print(text7)"
      ],
      "execution_count": 64,
      "outputs": [
        {
          "output_type": "stream",
          "text": [
            "oi você vem sempre aqui?\n",
            "oi,você,vem,sempre,aqui?\n"
          ],
          "name": "stdout"
        }
      ]
    },
    {
      "cell_type": "markdown",
      "metadata": {
        "id": "-SblN2r7oqlH"
      },
      "source": [
        "##Exercícios\n",
        "\n",
        "1- Crie um parágrafo contando uma experiência de vida e armazene isso em uma string. Depois retorne a quantidade de palavras desse parágrafo\n",
        "\n",
        "2- Conte a quantidade de nomes próprios (ou palavras com letras maiúsculas) e de um número que aparecem em sua história\n",
        "\n",
        "3- Conte a quantidae de vogais que aparecem na história\n",
        "\n",
        "4- Conte a quantidade de linhas que aparece na string"
      ]
    },
    {
      "cell_type": "code",
      "metadata": {
        "colab": {
          "base_uri": "https://localhost:8080/"
        },
        "id": "BSrKRoenogXx",
        "outputId": "8187e2d9-72a1-4aff-8183-e235364ac40c"
      },
      "source": [
        "historia = 'Eu decidi de uma vez por todas aprender Python, com o foco em me tornar um cientista de dados. \\nMas nem por isso será um processo fácil. Eu, Lucas, irei me esforçar muito para conquistar este objetivo, \\npodendo levar mais de 6 meses até conquistar a primeira oportunidade'\n",
        "print(historia)"
      ],
      "execution_count": 66,
      "outputs": [
        {
          "output_type": "stream",
          "text": [
            "Eu decidi de uma vez por todas aprender Python, com o foco em me tornar um cientista de dados. \n",
            "Mas nem por isso será um processo fácil. Eu, Lucas, irei me esforçar muito para conquistar este objetivo, \n",
            "podendo levar mais de 6 meses até conquistar a primeira oportunidade\n"
          ],
          "name": "stdout"
        }
      ]
    },
    {
      "cell_type": "code",
      "metadata": {
        "colab": {
          "base_uri": "https://localhost:8080/"
        },
        "id": "urtIFwelpgei",
        "outputId": "1c87042d-dfd7-4892-d378-456fb4213541"
      },
      "source": [
        "#Exercício 1\n",
        "num_palavras = len(historia.split())\n",
        "print(num_palavras)"
      ],
      "execution_count": 68,
      "outputs": [
        {
          "output_type": "stream",
          "text": [
            "48\n"
          ],
          "name": "stdout"
        }
      ]
    },
    {
      "cell_type": "code",
      "metadata": {
        "colab": {
          "base_uri": "https://localhost:8080/"
        },
        "id": "vffJelBxp0vb",
        "outputId": "6c4cdab0-9674-4b56-ae73-b28a3639a17e"
      },
      "source": [
        "#Exercício 2\n",
        "num_nomeprop = [a for a in historia.split() if a.istitle()]\n",
        "num_numeros = [a for a in historia.split() if a.isnumeric()]\n",
        "print('Quantidade de nomes próprios: ', len(num_nomeprop))\n",
        "print('Quantidade de númerais: ', len(num_numeros))"
      ],
      "execution_count": 78,
      "outputs": [
        {
          "output_type": "stream",
          "text": [
            "Quantidade de nomes próprios:  5\n",
            "Quantidade de númerais:  1\n"
          ],
          "name": "stdout"
        }
      ]
    },
    {
      "cell_type": "code",
      "metadata": {
        "colab": {
          "base_uri": "https://localhost:8080/"
        },
        "id": "mQHTA3Snr6-_",
        "outputId": "e660956d-5aa6-459f-d6b5-523337d22c05"
      },
      "source": [
        "#Exercício 3\n",
        "vogais = [a for a in historia if a in ['a', 'e', 'i', 'o', 'u']]\n",
        "print('Quantidade de vogais: ', len(vogais))"
      ],
      "execution_count": 80,
      "outputs": [
        {
          "output_type": "stream",
          "text": [
            "Quantidade de vogais:  93\n"
          ],
          "name": "stdout"
        }
      ]
    },
    {
      "cell_type": "code",
      "metadata": {
        "colab": {
          "base_uri": "https://localhost:8080/"
        },
        "id": "43zOUWy7sgH6",
        "outputId": "6ebbf2f3-48c1-4219-b86e-3decf252509d"
      },
      "source": [
        "#Exercício 4\n",
        "linhas = historia.splitlines()\n",
        "print('A quantidade de linhas é: ', len(linhas))"
      ],
      "execution_count": 81,
      "outputs": [
        {
          "output_type": "stream",
          "text": [
            "A quantidade de linhas é:  3\n"
          ],
          "name": "stdout"
        }
      ]
    },
    {
      "cell_type": "markdown",
      "metadata": {
        "id": "pHqc0SWbs-8O"
      },
      "source": [
        "## Aula 3 - Operações com tuplas"
      ]
    }
  ]
}