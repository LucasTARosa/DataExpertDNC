{
  "nbformat": 4,
  "nbformat_minor": 0,
  "metadata": {
    "colab": {
      "name": "FuncoesPython.ipynb",
      "provenance": []
    },
    "kernelspec": {
      "name": "python3",
      "display_name": "Python 3"
    },
    "language_info": {
      "name": "python"
    }
  },
  "cells": [
    {
      "cell_type": "markdown",
      "metadata": {
        "id": "fuZ8Hy0e-g-j"
      },
      "source": [
        "#Aula - Funções do Python"
      ]
    },
    {
      "cell_type": "code",
      "metadata": {
        "id": "hz9nXQbs-HOy"
      },
      "source": [
        "#criação da primeira função\n",
        "def primeira_funcao():\n",
        "  print('primeira função no Python')"
      ],
      "execution_count": 1,
      "outputs": []
    },
    {
      "cell_type": "code",
      "metadata": {
        "colab": {
          "base_uri": "https://localhost:8080/"
        },
        "id": "KtfTym32-1Hq",
        "outputId": "609aa82c-e828-4826-f6fc-093dcdce9ba6"
      },
      "source": [
        "primeira_funcao()"
      ],
      "execution_count": 2,
      "outputs": [
        {
          "output_type": "stream",
          "text": [
            "primeira função no Python\n"
          ],
          "name": "stdout"
        }
      ]
    },
    {
      "cell_type": "code",
      "metadata": {
        "colab": {
          "base_uri": "https://localhost:8080/"
        },
        "id": "19YcfHUU-26R",
        "outputId": "95b97565-cad7-43f3-cb9a-73fb9990e3e4"
      },
      "source": [
        "#podendo usar funções builds dentro da função\n",
        "\n",
        "def seg_funcao(x):\n",
        "  return len(x)\n",
        "lista=[1, 2, 3, 4, 5, 15]\n",
        "seg_funcao(lista)"
      ],
      "execution_count": 3,
      "outputs": [
        {
          "output_type": "execute_result",
          "data": {
            "text/plain": [
              "6"
            ]
          },
          "metadata": {
            "tags": []
          },
          "execution_count": 3
        }
      ]
    },
    {
      "cell_type": "code",
      "metadata": {
        "colab": {
          "base_uri": "https://localhost:8080/",
          "height": 35
        },
        "id": "HYP_prPf_IpE",
        "outputId": "2ef7aa6e-7d44-41ef-d30c-99d80804111d"
      },
      "source": [
        "#função verifica se é par, atribui uma variável e retorna resposta \"o número é\" + variável\n",
        "\n",
        "def verificar_par (x):\n",
        "  if x %2 == 0:\n",
        "    resultado = ' é par'\n",
        "  else:\n",
        "    resultado = ' não é par'\n",
        "  return 'o número é'+resultado\n",
        "\n",
        "verificar_par(11)"
      ],
      "execution_count": 7,
      "outputs": [
        {
          "output_type": "execute_result",
          "data": {
            "application/vnd.google.colaboratory.intrinsic+json": {
              "type": "string"
            },
            "text/plain": [
              "'o número é não é par'"
            ]
          },
          "metadata": {
            "tags": []
          },
          "execution_count": 7
        }
      ]
    },
    {
      "cell_type": "code",
      "metadata": {
        "colab": {
          "base_uri": "https://localhost:8080/"
        },
        "id": "kG9bHcc6_f2s",
        "outputId": "7c437e9e-03c0-4d4e-e882-3aed89ca3527"
      },
      "source": [
        "#lista com numeros de 1 a 9\n",
        "print(lista)\n",
        "\n",
        "#utilizando o map é possível verificar a função dentro de uma lista\n",
        "list(map(verificar_par, lista))"
      ],
      "execution_count": 10,
      "outputs": [
        {
          "output_type": "stream",
          "text": [
            "[1, 2, 3, 4, 5, 15]\n"
          ],
          "name": "stdout"
        },
        {
          "output_type": "execute_result",
          "data": {
            "text/plain": [
              "['o número é não é par',\n",
              " 'o número é é par',\n",
              " 'o número é não é par',\n",
              " 'o número é é par',\n",
              " 'o número é não é par',\n",
              " 'o número é não é par']"
            ]
          },
          "metadata": {
            "tags": []
          },
          "execution_count": 10
        }
      ]
    },
    {
      "cell_type": "code",
      "metadata": {
        "colab": {
          "base_uri": "https://localhost:8080/"
        },
        "id": "uipBbVq9AGac",
        "outputId": "b8084757-21a0-44ae-fcd6-b2cecef1d057"
      },
      "source": [
        "#criando nova função verifica_par e atribuindo True ou False na veriável que vai retornar\n",
        "\n",
        "def verificar_par_bol(x):\n",
        "  if x %2 == 0:\n",
        "    result = True\n",
        "  else:\n",
        "    result = False\n",
        "  return print('o número é par? ', result)\n",
        "\n",
        "verificar_par_bol(10)"
      ],
      "execution_count": 13,
      "outputs": [
        {
          "output_type": "stream",
          "text": [
            "o número é par?  True\n"
          ],
          "name": "stdout"
        }
      ]
    },
    {
      "cell_type": "code",
      "metadata": {
        "colab": {
          "base_uri": "https://localhost:8080/"
        },
        "id": "MVHj0IiYBSir",
        "outputId": "bb15adcd-4beb-44f1-82da-6748ed9378c6"
      },
      "source": [
        "def verificar_par_bol2(x):\n",
        "  if x %2 == 0:\n",
        "    result = True\n",
        "  else:\n",
        "    result = False\n",
        "  return result\n",
        "\n",
        "verificar_par_bol2(10)"
      ],
      "execution_count": 16,
      "outputs": [
        {
          "output_type": "execute_result",
          "data": {
            "text/plain": [
              "True"
            ]
          },
          "metadata": {
            "tags": []
          },
          "execution_count": 16
        }
      ]
    },
    {
      "cell_type": "code",
      "metadata": {
        "colab": {
          "base_uri": "https://localhost:8080/"
        },
        "id": "eUGNX4fwAm61",
        "outputId": "812cabfd-5361-4d4f-acf0-c4765712e729"
      },
      "source": [
        "#utilizando o filter para  aplicar nova função verifica_par em uma lista e atribuindo x\n",
        "pares = list(filter(verificar_par_bol2,lista))\n",
        "\n",
        "#tem que usar printando list, pois retorna como construtor\n",
        "print(lista)\n",
        "print(pares)"
      ],
      "execution_count": 17,
      "outputs": [
        {
          "output_type": "stream",
          "text": [
            "[1, 2, 3, 4, 5, 15]\n",
            "[2, 4]\n"
          ],
          "name": "stdout"
        }
      ]
    },
    {
      "cell_type": "code",
      "metadata": {
        "id": "tdoO4epPBHyi"
      },
      "source": [
        "#criando função taboada que recebe um número e percorre o for com print da multiplicação desse número\n",
        "\n",
        "def taboada (x):\n",
        "  for a in range(1,11):\n",
        "    print(x, 'x', a, '=', a*x)"
      ],
      "execution_count": 21,
      "outputs": []
    },
    {
      "cell_type": "code",
      "metadata": {
        "colab": {
          "base_uri": "https://localhost:8080/"
        },
        "id": "z6mOpFULBtZ9",
        "outputId": "0f8a75c0-a910-419c-d901-137c30ce6421"
      },
      "source": [
        "taboada(6)"
      ],
      "execution_count": 28,
      "outputs": [
        {
          "output_type": "stream",
          "text": [
            "6 x 1 = 6\n",
            "6 x 2 = 12\n",
            "6 x 3 = 18\n",
            "6 x 4 = 24\n",
            "6 x 5 = 30\n",
            "6 x 6 = 36\n",
            "6 x 7 = 42\n",
            "6 x 8 = 48\n",
            "6 x 9 = 54\n",
            "6 x 10 = 60\n"
          ],
          "name": "stdout"
        }
      ]
    },
    {
      "cell_type": "code",
      "metadata": {
        "id": "NuzPjoMVBvo2"
      },
      "source": [
        "#criando variável que recebe x e y e atribuindo x e y default\n",
        "\n",
        "def valores_padrao(x=10, y=3):\n",
        "  return x + y"
      ],
      "execution_count": 24,
      "outputs": []
    },
    {
      "cell_type": "code",
      "metadata": {
        "colab": {
          "base_uri": "https://localhost:8080/"
        },
        "id": "XASvufbrCOjs",
        "outputId": "8ee07c02-818a-4473-fc1d-3cbd6294e7f3"
      },
      "source": [
        "#print da função padrão acima sem passar parâmetros\n",
        "print(valores_padrao())\n",
        "\n",
        "#print da função padrão acima passando o valor de x\n",
        "print(valores_padrao(x=19))\n",
        "\n",
        "#print da função padrão acima passando o valor de x e y\n",
        "print(valores_padrao(x=5, y=120))\n",
        "\n",
        "#print da função padrão passando 2 valores\n",
        "print(valores_padrao(20,12))\n",
        "\n",
        "#print da função padrão acima passando o valor de y\n",
        "print(valores_padrao(y=5))"
      ],
      "execution_count": 34,
      "outputs": [
        {
          "output_type": "stream",
          "text": [
            "13\n",
            "22\n",
            "125\n",
            "32\n",
            "15\n"
          ],
          "name": "stdout"
        }
      ]
    },
    {
      "cell_type": "code",
      "metadata": {
        "id": "uU4Os_X4CUXE"
      },
      "source": [
        "#criando função sem print e sem return\n",
        "def erro(x=1, y=20):\n",
        "  x+y"
      ],
      "execution_count": 37,
      "outputs": []
    },
    {
      "cell_type": "code",
      "metadata": {
        "id": "tT-9ebL7C_jP"
      },
      "source": [
        "erro()"
      ],
      "execution_count": 38,
      "outputs": []
    },
    {
      "cell_type": "code",
      "metadata": {
        "id": "bqfRvoUdDAWF"
      },
      "source": [
        "#criando função cadastro com input de nome e sobrenome, retornando nome e sobrenome do input\n",
        "\n",
        "def cadastro():\n",
        "  print('nome')\n",
        "  nome = input()\n",
        "  print('sobrenome')\n",
        "  snome = input()\n",
        "  return nome,snome"
      ],
      "execution_count": 39,
      "outputs": []
    },
    {
      "cell_type": "code",
      "metadata": {
        "colab": {
          "base_uri": "https://localhost:8080/"
        },
        "id": "Z_lfUdpmDdWz",
        "outputId": "2133f992-6ec7-43b1-9253-ae5b86377085"
      },
      "source": [
        "cadastro()"
      ],
      "execution_count": 40,
      "outputs": [
        {
          "output_type": "stream",
          "text": [
            "nome\n",
            "Lucas\n",
            "sobrenome\n",
            "Ap\n"
          ],
          "name": "stdout"
        },
        {
          "output_type": "execute_result",
          "data": {
            "text/plain": [
              "('Lucas', 'Ap')"
            ]
          },
          "metadata": {
            "tags": []
          },
          "execution_count": 40
        }
      ]
    },
    {
      "cell_type": "markdown",
      "metadata": {
        "id": "v7XuBik4DpXX"
      },
      "source": [
        "##Exercício!\n",
        "\n",
        "1- Crie uma função que recebe o input do cpf e nome do usuário\n",
        "\n",
        "2- Agora nessa mesma função coloque o retorno como um dicionário onde a chave é o cpf e o valor é o nome do usuário\n",
        "\n",
        "3- Crie uma função para retornar a quantidade de cpf cadastrados"
      ]
    },
    {
      "cell_type": "code",
      "metadata": {
        "id": "XAv3v_aiDena"
      },
      "source": [
        "#Exercício 1\n",
        "\n",
        "def cadastro_cpf():\n",
        "  print('Informe seu cpf:')\n",
        "  cpf = input()\n",
        "  print('Informe seu nome:')\n",
        "  nome = input()\n",
        "  return cpf, nome\n"
      ],
      "execution_count": 73,
      "outputs": []
    },
    {
      "cell_type": "code",
      "metadata": {
        "colab": {
          "base_uri": "https://localhost:8080/"
        },
        "id": "D5UzXHLIEbQ0",
        "outputId": "3eb5d024-b951-442f-a6bc-1b77c00b22b4"
      },
      "source": [
        "cadastro_cpf()"
      ],
      "execution_count": 45,
      "outputs": [
        {
          "output_type": "stream",
          "text": [
            "Informe seu cpf:\n",
            "123184523\n",
            "Inform seu nome:\n",
            "Pedro\n"
          ],
          "name": "stdout"
        },
        {
          "output_type": "execute_result",
          "data": {
            "text/plain": [
              "('123184523', 'Pedro')"
            ]
          },
          "metadata": {
            "tags": []
          },
          "execution_count": 45
        }
      ]
    },
    {
      "cell_type": "code",
      "metadata": {
        "colab": {
          "base_uri": "https://localhost:8080/"
        },
        "id": "Hh8PX8PeEdJm",
        "outputId": "50c19565-3955-4aa6-d7b7-abe64cd65571"
      },
      "source": [
        "#Exercício 2\n",
        "\n",
        "def cadastro_cpf():\n",
        "  print('Informe seu cpf:')\n",
        "  cpf = input()\n",
        "  print('Informe seu nome:')\n",
        "  nome = input()\n",
        "  cadastrados = dict({cpf:nome})\n",
        "  print(cadastrados)\n",
        "  return cadastrados\n",
        "cadastro_cpf()"
      ],
      "execution_count": 64,
      "outputs": [
        {
          "output_type": "stream",
          "text": [
            "Informe seu cpf:\n",
            "2138973423\n",
            "Informe seu nome:\n",
            "Pedro\n",
            "{'2138973423': 'Pedro'}\n"
          ],
          "name": "stdout"
        },
        {
          "output_type": "execute_result",
          "data": {
            "text/plain": [
              "{'2138973423': 'Pedro'}"
            ]
          },
          "metadata": {
            "tags": []
          },
          "execution_count": 64
        }
      ]
    },
    {
      "cell_type": "code",
      "metadata": {
        "id": "0CWv2G-0FZHj"
      },
      "source": [
        "#exercicio 3\n",
        "def cadastro_cpf():\n",
        "  cpfs = []\n",
        "  continuar = ''\n",
        "  while continuar != 'não':\n",
        "    print('Informe seu nome:')\n",
        "    nome = input()\n",
        "    print('Informe seu cpf:')\n",
        "    cpf = input()\n",
        "    cpfs.append(cpf)\n",
        "    print('quer continuar? Digite não para sair')\n",
        "    continuar = input()\n",
        "  return len(cpfs)\n",
        "  qte = cadastro_cpf()\n",
        "  qte"
      ],
      "execution_count": 77,
      "outputs": []
    },
    {
      "cell_type": "code",
      "metadata": {
        "colab": {
          "base_uri": "https://localhost:8080/"
        },
        "id": "0l6rTL9vKX7R",
        "outputId": "41db2a64-aa30-4cc1-91b2-65f491c4178e"
      },
      "source": [
        "cadastro_cpf()"
      ],
      "execution_count": 78,
      "outputs": [
        {
          "output_type": "stream",
          "text": [
            "Informe seu nome:\n",
            "ap\n",
            "Informe seu cpf:\n",
            "238348934\n",
            "quer continuar? Digite não para sair\n",
            "sim\n",
            "Informe seu nome:\n",
            "Lua\n",
            "Informe seu cpf:\n",
            "48383428342\n",
            "quer continuar? Digite não para sair\n",
            "não\n"
          ],
          "name": "stdout"
        },
        {
          "output_type": "execute_result",
          "data": {
            "text/plain": [
              "2"
            ]
          },
          "metadata": {
            "tags": []
          },
          "execution_count": 78
        }
      ]
    },
    {
      "cell_type": "code",
      "metadata": {
        "id": "DYwkX4Y8K1lT"
      },
      "source": [
        ""
      ],
      "execution_count": null,
      "outputs": []
    }
  ]
}