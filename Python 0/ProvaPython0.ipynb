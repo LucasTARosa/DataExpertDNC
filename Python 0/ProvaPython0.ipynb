{
  "nbformat": 4,
  "nbformat_minor": 0,
  "metadata": {
    "colab": {
      "name": "ProvaPython0.ipynb",
      "provenance": []
    },
    "kernelspec": {
      "name": "python3",
      "display_name": "Python 3"
    },
    "language_info": {
      "name": "python"
    }
  },
  "cells": [
    {
      "cell_type": "markdown",
      "metadata": {
        "id": "K8dBWRIEHMA0"
      },
      "source": [
        "# Prova de Python 0\n",
        "\n",
        "##Questão 1\n",
        "Tendo o seguinte dicionário:\n",
        "dicionario={'pessoa_1':{'nome':'Peterson','sobrenome':'Almeida'},'pessoa_2':{'nome':'Maria','sobrenome':'Silva'},'pessoa_3':{'nome':'Jose','sobrenome':'Santos'}}\n",
        "Escreva o código que retorna e imprima o nome completo de cada pessoa em uma lista, primeiro o nome do Peterson, depois do Peterson e da Maria e depois de todo mundo, isso tudo de uma vez só.\n",
        "Observação: Imprima apenas o resultado limpo no output sem incrementar outras coisas, palavras etc."
      ]
    },
    {
      "cell_type": "code",
      "metadata": {
        "id": "3NmG-8EeG_5M"
      },
      "source": [
        "dicionario={'pessoa_1':{'nome':'Peterson','sobrenome':'Almeida'},'pessoa_2':{'nome':'Maria','sobrenome':'Silva'},'pessoa_3':{'nome':'Jose','sobrenome':'Santos'}}"
      ],
      "execution_count": 22,
      "outputs": []
    },
    {
      "cell_type": "code",
      "metadata": {
        "colab": {
          "base_uri": "https://localhost:8080/"
        },
        "id": "W5gcUhXUHmH2",
        "outputId": "9c7e6b75-1d55-45b6-ee58-0eb27f4f5b0c"
      },
      "source": [
        "dicionario"
      ],
      "execution_count": 5,
      "outputs": [
        {
          "output_type": "execute_result",
          "data": {
            "text/plain": [
              "{'pessoa_1': {'nome': 'Peterson', 'sobrenome': 'Almeida'},\n",
              " 'pessoa_2': {'nome': 'Maria', 'sobrenome': 'Silva'},\n",
              " 'pessoa_3': {'nome': 'Jose', 'sobrenome': 'Santos'}}"
            ]
          },
          "metadata": {
            "tags": []
          },
          "execution_count": 5
        }
      ]
    },
    {
      "cell_type": "code",
      "metadata": {
        "colab": {
          "base_uri": "https://localhost:8080/"
        },
        "id": "3uhrRNe7IMF8",
        "outputId": "372494a8-c3d3-40ee-df08-167659453848"
      },
      "source": [
        "for a in dicionario.items():\n",
        "  print(a)"
      ],
      "execution_count": 7,
      "outputs": [
        {
          "output_type": "stream",
          "text": [
            "('pessoa_1', {'nome': 'Peterson', 'sobrenome': 'Almeida'})\n",
            "('pessoa_2', {'nome': 'Maria', 'sobrenome': 'Silva'})\n",
            "('pessoa_3', {'nome': 'Jose', 'sobrenome': 'Santos'})\n"
          ],
          "name": "stdout"
        }
      ]
    },
    {
      "cell_type": "code",
      "metadata": {
        "colab": {
          "base_uri": "https://localhost:8080/"
        },
        "id": "6Cq9zccjJi6y",
        "outputId": "6c890f5d-de2e-4b45-f3b2-faecd500d46e"
      },
      "source": [
        "lista_nomes = []\n",
        "for a,b in dicionario.items():\n",
        "  lista_nomes.append((b['nome'], b['sobrenome']))\n",
        "\n",
        "print(lista_nomes)"
      ],
      "execution_count": 23,
      "outputs": [
        {
          "output_type": "stream",
          "text": [
            "[('Peterson', 'Almeida'), ('Maria', 'Silva'), ('Jose', 'Santos')]\n"
          ],
          "name": "stdout"
        }
      ]
    },
    {
      "cell_type": "markdown",
      "metadata": {
        "id": "3hdzSCFxMCPd"
      },
      "source": [
        "## Questão 2\n",
        "\n",
        "Considerando as listas abaixo:\n",
        "Lista1=[1,2,3,4,5]\n",
        "Lista2=[1,2,3,4,5]\n",
        "Execute o código para que o resultado da Lista3 seja [1,2,3,4,5,1,2,3,4,5]\n",
        "Observação: Imprima apenas o resultado limpo no output sem incrementar outras coisas, palavras etc."
      ]
    },
    {
      "cell_type": "code",
      "metadata": {
        "id": "BsxnSRQZMIMI"
      },
      "source": [
        "Lista1=[1,2,3,4,5] \n",
        "Lista2=[1,2,3,4,5]"
      ],
      "execution_count": 39,
      "outputs": []
    },
    {
      "cell_type": "code",
      "metadata": {
        "colab": {
          "base_uri": "https://localhost:8080/"
        },
        "id": "NltlYSVKMOHl",
        "outputId": "e29a051c-0ee6-425f-90e5-6fa09f5472f8"
      },
      "source": [
        "Lista3 = Lista1.copy()\n",
        "Lista3.extend(Lista2)\n",
        "print(Lista3)"
      ],
      "execution_count": 40,
      "outputs": [
        {
          "output_type": "stream",
          "text": [
            "[1, 2, 3, 4, 5, 1, 2, 3, 4, 5]\n"
          ],
          "name": "stdout"
        }
      ]
    },
    {
      "cell_type": "markdown",
      "metadata": {
        "id": "4SJkqrylN-B3"
      },
      "source": [
        "## Questão 3\n",
        "\n",
        "Considerando a Lista:\n",
        "Lista=[1,2,3,4,5,1,2,3,4,5]\n",
        "Escreva o código para obter os itens sem repetições\n",
        "Observação: Declare uma variável que contenha o resultado e imprima para garantir que o resultado seja mostrado na janela \"Output\"\n",
        "Imprima apenas o resultado limpo no output sem incrementar outras coisas, palavras etc."
      ]
    },
    {
      "cell_type": "code",
      "metadata": {
        "id": "conclDOEOEHM"
      },
      "source": [
        "Lista=[1,2,3,4,5,1,2,3,4,5]"
      ],
      "execution_count": 53,
      "outputs": []
    },
    {
      "cell_type": "code",
      "metadata": {
        "colab": {
          "base_uri": "https://localhost:8080/"
        },
        "id": "OglGqeaUOFQr",
        "outputId": "6738e519-da54-4d56-ec32-006eac93e08f"
      },
      "source": [
        "sorted(Lista)\n",
        "print(Lista)"
      ],
      "execution_count": 42,
      "outputs": [
        {
          "output_type": "stream",
          "text": [
            "[1, 2, 3, 4, 5, 1, 2, 3, 4, 5]\n"
          ],
          "name": "stdout"
        }
      ]
    },
    {
      "cell_type": "code",
      "metadata": {
        "colab": {
          "base_uri": "https://localhost:8080/"
        },
        "id": "3vGt_u9DO0hK",
        "outputId": "6e3f8c39-feeb-48f3-f705-7b97e8ec0edb"
      },
      "source": [
        "def remove_repetidos(lista):\n",
        "    l = []\n",
        "    for i in lista:\n",
        "        if i not in l:\n",
        "            l.append(i)\n",
        "    l.sort()\n",
        "    return l\n",
        "\n",
        "lista = remove_repetidos(Lista)\n",
        "print (lista)"
      ],
      "execution_count": 54,
      "outputs": [
        {
          "output_type": "stream",
          "text": [
            "[1, 2, 3, 4, 5]\n"
          ],
          "name": "stdout"
        }
      ]
    },
    {
      "cell_type": "code",
      "metadata": {
        "colab": {
          "base_uri": "https://localhost:8080/"
        },
        "id": "sqpzoMrOO5bQ",
        "outputId": "b0c190dc-5e4d-4b25-c7af-c552f19ff280"
      },
      "source": [
        "Lista_unica = sorted(set(Lista))\n",
        "print(Lista_unica)"
      ],
      "execution_count": 51,
      "outputs": [
        {
          "output_type": "stream",
          "text": [
            "[1, 2, 3, 4, 5]\n"
          ],
          "name": "stdout"
        }
      ]
    },
    {
      "cell_type": "markdown",
      "metadata": {
        "id": "Bff3HSF-PwS8"
      },
      "source": [
        "## Questão 4\n",
        "Some os valores da lista dinheiro:\n",
        "dinheiro = [10,2,30,23,12,42,543,24,33,34,123.5,1231,53,123,6456,234,45]\n",
        "Observação: Declare uma variável que contenha o resultado e imprima para garantir que o resultado seja mostrado na janela \"Output\"\n",
        "Imprima apenas o resultado limpo no output sem incrementar outras coisas, palavras etc."
      ]
    },
    {
      "cell_type": "code",
      "metadata": {
        "id": "VABe66m_PvvX"
      },
      "source": [
        "dinheiro = [10,2,30,23,12,42,543,24,33,34,123.5,1231,53,123,6456,234,45]"
      ],
      "execution_count": 55,
      "outputs": []
    },
    {
      "cell_type": "code",
      "metadata": {
        "colab": {
          "base_uri": "https://localhost:8080/"
        },
        "id": "S46O8uS2P5R4",
        "outputId": "fcb5563d-6442-404a-ae90-5a38e7594b83"
      },
      "source": [
        "soma = sum(dinheiro)\n",
        "print(soma)"
      ],
      "execution_count": 56,
      "outputs": [
        {
          "output_type": "stream",
          "text": [
            "9018.5\n"
          ],
          "name": "stdout"
        }
      ]
    },
    {
      "cell_type": "markdown",
      "metadata": {
        "id": "E8rIrqDPQGjU"
      },
      "source": [
        "##Questão 5\n",
        "Crie uma função lambda que adiciona + 1 para os elementos pares da lista abaixo transformando todos os pares em ímpares e mantendo os ímpares sem alterações.\n",
        "lista=[1,10,3,4,1,2,3,4,5,3,1,2,3]\n",
        "Observação: Imprima apenas o resultado limpo no output sem incrementar outras coisas, palavras etc."
      ]
    },
    {
      "cell_type": "code",
      "metadata": {
        "id": "AUcIdmGTQIuZ"
      },
      "source": [
        "lista=[1,10,3,4,1,2,3,4,5,3,1,2,3]"
      ],
      "execution_count": 57,
      "outputs": []
    },
    {
      "cell_type": "code",
      "metadata": {
        "colab": {
          "base_uri": "https://localhost:8080/"
        },
        "id": "fDoPTbJyQPqX",
        "outputId": "33680e2a-af3b-484e-bd6e-f5d9aefef4a7"
      },
      "source": [
        "lista_impares = []\n",
        "for a in range(len(lista)):\n",
        "  if lista[a] %2 == 0:\n",
        "    lista[a] += 1\n",
        "    lista_impares.append(lista[a])\n",
        "  else:\n",
        "    lista_impares.append(lista[a])\n",
        "\n",
        "print(lista_impares)"
      ],
      "execution_count": 58,
      "outputs": [
        {
          "output_type": "stream",
          "text": [
            "[1, 11, 3, 5, 1, 3, 3, 5, 5, 3, 1, 3, 3]\n"
          ],
          "name": "stdout"
        }
      ]
    },
    {
      "cell_type": "markdown",
      "metadata": {
        "id": "xiEqyRv8RMZB"
      },
      "source": [
        "## Questão 6\n",
        "Considerando as informações abaixo, crie uma função para contar quantas vezes aparece a palavra 'dnc' e imprima apenas o número de vezes que aparece a palavra 'dnc'\n",
        "a =['dnc','abc','bnc','mnc','dnc','bnc','Dnc','ncd','dnc','dncdnc','ddnc']\n",
        "b =['dnc','abc','bnc','mnc','dnc','bnc','Dnc','ncd','dnc','dncdnc','ddnc','xms','cds','dn','cdn','dnc','xml','a']\n",
        "Observação: Imprima apenas o resultado limpo no output sem incrementar outras coisas, palavras etc."
      ]
    },
    {
      "cell_type": "code",
      "metadata": {
        "id": "R9K8bykvRPEe"
      },
      "source": [
        "a =['dnc','abc','bnc','mnc','dnc','bnc','Dnc','ncd','dnc','dncdnc','ddnc']\n",
        "b =['dnc','abc','bnc','mnc','dnc','bnc','Dnc','ncd','dnc','dncdnc','ddnc','xms','cds','dn','cdn','dnc','xml','a']"
      ],
      "execution_count": 59,
      "outputs": []
    },
    {
      "cell_type": "code",
      "metadata": {
        "id": "cP3e4WbeRQIN"
      },
      "source": [
        "def contagem(lista):\n",
        "  contagem_dnc = 0\n",
        "  for a in lista:\n",
        "    if a == 'dnc':\n",
        "      contagem_dnc += 1\n",
        "      return contagem_dnc\n",
        "\n",
        "contagem_a = contagem(a)"
      ],
      "execution_count": 62,
      "outputs": []
    },
    {
      "cell_type": "code",
      "metadata": {
        "colab": {
          "base_uri": "https://localhost:8080/"
        },
        "id": "nSRZceMHSVbd",
        "outputId": "d31d946c-86b8-40ef-fc7b-182e64099774"
      },
      "source": [
        "dnc = []\n",
        "c = a.copy()\n",
        "c.extend(b)\n",
        "dnc = [contagem for contagem in c if contagem in ['dnc']]\n",
        "print(dnc)"
      ],
      "execution_count": 75,
      "outputs": [
        {
          "output_type": "stream",
          "text": [
            "['dnc', 'dnc', 'dnc', 'dnc', 'dnc', 'dnc', 'dnc']\n"
          ],
          "name": "stdout"
        }
      ]
    },
    {
      "cell_type": "markdown",
      "metadata": {
        "id": "bwd-gDOXUiyZ"
      },
      "source": [
        "##Questão 7\n",
        "\n",
        "Considerando as informações abaixo, crie uma função para que a saída seja a posição da palavra 'dnc':\n",
        "a =['dnc','abc','bnc','mnc','dnc','bnc','Dnc','ncd','dnc','dncdnc','ddnc']\n",
        "b =['dnc','abc','bnc','mnc','dnc','bnc','Dnc','ncd','dnc','dncdnc','ddnc','xms','cds','dn','cdn','dnc','xml','a']\n",
        "Imprima apenas a saída, ou seja, qual a posição da palavra 'dnc'.\n",
        "Observação: Imprima apenas o resultado limpo no output sem incrementar outras coisas, palavras etc."
      ]
    },
    {
      "cell_type": "code",
      "metadata": {
        "id": "NhnV2jsrUlZZ"
      },
      "source": [
        "a =['dnc','abc','bnc','mnc','dnc','bnc','Dnc','ncd','dnc','dncdnc','ddnc']\n",
        "b =['dnc','abc','bnc','mnc','dnc','bnc','Dnc','ncd','dnc','dncdnc','ddnc','xms','cds','dn','cdn','dnc','xml','a']"
      ],
      "execution_count": 133,
      "outputs": []
    },
    {
      "cell_type": "code",
      "metadata": {
        "colab": {
          "base_uri": "https://localhost:8080/"
        },
        "id": "EEBCPMLEUmYW",
        "outputId": "3eb7cc08-f59b-4dc5-f6fe-5d3f29356c66"
      },
      "source": [
        "print(a.index('dnc'))"
      ],
      "execution_count": 100,
      "outputs": [
        {
          "output_type": "stream",
          "text": [
            "0\n"
          ],
          "name": "stdout"
        }
      ]
    },
    {
      "cell_type": "code",
      "metadata": {
        "colab": {
          "base_uri": "https://localhost:8080/"
        },
        "id": "QlgtjOodVmee",
        "outputId": "aec8d692-caa2-4bf6-d0b5-6c8020d1ec31"
      },
      "source": [
        "len(a)"
      ],
      "execution_count": 96,
      "outputs": [
        {
          "output_type": "execute_result",
          "data": {
            "text/plain": [
              "11"
            ]
          },
          "metadata": {
            "tags": []
          },
          "execution_count": 96
        }
      ]
    },
    {
      "cell_type": "code",
      "metadata": {
        "id": "lRsm1unWUy7Z"
      },
      "source": [
        "lista_posicoesa = []\n",
        "lista_posicoesb = []\n",
        "for dnc in range(len(a)):\n",
        "  if a[dnc] == 'dnc':\n",
        "    lista_posicoesa.append(a.index('dnc'))\n",
        "    a[dnc] = 'Dnc'\n",
        "\n",
        "for dnc in range(len(b)):\n",
        "  if b[dnc] == 'dnc':\n",
        "    lista_posicoesb.append(b.index('dnc'))\n",
        "    b[dnc] = 'Dnc'\n",
        "    \n",
        "    "
      ],
      "execution_count": 134,
      "outputs": []
    },
    {
      "cell_type": "code",
      "metadata": {
        "colab": {
          "base_uri": "https://localhost:8080/"
        },
        "id": "Nd40CRLNVSz1",
        "outputId": "f9edbdef-8747-4301-98db-7674fb0ded12"
      },
      "source": [
        "\n",
        "print(lista_posicoesa)\n",
        "print(lista_posicoesb)"
      ],
      "execution_count": 135,
      "outputs": [
        {
          "output_type": "stream",
          "text": [
            "[0, 4, 8]\n",
            "[0, 4, 8, 15]\n"
          ],
          "name": "stdout"
        }
      ]
    },
    {
      "cell_type": "markdown",
      "metadata": {
        "id": "hPpoi3Dxacfy"
      },
      "source": [
        "##Questão 8\n",
        "\n",
        "Use uma função nativa para descobrir qual o menor número da lista abaixo:\n",
        "lista = [77,80,90,23,44,15,11,25,68,14,22,99]\n",
        "Observação: Declare uma variável que contenha o resultado e imprima para garantir que o resultado seja mostrado na janela \"Output\"\n",
        "Imprima apenas o resultado limpo no output sem incrementar outras coisas, palavras etc."
      ]
    },
    {
      "cell_type": "code",
      "metadata": {
        "id": "gGCEiq8oaecO"
      },
      "source": [
        "lista = [77,80,90,23,44,15,11,25,68,14,22,99]"
      ],
      "execution_count": 136,
      "outputs": []
    },
    {
      "cell_type": "code",
      "metadata": {
        "colab": {
          "base_uri": "https://localhost:8080/"
        },
        "id": "A6pDOFEja94G",
        "outputId": "71f2b415-d3be-4e57-8a1e-4d05b039c9ff"
      },
      "source": [
        "lista.sort()\n",
        "print(lista[0])"
      ],
      "execution_count": 139,
      "outputs": [
        {
          "output_type": "stream",
          "text": [
            "11\n"
          ],
          "name": "stdout"
        }
      ]
    },
    {
      "cell_type": "code",
      "metadata": {
        "id": "qPcmO7v_a_Yn"
      },
      "source": [
        ""
      ],
      "execution_count": null,
      "outputs": []
    },
    {
      "cell_type": "markdown",
      "metadata": {
        "id": "0ULYZFE1bNqe"
      },
      "source": [
        "## Questão 9\n",
        "\n",
        "Crie a classe 'pessoa', adicione os atributos:\n",
        "Nome, Sobrenome, Idade e Gênero\n",
        "e verifique se a 'pessoa_1' é mais nova que a 'pessoa_2'. Caso seja, imprima a frase \"Ana é mais nova que Joao\", caso não \"Ana não é mais nova que Joao\"\n",
        "\n",
        "p1 = pessoa(nome='Ana',sobrenome='Silva',idade=19,genero='feminino')\n",
        "p2 = pessoa(nome='Joao',sobrenome='Souza',idade=31,genero='masculino')\n",
        "Observação: Imprima necessariamente a frase \"Ana é mais nova que Joao\", caso não \"Ana não é mais nova que Joao\""
      ]
    },
    {
      "cell_type": "code",
      "metadata": {
        "id": "dwUfYMvQcGzk"
      },
      "source": [
        "pessoas = {'pessoa_1':{'nome':'Ana', 'sobrenome':'Silva', 'idade':19, 'genero':'feminino'},\n",
        "           'pessoa_2':{'nome': 'João', 'sobrenome':'Souza', 'idade':31, 'genero':'masculino'}}"
      ],
      "execution_count": 152,
      "outputs": []
    },
    {
      "cell_type": "code",
      "metadata": {
        "colab": {
          "base_uri": "https://localhost:8080/"
        },
        "id": "6KsLNwWAb6Mb",
        "outputId": "e63b049d-f22c-481e-a05d-c7b45a4b8393"
      },
      "source": [
        "pessoas"
      ],
      "execution_count": 153,
      "outputs": [
        {
          "output_type": "execute_result",
          "data": {
            "text/plain": [
              "{'pessoa_1': {'genero': 'feminino',\n",
              "  'idade': 19,\n",
              "  'nome': 'Ana',\n",
              "  'sobrenome': 'Silva'},\n",
              " 'pessoa_2': {'genero': 'masculino',\n",
              "  'idade': 31,\n",
              "  'nome': 'João',\n",
              "  'sobrenome': 'Souza'}}"
            ]
          },
          "metadata": {
            "tags": []
          },
          "execution_count": 153
        }
      ]
    },
    {
      "cell_type": "code",
      "metadata": {
        "colab": {
          "base_uri": "https://localhost:8080/"
        },
        "id": "N02FIP5Vb6J7",
        "outputId": "a36a24df-cdcf-486f-cc2a-7f85ca84a620"
      },
      "source": [
        "if (pessoas['pessoa_1']['idade']) < (pessoas['pessoa_2']['idade']):\n",
        "  print('Ana é mais nova que João')\n",
        "else:\n",
        "  print('Ana não é mais nova que João')"
      ],
      "execution_count": 155,
      "outputs": [
        {
          "output_type": "stream",
          "text": [
            "Ana é mais nova que João\n"
          ],
          "name": "stdout"
        }
      ]
    },
    {
      "cell_type": "code",
      "metadata": {
        "id": "P_gWKhxFb59E"
      },
      "source": [
        ""
      ],
      "execution_count": null,
      "outputs": []
    },
    {
      "cell_type": "markdown",
      "metadata": {
        "id": "PCxNeVETbaFS"
      },
      "source": [
        "## Questão 10\n",
        "Ordene a lista abaixo:\n",
        "lista = [77,80,90,23,44,15,11,25,68,14,22,99]\n",
        "Observação: Declare uma variável que contenha o resultado e imprima para garantir que o resultado seja mostrado na janela \"Output\"\n",
        "Observação: Imprima apenas o resultado limpo no output sem incrementar outras coisas, palavras etc."
      ]
    },
    {
      "cell_type": "code",
      "metadata": {
        "id": "hO1ka4Rgbcha"
      },
      "source": [
        "lista = [77,80,90,23,44,15,11,25,68,14,22,99]"
      ],
      "execution_count": 140,
      "outputs": []
    },
    {
      "cell_type": "code",
      "metadata": {
        "colab": {
          "base_uri": "https://localhost:8080/"
        },
        "id": "l3Lp1_yybdgR",
        "outputId": "1faabf54-7893-4bbd-b352-f1b3fcfd563c"
      },
      "source": [
        "lista.sort()\n",
        "print(lista)"
      ],
      "execution_count": 143,
      "outputs": [
        {
          "output_type": "stream",
          "text": [
            "[11, 14, 15, 22, 23, 25, 44, 68, 77, 80, 90, 99]\n"
          ],
          "name": "stdout"
        }
      ]
    }
  ]
}