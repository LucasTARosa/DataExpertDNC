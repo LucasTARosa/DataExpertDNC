{
  "nbformat": 4,
  "nbformat_minor": 0,
  "metadata": {
    "colab": {
      "name": "Operacoes.ipynb",
      "provenance": []
    },
    "kernelspec": {
      "name": "python3",
      "display_name": "Python 3"
    },
    "language_info": {
      "name": "python"
    }
  },
  "cells": [
    {
      "cell_type": "code",
      "metadata": {
        "colab": {
          "base_uri": "https://localhost:8080/"
        },
        "id": "zLShZNM6jGm1",
        "outputId": "8d8e741c-381a-40c0-9202-522a28d9a7ec"
      },
      "source": [
        "# soma de inteiros no print\n",
        "var1 = 5 + 4\n",
        "var_2 = 'texto'\n",
        "\n",
        "#prints\n",
        "print(var1)"
      ],
      "execution_count": null,
      "outputs": [
        {
          "output_type": "stream",
          "text": [
            "9\n"
          ],
          "name": "stdout"
        }
      ]
    },
    {
      "cell_type": "code",
      "metadata": {
        "colab": {
          "base_uri": "https://localhost:8080/",
          "height": 163
        },
        "id": "-rjDfx_Rjy5D",
        "outputId": "7a2917cb-3e4a-430d-da4f-59e01a60212f"
      },
      "source": [
        "print(var1 + var_2)"
      ],
      "execution_count": null,
      "outputs": [
        {
          "output_type": "error",
          "ename": "TypeError",
          "evalue": "ignored",
          "traceback": [
            "\u001b[0;31m---------------------------------------------------------------------------\u001b[0m",
            "\u001b[0;31mTypeError\u001b[0m                                 Traceback (most recent call last)",
            "\u001b[0;32m<ipython-input-2-2bc6a6c481d0>\u001b[0m in \u001b[0;36m<module>\u001b[0;34m()\u001b[0m\n\u001b[0;32m----> 1\u001b[0;31m \u001b[0mprint\u001b[0m\u001b[0;34m(\u001b[0m\u001b[0mvar1\u001b[0m \u001b[0;34m+\u001b[0m \u001b[0mvar_2\u001b[0m\u001b[0;34m)\u001b[0m\u001b[0;34m\u001b[0m\u001b[0;34m\u001b[0m\u001b[0m\n\u001b[0m",
            "\u001b[0;31mTypeError\u001b[0m: unsupported operand type(s) for +: 'int' and 'str'"
          ]
        }
      ]
    },
    {
      "cell_type": "code",
      "metadata": {
        "colab": {
          "base_uri": "https://localhost:8080/"
        },
        "id": "PbITkQ4Fj4de",
        "outputId": "e74f0e5f-5fcc-40bd-be7d-fa20b81171d4"
      },
      "source": [
        "print(var1 * var_2)"
      ],
      "execution_count": null,
      "outputs": [
        {
          "output_type": "stream",
          "text": [
            "textotextotextotextotextotextotextotextotexto\n"
          ],
          "name": "stdout"
        }
      ]
    },
    {
      "cell_type": "code",
      "metadata": {
        "colab": {
          "base_uri": "https://localhost:8080/"
        },
        "id": "7HfQy3TZj6u0",
        "outputId": "2f5c1917-2ad2-42c9-afdb-7a223b9999fe"
      },
      "source": [
        "# Soma de floats \n",
        "print(type(var1))\n",
        "real = 4.3\n",
        "var_3 = var1 + real \n",
        "print(var_3, type(var_3))"
      ],
      "execution_count": null,
      "outputs": [
        {
          "output_type": "stream",
          "text": [
            "<class 'int'>\n",
            "13.3 <class 'float'>\n"
          ],
          "name": "stdout"
        }
      ]
    },
    {
      "cell_type": "code",
      "metadata": {
        "colab": {
          "base_uri": "https://localhost:8080/"
        },
        "id": "O8Tim59rkAuD",
        "outputId": "86706c1c-26cd-4b7e-cf72-1dd691ad93c0"
      },
      "source": [
        "# soma de trings no print\n",
        "texto = 'lorem ipsum'\n",
        "text_2 = texto + ' ' + var_2\n",
        "print(text_2)"
      ],
      "execution_count": null,
      "outputs": [
        {
          "output_type": "stream",
          "text": [
            "lorem ipsum texto\n"
          ],
          "name": "stdout"
        }
      ]
    },
    {
      "cell_type": "code",
      "metadata": {
        "colab": {
          "base_uri": "https://localhost:8080/"
        },
        "id": "3bpU_UKJkdW7",
        "outputId": "b8958772-f4ad-401f-b986-9c935bfb7f77"
      },
      "source": [
        "#e também multiplicar uam string por um inteiro\n",
        "print('---' * 10)"
      ],
      "execution_count": null,
      "outputs": [
        {
          "output_type": "stream",
          "text": [
            "------------------------------\n"
          ],
          "name": "stdout"
        }
      ]
    },
    {
      "cell_type": "code",
      "metadata": {
        "colab": {
          "base_uri": "https://localhost:8080/"
        },
        "id": "w4D0dH4Fkp5O",
        "outputId": "2c561a18-62ee-4dc3-ea26-178939354e32"
      },
      "source": [
        "#somando dois inteiros e atribuindo a uma nova variável\n",
        "text_2 = 'texto reformado'\n",
        "#printando a variável e seu type\n",
        "print(text_2, type(text_2))"
      ],
      "execution_count": null,
      "outputs": [
        {
          "output_type": "stream",
          "text": [
            "texto reformado <class 'str'>\n"
          ],
          "name": "stdout"
        }
      ]
    },
    {
      "cell_type": "code",
      "metadata": {
        "colab": {
          "base_uri": "https://localhost:8080/"
        },
        "id": "KS97szx7kzId",
        "outputId": "7ba05018-aad8-4be7-b81f-1101de533a50"
      },
      "source": [
        "#somando um inteiro e um numero real e atribuindo a uma nova variável\n",
        "inteiro = 1\n",
        "real = 4.5\n",
        "boleano = inteiro > real\n",
        "\n",
        "#printando a variável e seu type\n",
        "print(boleano, type(boleano))\n"
      ],
      "execution_count": null,
      "outputs": [
        {
          "output_type": "stream",
          "text": [
            "False <class 'bool'>\n"
          ],
          "name": "stdout"
        }
      ]
    },
    {
      "cell_type": "code",
      "metadata": {
        "colab": {
          "base_uri": "https://localhost:8080/"
        },
        "id": "YLamTedllA-v",
        "outputId": "464b56fd-2ddf-4838-ffcb-9dc95472740e"
      },
      "source": [
        "# printando comparações entre 2 valores com cada um dos operadores\n",
        "\n",
        "print( 10 < 12)\n",
        "print('10' == 10)"
      ],
      "execution_count": null,
      "outputs": [
        {
          "output_type": "stream",
          "text": [
            "True\n",
            "False\n"
          ],
          "name": "stdout"
        }
      ]
    },
    {
      "cell_type": "code",
      "metadata": {
        "colab": {
          "base_uri": "https://localhost:8080/"
        },
        "id": "G1mPx5bGlPLs",
        "outputId": "69ec4183-b3b8-4d56-82d5-a185bd75d35a"
      },
      "source": [
        "#somando valores booleanos\n",
        "True + True\n"
      ],
      "execution_count": null,
      "outputs": [
        {
          "output_type": "execute_result",
          "data": {
            "text/plain": [
              "2"
            ]
          },
          "metadata": {
            "tags": []
          },
          "execution_count": 15
        }
      ]
    },
    {
      "cell_type": "code",
      "metadata": {
        "colab": {
          "base_uri": "https://localhost:8080/"
        },
        "id": "ycqlFy7klSf0",
        "outputId": "731ecee5-f7ad-437b-dc5f-feaa72e4cb6d"
      },
      "source": [
        "True + False\n"
      ],
      "execution_count": null,
      "outputs": [
        {
          "output_type": "execute_result",
          "data": {
            "text/plain": [
              "1"
            ]
          },
          "metadata": {
            "tags": []
          },
          "execution_count": 16
        }
      ]
    },
    {
      "cell_type": "code",
      "metadata": {
        "colab": {
          "base_uri": "https://localhost:8080/"
        },
        "id": "K2lApk0fldao",
        "outputId": "3cd5fe57-c306-414e-eedb-d33240f6fc89"
      },
      "source": [
        "True * False\n"
      ],
      "execution_count": null,
      "outputs": [
        {
          "output_type": "execute_result",
          "data": {
            "text/plain": [
              "0"
            ]
          },
          "metadata": {
            "tags": []
          },
          "execution_count": 17
        }
      ]
    },
    {
      "cell_type": "code",
      "metadata": {
        "colab": {
          "base_uri": "https://localhost:8080/"
        },
        "id": "L-7w0U7dleSq",
        "outputId": "a704c7be-a6f5-49de-f3c8-74f6109c863f"
      },
      "source": [
        "True / True"
      ],
      "execution_count": null,
      "outputs": [
        {
          "output_type": "execute_result",
          "data": {
            "text/plain": [
              "1.0"
            ]
          },
          "metadata": {
            "tags": []
          },
          "execution_count": 18
        }
      ]
    },
    {
      "cell_type": "code",
      "metadata": {
        "colab": {
          "base_uri": "https://localhost:8080/"
        },
        "id": "Vt90Sh_tli1X",
        "outputId": "8ac5ab9e-e3f2-4b89-9b8e-2c119a6a50c6"
      },
      "source": [
        "# dividindo true e atribuindo a uma nova variável\n",
        "var = 10+True/True \n",
        "\n",
        "#printando o valor\n",
        "print(var, type(var))"
      ],
      "execution_count": null,
      "outputs": [
        {
          "output_type": "stream",
          "text": [
            "11.0 <class 'float'>\n"
          ],
          "name": "stdout"
        }
      ]
    },
    {
      "cell_type": "code",
      "metadata": {
        "colab": {
          "base_uri": "https://localhost:8080/"
        },
        "id": "WjKHLtQRlqxx",
        "outputId": "21257d82-5abc-4fb8-d845-37f462e74773"
      },
      "source": [
        "#função type() é nativa do python e mostra a variável\n",
        "print(type(10))\n",
        "\n",
        "#função convertendo variável booleano em int\n",
        "boleano = True\n",
        "print(type(boleano))\n",
        "boleano = int(boleano)\n",
        "print(type(boleano))\n",
        "\n",
        "#printando variável e seu type\n",
        "boleano = True\n",
        "print(type(boleano))\n",
        "\n",
        "#convertendo boleano para string\n",
        "boleano = str(boleano)\n",
        "\n",
        "#printando variável e seu type\n",
        "print(type(boleano))"
      ],
      "execution_count": null,
      "outputs": [
        {
          "output_type": "stream",
          "text": [
            "<class 'int'>\n",
            "<class 'bool'>\n",
            "<class 'int'>\n",
            "<class 'bool'>\n",
            "<class 'str'>\n"
          ],
          "name": "stdout"
        }
      ]
    },
    {
      "cell_type": "code",
      "metadata": {
        "colab": {
          "base_uri": "https://localhost:8080/"
        },
        "id": "pVHZyp2bl-sd",
        "outputId": "e60c7c53-0677-4e34-b4f3-7627797bd44a"
      },
      "source": [
        "#módulo retorna o resto da divisão\n",
        "print(6%2)\n",
        "print(5%2)\n",
        "print(3%2)\n",
        "print(11%3)"
      ],
      "execution_count": null,
      "outputs": [
        {
          "output_type": "stream",
          "text": [
            "0\n",
            "1\n",
            "1\n",
            "2\n"
          ],
          "name": "stdout"
        }
      ]
    },
    {
      "cell_type": "code",
      "metadata": {
        "colab": {
          "base_uri": "https://localhost:8080/"
        },
        "id": "YiY_6mgsnyVN",
        "outputId": "c584f8e8-70b8-4178-ffeb-5db9640d2fe1"
      },
      "source": [
        "#expoencial\n",
        "print(2**1)\n",
        "print(2**2)\n",
        "print(2**3)\n",
        "print(2**4)\n",
        "print(2**5)"
      ],
      "execution_count": null,
      "outputs": [
        {
          "output_type": "stream",
          "text": [
            "2\n",
            "4\n",
            "8\n",
            "16\n",
            "32\n"
          ],
          "name": "stdout"
        }
      ]
    },
    {
      "cell_type": "code",
      "metadata": {
        "colab": {
          "base_uri": "https://localhost:8080/"
        },
        "id": "YWRA2fJ3oBN9",
        "outputId": "eefd7ad4-9f86-4da8-f0d2-e8155975e570"
      },
      "source": [
        "#divisão com arredondamento\n",
        "print(9//2)\n",
        "print(19//2)"
      ],
      "execution_count": null,
      "outputs": [
        {
          "output_type": "stream",
          "text": [
            "4\n",
            "9\n"
          ],
          "name": "stdout"
        }
      ]
    },
    {
      "cell_type": "code",
      "metadata": {
        "colab": {
          "base_uri": "https://localhost:8080/"
        },
        "id": "TDa4wVSvoK0U",
        "outputId": "8f4157d7-ab06-4491-ee7f-9ef7305377d5"
      },
      "source": [
        "#arredondamento\n",
        "arredondamento = 21/4\n",
        "var_arrend = 21//4\n",
        "print(arredondamento, type(arredondamento))\n",
        "print(var_arrend, type(var_arrend))"
      ],
      "execution_count": null,
      "outputs": [
        {
          "output_type": "stream",
          "text": [
            "5.25 <class 'float'>\n",
            "5 <class 'int'>\n"
          ],
          "name": "stdout"
        }
      ]
    },
    {
      "cell_type": "code",
      "metadata": {
        "colab": {
          "base_uri": "https://localhost:8080/"
        },
        "id": "8cmNFMjmohC6",
        "outputId": "8bdbb3d6-2dde-49f1-d589-103ad4b5f00e"
      },
      "source": [
        "x = 1\n",
        "y = 1\n",
        "x += 10\n",
        "y += 20\n",
        "print('x: ',x,'y: ',y)\n",
        "print('x += 10 é equivalente a: x = x + 10')\n",
        "x = x +10\n",
        "print(x)"
      ],
      "execution_count": null,
      "outputs": [
        {
          "output_type": "stream",
          "text": [
            "x:  11 y:  21\n",
            "x += 10 é equivalente a: x = x + 10\n",
            "21\n"
          ],
          "name": "stdout"
        }
      ]
    },
    {
      "cell_type": "markdown",
      "metadata": {
        "id": "2d_OHo_jpZ8z"
      },
      "source": [
        "# Exercícios!!\n",
        "\n",
        "1- Faça pelo menos 1 exemplo com cada operador visto utilizando variáveis do mesmo tipo\n",
        "\n",
        "2- Repita o exercício 1, mas dessa vez utilizando variáveis de tipos diferentes, dessa vez verifique se o tipo dela alterou ou não\n",
        "\n",
        "3- Faça 3 operações com operadores diferentes utilizando o formato passado nas dicas"
      ]
    },
    {
      "cell_type": "code",
      "metadata": {
        "colab": {
          "base_uri": "https://localhost:8080/"
        },
        "id": "YUoxt0EWooNL",
        "outputId": "3becccf6-cb3e-47ca-e4dd-fa04ccb63a15"
      },
      "source": [
        "#Exercício 1\n",
        "\n",
        "soma = 3 + 2\n",
        "subtracao = 3 - 2\n",
        "multiplicacao = 3 * 2\n",
        "divisao = 3 / 2\n",
        "modulo = 3 % 2\n",
        "arredondamento = 3 // 2\n",
        "exponencial = 3 ** 2\n",
        "booleano = True\n",
        "\n",
        "print(soma)\n",
        "print(subtracao)\n",
        "print(multiplicacao)\n",
        "print(divisao)\n",
        "print(modulo)\n",
        "print(arredondamento)\n",
        "print(exponencial)\n",
        "print(booleano)"
      ],
      "execution_count": null,
      "outputs": [
        {
          "output_type": "stream",
          "text": [
            "5\n",
            "1\n",
            "6\n",
            "1.5\n",
            "1\n",
            "1\n",
            "9\n",
            "True\n"
          ],
          "name": "stdout"
        }
      ]
    },
    {
      "cell_type": "code",
      "metadata": {
        "colab": {
          "base_uri": "https://localhost:8080/"
        },
        "id": "_8fHyA4dq3mS",
        "outputId": "dd951f6f-8f02-45bc-cdaa-0b5bc4b640c9"
      },
      "source": [
        "#Exercício 2\n",
        "\n",
        "print(soma, type(soma))\n",
        "print(subtracao, type(subtracao))\n",
        "print(multiplicacao, type(multiplicacao))\n",
        "print(divisao, type(divisao))\n",
        "print(modulo, type(modulo))\n",
        "print(arredondamento, type(arredondamento))\n",
        "print(exponencial, type(exponencial))\n",
        "print(booleano, type(booleano))\n",
        "\n",
        "divisao_2 = divisao * 2.3\n",
        "modulo_2 = modulo + booleano\n",
        "booleano_2 = booleano + booleano \n",
        "print('---' * 10)\n",
        "print(divisao_2, type(divisao_2))\n",
        "print(modulo_2, type(modulo_2))\n",
        "print(booleano_2, type(booleano_2))"
      ],
      "execution_count": null,
      "outputs": [
        {
          "output_type": "stream",
          "text": [
            "5 <class 'int'>\n",
            "1 <class 'int'>\n",
            "6 <class 'int'>\n",
            "1.5 <class 'float'>\n",
            "1 <class 'int'>\n",
            "1 <class 'int'>\n",
            "9 <class 'int'>\n",
            "True <class 'bool'>\n",
            "------------------------------\n",
            "3.4499999999999997 <class 'float'>\n",
            "2 <class 'int'>\n",
            "2 <class 'int'>\n"
          ],
          "name": "stdout"
        }
      ]
    },
    {
      "cell_type": "code",
      "metadata": {
        "colab": {
          "base_uri": "https://localhost:8080/"
        },
        "id": "Of-GPFyUrQ3d",
        "outputId": "0382b11e-acbb-42ec-98ae-3e0e060ad198"
      },
      "source": [
        "mais = 10\n",
        "menos = 10\n",
        "vezes = 10\n",
        "dividido = 10\n",
        "print(mais)\n",
        "print(menos)\n",
        "print(vezes)\n",
        "print(dividido)\n",
        "\n",
        "mais += 7\n",
        "menos -= 7\n",
        "vezes *= 7\n",
        "dividido /= 7\n",
        "print('---' * 7)\n",
        "print(mais)\n",
        "print(menos)\n",
        "print(vezes)\n",
        "print(dividido)"
      ],
      "execution_count": null,
      "outputs": [
        {
          "output_type": "stream",
          "text": [
            "10\n",
            "10\n",
            "10\n",
            "10\n",
            "---------------------\n",
            "17\n",
            "3\n",
            "70\n",
            "1.4285714285714286\n"
          ],
          "name": "stdout"
        }
      ]
    },
    {
      "cell_type": "code",
      "metadata": {
        "id": "k31XBxQKsSrs"
      },
      "source": [
        ""
      ],
      "execution_count": null,
      "outputs": []
    }
  ]
}