{
  "nbformat": 4,
  "nbformat_minor": 0,
  "metadata": {
    "colab": {
      "name": "Principais_erros.ipynb",
      "provenance": []
    },
    "kernelspec": {
      "name": "python3",
      "display_name": "Python 3"
    },
    "language_info": {
      "name": "python"
    }
  },
  "cells": [
    {
      "cell_type": "markdown",
      "metadata": {
        "id": "bMIefWHtvd_v"
      },
      "source": [
        "# Aula sobre principais erros cometidos"
      ]
    },
    {
      "cell_type": "code",
      "metadata": {
        "id": "nS_JJujovVir"
      },
      "source": [
        "#Erro 1 - Sintaxe\n",
        "if 30 > 20\n",
        "  print('maior')"
      ],
      "execution_count": null,
      "outputs": []
    },
    {
      "cell_type": "code",
      "metadata": {
        "colab": {
          "base_uri": "https://localhost:8080/"
        },
        "id": "_gths5vAwPkY",
        "outputId": "55b015bf-627b-4e96-c0c5-e8757b730c1a"
      },
      "source": [
        "#correção - dois pontos :\n",
        "if 30 > 20:\n",
        "  print('maior')"
      ],
      "execution_count": 1,
      "outputs": [
        {
          "output_type": "stream",
          "text": [
            "maior\n"
          ],
          "name": "stdout"
        }
      ]
    },
    {
      "cell_type": "code",
      "metadata": {
        "colab": {
          "base_uri": "https://localhost:8080/",
          "height": 180
        },
        "id": "hmITqmJlwSCz",
        "outputId": "e425347f-6de8-47ea-b2d3-2937b097751c"
      },
      "source": [
        "#Erro 2 - erro de compilador faz entender outra coisa\n",
        "lista [1, 2, 3, 4]"
      ],
      "execution_count": 4,
      "outputs": [
        {
          "output_type": "error",
          "ename": "TypeError",
          "evalue": "ignored",
          "traceback": [
            "\u001b[0;31m---------------------------------------------------------------------------\u001b[0m",
            "\u001b[0;31mTypeError\u001b[0m                                 Traceback (most recent call last)",
            "\u001b[0;32m<ipython-input-4-9f0f56e26de6>\u001b[0m in \u001b[0;36m<module>\u001b[0;34m()\u001b[0m\n\u001b[1;32m      1\u001b[0m \u001b[0;31m#Erro 2 - erro de compilador faz entender outra coisa\u001b[0m\u001b[0;34m\u001b[0m\u001b[0;34m\u001b[0m\u001b[0;34m\u001b[0m\u001b[0m\n\u001b[0;32m----> 2\u001b[0;31m \u001b[0mlista\u001b[0m \u001b[0;34m[\u001b[0m\u001b[0;36m1\u001b[0m\u001b[0;34m,\u001b[0m \u001b[0;36m2\u001b[0m\u001b[0;34m,\u001b[0m \u001b[0;36m3\u001b[0m\u001b[0;34m,\u001b[0m \u001b[0;36m4\u001b[0m\u001b[0;34m]\u001b[0m\u001b[0;34m\u001b[0m\u001b[0;34m\u001b[0m\u001b[0m\n\u001b[0m",
            "\u001b[0;31mTypeError\u001b[0m: list indices must be integers or slices, not tuple"
          ]
        }
      ]
    },
    {
      "cell_type": "code",
      "metadata": {
        "id": "pQSL9YnDwgQt"
      },
      "source": [
        "#correção - faltou o = para construir a lista\n",
        "lista = [1, 2, 3, 4]"
      ],
      "execution_count": 2,
      "outputs": []
    },
    {
      "cell_type": "code",
      "metadata": {
        "id": "KC2steUGwrZ-"
      },
      "source": [
        "#Erro 3 - divisão por zero\n",
        "10/0"
      ],
      "execution_count": null,
      "outputs": []
    },
    {
      "cell_type": "code",
      "metadata": {
        "id": "D3Iv02W6wyFb"
      },
      "source": [
        "#correção - substituir o 0 por qlqr outro numero\n",
        "10/1"
      ],
      "execution_count": null,
      "outputs": []
    },
    {
      "cell_type": "code",
      "metadata": {
        "id": "7Qy6AibTxETg"
      },
      "source": [
        "#Erro 4 - Erros de tipos diferentes não compativeis\n",
        "'2'+2\n"
      ],
      "execution_count": null,
      "outputs": []
    },
    {
      "cell_type": "code",
      "metadata": {
        "colab": {
          "base_uri": "https://localhost:8080/"
        },
        "id": "FMbQoA6GxLZy",
        "outputId": "862e7143-1910-4c10-ec3e-dc961195ffc0"
      },
      "source": [
        "#correção - mudando para o mesmo type\n",
        "print(2 + 2)\n",
        "print('2' + '2')"
      ],
      "execution_count": 6,
      "outputs": [
        {
          "output_type": "stream",
          "text": [
            "4\n",
            "22\n"
          ],
          "name": "stdout"
        }
      ]
    },
    {
      "cell_type": "code",
      "metadata": {
        "id": "qRt4sURMxTnR"
      },
      "source": [
        "#erro 5 = uso de função de uma biblioteca não importada \n",
        "reduce(10, 203, 30)"
      ],
      "execution_count": null,
      "outputs": []
    },
    {
      "cell_type": "code",
      "metadata": {
        "colab": {
          "base_uri": "https://localhost:8080/"
        },
        "id": "dp-lkl3AxiOo",
        "outputId": "0919330d-9f67-48d9-92ed-e56bb4c6d12c"
      },
      "source": [
        "#correção - importar o reduce\n",
        "from functools import reduce\n",
        "\n",
        "reduce(lambda x,y:x+y, range(10))"
      ],
      "execution_count": 8,
      "outputs": [
        {
          "output_type": "execute_result",
          "data": {
            "text/plain": [
              "45"
            ]
          },
          "metadata": {
            "tags": []
          },
          "execution_count": 8
        }
      ]
    },
    {
      "cell_type": "code",
      "metadata": {
        "colab": {
          "base_uri": "https://localhost:8080/"
        },
        "id": "Gfm4BBOrxolc",
        "outputId": "6ed69677-91f5-4131-fc52-b50816d6fb64"
      },
      "source": [
        "#Erro 6 - alterar lista original\n",
        "\n",
        "original = [1, 2, 3, 4, 5]\n",
        "copia = original\n",
        "copia.append(7)\n",
        "print(original, copia)"
      ],
      "execution_count": 9,
      "outputs": [
        {
          "output_type": "stream",
          "text": [
            "[1, 2, 3, 4, 5, 7] [1, 2, 3, 4, 5, 7]\n"
          ],
          "name": "stdout"
        }
      ]
    },
    {
      "cell_type": "code",
      "metadata": {
        "colab": {
          "base_uri": "https://localhost:8080/"
        },
        "id": "IqpbN2Cmx8mY",
        "outputId": "3158600b-92b2-4fab-e58c-24193bcf8120"
      },
      "source": [
        "#correção\n",
        "original = [1, 2, 3, 4, 5]\n",
        "copia = original.copy()\n",
        "copia.append(7)\n",
        "print(original, copia)"
      ],
      "execution_count": 12,
      "outputs": [
        {
          "output_type": "stream",
          "text": [
            "[1, 2, 3, 4, 5] [1, 2, 3, 4, 5, 7]\n"
          ],
          "name": "stdout"
        }
      ]
    },
    {
      "cell_type": "code",
      "metadata": {
        "id": "_BSa9TfuyKD4"
      },
      "source": [
        ""
      ],
      "execution_count": null,
      "outputs": []
    }
  ]
}