{
  "nbformat": 4,
  "nbformat_minor": 0,
  "metadata": {
    "colab": {
      "name": "Laços.ipynb",
      "provenance": [],
      "collapsed_sections": []
    },
    "kernelspec": {
      "name": "python3",
      "display_name": "Python 3"
    },
    "language_info": {
      "name": "python"
    }
  },
  "cells": [
    {
      "cell_type": "markdown",
      "metadata": {
        "id": "RrXOJvfKvozH"
      },
      "source": [
        "#Aula 1 - For e While"
      ]
    },
    {
      "cell_type": "code",
      "metadata": {
        "colab": {
          "base_uri": "https://localhost:8080/"
        },
        "id": "XG7X-RMyd9Y5",
        "outputId": "1babddfe-84af-46e6-f771-60cba5e5cb4c"
      },
      "source": [
        "#a estrutura while tem funcionando parecido com o for, mas com sintaxe um pouco maior\n",
        "#para um bloco executar 10x:\n",
        "\n",
        "contador = 0\n",
        "while contador < 10:\n",
        "  print(contador)\n",
        "  contador+=1"
      ],
      "execution_count": 2,
      "outputs": [
        {
          "output_type": "stream",
          "text": [
            "0\n",
            "1\n",
            "2\n",
            "3\n",
            "4\n",
            "5\n",
            "6\n",
            "7\n",
            "8\n",
            "9\n"
          ],
          "name": "stdout"
        }
      ]
    },
    {
      "cell_type": "code",
      "metadata": {
        "colab": {
          "base_uri": "https://localhost:8080/"
        },
        "id": "citqpTJQeee0",
        "outputId": "da68d228-efc7-44d0-8330-96b2b1b2ab16"
      },
      "source": [
        "#para realizar o mesmo, mas utilizando o for:\n",
        "\n",
        "for contador in range(10):\n",
        "  print(contador)"
      ],
      "execution_count": 5,
      "outputs": [
        {
          "output_type": "stream",
          "text": [
            "0\n",
            "1\n",
            "2\n",
            "3\n",
            "4\n",
            "5\n",
            "6\n",
            "7\n",
            "8\n",
            "9\n"
          ],
          "name": "stdout"
        }
      ]
    },
    {
      "cell_type": "code",
      "metadata": {
        "colab": {
          "base_uri": "https://localhost:8080/"
        },
        "id": "IkndGfZaelkE",
        "outputId": "f84f916a-d8de-42bb-9abd-57e4518b1ce7"
      },
      "source": [
        "#executando loop enquanto x é menor que y\n",
        "\n",
        "x = 0\n",
        "y = 12\n",
        "while x < y:\n",
        "  print(x)\n",
        "  x += 2"
      ],
      "execution_count": 7,
      "outputs": [
        {
          "output_type": "stream",
          "text": [
            "0\n",
            "2\n",
            "4\n",
            "6\n",
            "8\n",
            "10\n"
          ],
          "name": "stdout"
        }
      ]
    },
    {
      "cell_type": "code",
      "metadata": {
        "colab": {
          "base_uri": "https://localhost:8080/"
        },
        "id": "o582bofye10Y",
        "outputId": "9d050ef3-42d3-43bf-8eff-afe8ba30b55c"
      },
      "source": [
        "#percorrendo uma lista com for\n",
        "\n",
        "lista = [2, 5, 10, 4, 12]\n",
        "for item in lista:\n",
        "  print(item)"
      ],
      "execution_count": 8,
      "outputs": [
        {
          "output_type": "stream",
          "text": [
            "2\n",
            "5\n",
            "10\n",
            "4\n",
            "12\n"
          ],
          "name": "stdout"
        }
      ]
    },
    {
      "cell_type": "code",
      "metadata": {
        "colab": {
          "base_uri": "https://localhost:8080/"
        },
        "id": "NkN7ItEyfIgb",
        "outputId": "a0232b4a-5c16-4446-c088-8126b1c5ed91"
      },
      "source": [
        "#resolvendo o desafio aula anterior\n",
        "tupla = (1, 2, 3, 4, 5, 6, 7, 8, 9, 12)\n",
        "\n",
        "for a in lista:\n",
        "  if a in tupla:\n",
        "    print(a, 'contêm em lista e em tupla')"
      ],
      "execution_count": 9,
      "outputs": [
        {
          "output_type": "stream",
          "text": [
            "2 contêm em lista e em tupla\n",
            "5 contêm em lista e em tupla\n",
            "4 contêm em lista e em tupla\n",
            "12 contêm em lista e em tupla\n"
          ],
          "name": "stdout"
        }
      ]
    },
    {
      "cell_type": "code",
      "metadata": {
        "colab": {
          "base_uri": "https://localhost:8080/"
        },
        "id": "5i409SbIfehb",
        "outputId": "639330d7-c153-4cd5-ce59-6f8d036a3f9e"
      },
      "source": [
        "#é possível parar o comando for assim que encontrar o item desejado utilizando o break\n",
        "\n",
        "for a in tupla:\n",
        "  if a in lista:\n",
        "    print(a, 'contêm em lista e em tupla')\n",
        "    break"
      ],
      "execution_count": 10,
      "outputs": [
        {
          "output_type": "stream",
          "text": [
            "2 contêm em lista e em tupla\n"
          ],
          "name": "stdout"
        }
      ]
    },
    {
      "cell_type": "code",
      "metadata": {
        "colab": {
          "base_uri": "https://localhost:8080/"
        },
        "id": "PGxGrSY5fwpM",
        "outputId": "5cdf9235-f5f1-497f-9924-c3026f7e2fc7"
      },
      "source": [
        "#percorrendo a lista e printando o type de cada variável se estiverem nas condicionais\n",
        "\n",
        "for a in lista:\n",
        "  if type(a) == int:\n",
        "    print(a, 'é do tipo inteiro')\n",
        "  else:\n",
        "    print('não é do tipo inteiro')"
      ],
      "execution_count": 11,
      "outputs": [
        {
          "output_type": "stream",
          "text": [
            "2 é do tipo inteiro\n",
            "5 é do tipo inteiro\n",
            "10 é do tipo inteiro\n",
            "4 é do tipo inteiro\n",
            "12 é do tipo inteiro\n"
          ],
          "name": "stdout"
        }
      ]
    },
    {
      "cell_type": "code",
      "metadata": {
        "colab": {
          "base_uri": "https://localhost:8080/"
        },
        "id": "pgunhXk1gEYa",
        "outputId": "9e3066be-7c39-4b96-8468-92f44e98f838"
      },
      "source": [
        "#criando uma lista com range até 100\n",
        "lista_1 = []\n",
        "for a in range(101):\n",
        "  lista_1.append(a)\n",
        "\n",
        "lista_1\n"
      ],
      "execution_count": 12,
      "outputs": [
        {
          "output_type": "execute_result",
          "data": {
            "text/plain": [
              "[0,\n",
              " 1,\n",
              " 2,\n",
              " 3,\n",
              " 4,\n",
              " 5,\n",
              " 6,\n",
              " 7,\n",
              " 8,\n",
              " 9,\n",
              " 10,\n",
              " 11,\n",
              " 12,\n",
              " 13,\n",
              " 14,\n",
              " 15,\n",
              " 16,\n",
              " 17,\n",
              " 18,\n",
              " 19,\n",
              " 20,\n",
              " 21,\n",
              " 22,\n",
              " 23,\n",
              " 24,\n",
              " 25,\n",
              " 26,\n",
              " 27,\n",
              " 28,\n",
              " 29,\n",
              " 30,\n",
              " 31,\n",
              " 32,\n",
              " 33,\n",
              " 34,\n",
              " 35,\n",
              " 36,\n",
              " 37,\n",
              " 38,\n",
              " 39,\n",
              " 40,\n",
              " 41,\n",
              " 42,\n",
              " 43,\n",
              " 44,\n",
              " 45,\n",
              " 46,\n",
              " 47,\n",
              " 48,\n",
              " 49,\n",
              " 50,\n",
              " 51,\n",
              " 52,\n",
              " 53,\n",
              " 54,\n",
              " 55,\n",
              " 56,\n",
              " 57,\n",
              " 58,\n",
              " 59,\n",
              " 60,\n",
              " 61,\n",
              " 62,\n",
              " 63,\n",
              " 64,\n",
              " 65,\n",
              " 66,\n",
              " 67,\n",
              " 68,\n",
              " 69,\n",
              " 70,\n",
              " 71,\n",
              " 72,\n",
              " 73,\n",
              " 74,\n",
              " 75,\n",
              " 76,\n",
              " 77,\n",
              " 78,\n",
              " 79,\n",
              " 80,\n",
              " 81,\n",
              " 82,\n",
              " 83,\n",
              " 84,\n",
              " 85,\n",
              " 86,\n",
              " 87,\n",
              " 88,\n",
              " 89,\n",
              " 90,\n",
              " 91,\n",
              " 92,\n",
              " 93,\n",
              " 94,\n",
              " 95,\n",
              " 96,\n",
              " 97,\n",
              " 98,\n",
              " 99,\n",
              " 100]"
            ]
          },
          "metadata": {
            "tags": []
          },
          "execution_count": 12
        }
      ]
    },
    {
      "cell_type": "markdown",
      "metadata": {
        "id": "xCGVkULpgQLe"
      },
      "source": [
        "##Exercício!!!\n",
        "\n",
        "1- Crie uma lista contendo os números pares de 0 até 1000\n",
        "\n",
        "2- Transforme cada valor da lista anterior em um string\n",
        "\n",
        "3- Compare os valores entre as listas e some os valores das 2 listas"
      ]
    },
    {
      "cell_type": "code",
      "metadata": {
        "colab": {
          "base_uri": "https://localhost:8080/"
        },
        "id": "u32e_sjSgNIN",
        "outputId": "9ad230a2-3537-4eea-eb52-a3e28b595764"
      },
      "source": [
        "#Exercício 1\n",
        "\n",
        "lista = []\n",
        "x = 0\n",
        "\n",
        "for x in range (1001):\n",
        "  if x %2 == 0:\n",
        "    lista.append(x)\n",
        "\n",
        "lista"
      ],
      "execution_count": 5,
      "outputs": [
        {
          "output_type": "execute_result",
          "data": {
            "text/plain": [
              "[0,\n",
              " 2,\n",
              " 4,\n",
              " 6,\n",
              " 8,\n",
              " 10,\n",
              " 12,\n",
              " 14,\n",
              " 16,\n",
              " 18,\n",
              " 20,\n",
              " 22,\n",
              " 24,\n",
              " 26,\n",
              " 28,\n",
              " 30,\n",
              " 32,\n",
              " 34,\n",
              " 36,\n",
              " 38,\n",
              " 40,\n",
              " 42,\n",
              " 44,\n",
              " 46,\n",
              " 48,\n",
              " 50,\n",
              " 52,\n",
              " 54,\n",
              " 56,\n",
              " 58,\n",
              " 60,\n",
              " 62,\n",
              " 64,\n",
              " 66,\n",
              " 68,\n",
              " 70,\n",
              " 72,\n",
              " 74,\n",
              " 76,\n",
              " 78,\n",
              " 80,\n",
              " 82,\n",
              " 84,\n",
              " 86,\n",
              " 88,\n",
              " 90,\n",
              " 92,\n",
              " 94,\n",
              " 96,\n",
              " 98,\n",
              " 100,\n",
              " 102,\n",
              " 104,\n",
              " 106,\n",
              " 108,\n",
              " 110,\n",
              " 112,\n",
              " 114,\n",
              " 116,\n",
              " 118,\n",
              " 120,\n",
              " 122,\n",
              " 124,\n",
              " 126,\n",
              " 128,\n",
              " 130,\n",
              " 132,\n",
              " 134,\n",
              " 136,\n",
              " 138,\n",
              " 140,\n",
              " 142,\n",
              " 144,\n",
              " 146,\n",
              " 148,\n",
              " 150,\n",
              " 152,\n",
              " 154,\n",
              " 156,\n",
              " 158,\n",
              " 160,\n",
              " 162,\n",
              " 164,\n",
              " 166,\n",
              " 168,\n",
              " 170,\n",
              " 172,\n",
              " 174,\n",
              " 176,\n",
              " 178,\n",
              " 180,\n",
              " 182,\n",
              " 184,\n",
              " 186,\n",
              " 188,\n",
              " 190,\n",
              " 192,\n",
              " 194,\n",
              " 196,\n",
              " 198,\n",
              " 200,\n",
              " 202,\n",
              " 204,\n",
              " 206,\n",
              " 208,\n",
              " 210,\n",
              " 212,\n",
              " 214,\n",
              " 216,\n",
              " 218,\n",
              " 220,\n",
              " 222,\n",
              " 224,\n",
              " 226,\n",
              " 228,\n",
              " 230,\n",
              " 232,\n",
              " 234,\n",
              " 236,\n",
              " 238,\n",
              " 240,\n",
              " 242,\n",
              " 244,\n",
              " 246,\n",
              " 248,\n",
              " 250,\n",
              " 252,\n",
              " 254,\n",
              " 256,\n",
              " 258,\n",
              " 260,\n",
              " 262,\n",
              " 264,\n",
              " 266,\n",
              " 268,\n",
              " 270,\n",
              " 272,\n",
              " 274,\n",
              " 276,\n",
              " 278,\n",
              " 280,\n",
              " 282,\n",
              " 284,\n",
              " 286,\n",
              " 288,\n",
              " 290,\n",
              " 292,\n",
              " 294,\n",
              " 296,\n",
              " 298,\n",
              " 300,\n",
              " 302,\n",
              " 304,\n",
              " 306,\n",
              " 308,\n",
              " 310,\n",
              " 312,\n",
              " 314,\n",
              " 316,\n",
              " 318,\n",
              " 320,\n",
              " 322,\n",
              " 324,\n",
              " 326,\n",
              " 328,\n",
              " 330,\n",
              " 332,\n",
              " 334,\n",
              " 336,\n",
              " 338,\n",
              " 340,\n",
              " 342,\n",
              " 344,\n",
              " 346,\n",
              " 348,\n",
              " 350,\n",
              " 352,\n",
              " 354,\n",
              " 356,\n",
              " 358,\n",
              " 360,\n",
              " 362,\n",
              " 364,\n",
              " 366,\n",
              " 368,\n",
              " 370,\n",
              " 372,\n",
              " 374,\n",
              " 376,\n",
              " 378,\n",
              " 380,\n",
              " 382,\n",
              " 384,\n",
              " 386,\n",
              " 388,\n",
              " 390,\n",
              " 392,\n",
              " 394,\n",
              " 396,\n",
              " 398,\n",
              " 400,\n",
              " 402,\n",
              " 404,\n",
              " 406,\n",
              " 408,\n",
              " 410,\n",
              " 412,\n",
              " 414,\n",
              " 416,\n",
              " 418,\n",
              " 420,\n",
              " 422,\n",
              " 424,\n",
              " 426,\n",
              " 428,\n",
              " 430,\n",
              " 432,\n",
              " 434,\n",
              " 436,\n",
              " 438,\n",
              " 440,\n",
              " 442,\n",
              " 444,\n",
              " 446,\n",
              " 448,\n",
              " 450,\n",
              " 452,\n",
              " 454,\n",
              " 456,\n",
              " 458,\n",
              " 460,\n",
              " 462,\n",
              " 464,\n",
              " 466,\n",
              " 468,\n",
              " 470,\n",
              " 472,\n",
              " 474,\n",
              " 476,\n",
              " 478,\n",
              " 480,\n",
              " 482,\n",
              " 484,\n",
              " 486,\n",
              " 488,\n",
              " 490,\n",
              " 492,\n",
              " 494,\n",
              " 496,\n",
              " 498,\n",
              " 500,\n",
              " 502,\n",
              " 504,\n",
              " 506,\n",
              " 508,\n",
              " 510,\n",
              " 512,\n",
              " 514,\n",
              " 516,\n",
              " 518,\n",
              " 520,\n",
              " 522,\n",
              " 524,\n",
              " 526,\n",
              " 528,\n",
              " 530,\n",
              " 532,\n",
              " 534,\n",
              " 536,\n",
              " 538,\n",
              " 540,\n",
              " 542,\n",
              " 544,\n",
              " 546,\n",
              " 548,\n",
              " 550,\n",
              " 552,\n",
              " 554,\n",
              " 556,\n",
              " 558,\n",
              " 560,\n",
              " 562,\n",
              " 564,\n",
              " 566,\n",
              " 568,\n",
              " 570,\n",
              " 572,\n",
              " 574,\n",
              " 576,\n",
              " 578,\n",
              " 580,\n",
              " 582,\n",
              " 584,\n",
              " 586,\n",
              " 588,\n",
              " 590,\n",
              " 592,\n",
              " 594,\n",
              " 596,\n",
              " 598,\n",
              " 600,\n",
              " 602,\n",
              " 604,\n",
              " 606,\n",
              " 608,\n",
              " 610,\n",
              " 612,\n",
              " 614,\n",
              " 616,\n",
              " 618,\n",
              " 620,\n",
              " 622,\n",
              " 624,\n",
              " 626,\n",
              " 628,\n",
              " 630,\n",
              " 632,\n",
              " 634,\n",
              " 636,\n",
              " 638,\n",
              " 640,\n",
              " 642,\n",
              " 644,\n",
              " 646,\n",
              " 648,\n",
              " 650,\n",
              " 652,\n",
              " 654,\n",
              " 656,\n",
              " 658,\n",
              " 660,\n",
              " 662,\n",
              " 664,\n",
              " 666,\n",
              " 668,\n",
              " 670,\n",
              " 672,\n",
              " 674,\n",
              " 676,\n",
              " 678,\n",
              " 680,\n",
              " 682,\n",
              " 684,\n",
              " 686,\n",
              " 688,\n",
              " 690,\n",
              " 692,\n",
              " 694,\n",
              " 696,\n",
              " 698,\n",
              " 700,\n",
              " 702,\n",
              " 704,\n",
              " 706,\n",
              " 708,\n",
              " 710,\n",
              " 712,\n",
              " 714,\n",
              " 716,\n",
              " 718,\n",
              " 720,\n",
              " 722,\n",
              " 724,\n",
              " 726,\n",
              " 728,\n",
              " 730,\n",
              " 732,\n",
              " 734,\n",
              " 736,\n",
              " 738,\n",
              " 740,\n",
              " 742,\n",
              " 744,\n",
              " 746,\n",
              " 748,\n",
              " 750,\n",
              " 752,\n",
              " 754,\n",
              " 756,\n",
              " 758,\n",
              " 760,\n",
              " 762,\n",
              " 764,\n",
              " 766,\n",
              " 768,\n",
              " 770,\n",
              " 772,\n",
              " 774,\n",
              " 776,\n",
              " 778,\n",
              " 780,\n",
              " 782,\n",
              " 784,\n",
              " 786,\n",
              " 788,\n",
              " 790,\n",
              " 792,\n",
              " 794,\n",
              " 796,\n",
              " 798,\n",
              " 800,\n",
              " 802,\n",
              " 804,\n",
              " 806,\n",
              " 808,\n",
              " 810,\n",
              " 812,\n",
              " 814,\n",
              " 816,\n",
              " 818,\n",
              " 820,\n",
              " 822,\n",
              " 824,\n",
              " 826,\n",
              " 828,\n",
              " 830,\n",
              " 832,\n",
              " 834,\n",
              " 836,\n",
              " 838,\n",
              " 840,\n",
              " 842,\n",
              " 844,\n",
              " 846,\n",
              " 848,\n",
              " 850,\n",
              " 852,\n",
              " 854,\n",
              " 856,\n",
              " 858,\n",
              " 860,\n",
              " 862,\n",
              " 864,\n",
              " 866,\n",
              " 868,\n",
              " 870,\n",
              " 872,\n",
              " 874,\n",
              " 876,\n",
              " 878,\n",
              " 880,\n",
              " 882,\n",
              " 884,\n",
              " 886,\n",
              " 888,\n",
              " 890,\n",
              " 892,\n",
              " 894,\n",
              " 896,\n",
              " 898,\n",
              " 900,\n",
              " 902,\n",
              " 904,\n",
              " 906,\n",
              " 908,\n",
              " 910,\n",
              " 912,\n",
              " 914,\n",
              " 916,\n",
              " 918,\n",
              " 920,\n",
              " 922,\n",
              " 924,\n",
              " 926,\n",
              " 928,\n",
              " 930,\n",
              " 932,\n",
              " 934,\n",
              " 936,\n",
              " 938,\n",
              " 940,\n",
              " 942,\n",
              " 944,\n",
              " 946,\n",
              " 948,\n",
              " 950,\n",
              " 952,\n",
              " 954,\n",
              " 956,\n",
              " 958,\n",
              " 960,\n",
              " 962,\n",
              " 964,\n",
              " 966,\n",
              " 968,\n",
              " 970,\n",
              " 972,\n",
              " 974,\n",
              " 976,\n",
              " 978,\n",
              " 980,\n",
              " 982,\n",
              " 984,\n",
              " 986,\n",
              " 988,\n",
              " 990,\n",
              " 992,\n",
              " 994,\n",
              " 996,\n",
              " 998,\n",
              " 1000]"
            ]
          },
          "metadata": {
            "tags": []
          },
          "execution_count": 5
        }
      ]
    },
    {
      "cell_type": "code",
      "metadata": {
        "colab": {
          "base_uri": "https://localhost:8080/"
        },
        "id": "KnQv8oHhiv3D",
        "outputId": "ef3d6889-0564-4e37-cac7-8448f43894d7"
      },
      "source": [
        "#Exercício 2\n",
        "listastr = []\n",
        "\n",
        "for string in lista:\n",
        "  listastr.append(str(string))\n",
        "\n",
        "for string in listastr:\n",
        "  print(string, type(string))"
      ],
      "execution_count": 17,
      "outputs": [
        {
          "output_type": "stream",
          "text": [
            "0 <class 'str'>\n",
            "2 <class 'str'>\n",
            "4 <class 'str'>\n",
            "6 <class 'str'>\n",
            "8 <class 'str'>\n",
            "10 <class 'str'>\n",
            "12 <class 'str'>\n",
            "14 <class 'str'>\n",
            "16 <class 'str'>\n",
            "18 <class 'str'>\n",
            "20 <class 'str'>\n",
            "22 <class 'str'>\n",
            "24 <class 'str'>\n",
            "26 <class 'str'>\n",
            "28 <class 'str'>\n",
            "30 <class 'str'>\n",
            "32 <class 'str'>\n",
            "34 <class 'str'>\n",
            "36 <class 'str'>\n",
            "38 <class 'str'>\n",
            "40 <class 'str'>\n",
            "42 <class 'str'>\n",
            "44 <class 'str'>\n",
            "46 <class 'str'>\n",
            "48 <class 'str'>\n",
            "50 <class 'str'>\n",
            "52 <class 'str'>\n",
            "54 <class 'str'>\n",
            "56 <class 'str'>\n",
            "58 <class 'str'>\n",
            "60 <class 'str'>\n",
            "62 <class 'str'>\n",
            "64 <class 'str'>\n",
            "66 <class 'str'>\n",
            "68 <class 'str'>\n",
            "70 <class 'str'>\n",
            "72 <class 'str'>\n",
            "74 <class 'str'>\n",
            "76 <class 'str'>\n",
            "78 <class 'str'>\n",
            "80 <class 'str'>\n",
            "82 <class 'str'>\n",
            "84 <class 'str'>\n",
            "86 <class 'str'>\n",
            "88 <class 'str'>\n",
            "90 <class 'str'>\n",
            "92 <class 'str'>\n",
            "94 <class 'str'>\n",
            "96 <class 'str'>\n",
            "98 <class 'str'>\n",
            "100 <class 'str'>\n",
            "102 <class 'str'>\n",
            "104 <class 'str'>\n",
            "106 <class 'str'>\n",
            "108 <class 'str'>\n",
            "110 <class 'str'>\n",
            "112 <class 'str'>\n",
            "114 <class 'str'>\n",
            "116 <class 'str'>\n",
            "118 <class 'str'>\n",
            "120 <class 'str'>\n",
            "122 <class 'str'>\n",
            "124 <class 'str'>\n",
            "126 <class 'str'>\n",
            "128 <class 'str'>\n",
            "130 <class 'str'>\n",
            "132 <class 'str'>\n",
            "134 <class 'str'>\n",
            "136 <class 'str'>\n",
            "138 <class 'str'>\n",
            "140 <class 'str'>\n",
            "142 <class 'str'>\n",
            "144 <class 'str'>\n",
            "146 <class 'str'>\n",
            "148 <class 'str'>\n",
            "150 <class 'str'>\n",
            "152 <class 'str'>\n",
            "154 <class 'str'>\n",
            "156 <class 'str'>\n",
            "158 <class 'str'>\n",
            "160 <class 'str'>\n",
            "162 <class 'str'>\n",
            "164 <class 'str'>\n",
            "166 <class 'str'>\n",
            "168 <class 'str'>\n",
            "170 <class 'str'>\n",
            "172 <class 'str'>\n",
            "174 <class 'str'>\n",
            "176 <class 'str'>\n",
            "178 <class 'str'>\n",
            "180 <class 'str'>\n",
            "182 <class 'str'>\n",
            "184 <class 'str'>\n",
            "186 <class 'str'>\n",
            "188 <class 'str'>\n",
            "190 <class 'str'>\n",
            "192 <class 'str'>\n",
            "194 <class 'str'>\n",
            "196 <class 'str'>\n",
            "198 <class 'str'>\n",
            "200 <class 'str'>\n",
            "202 <class 'str'>\n",
            "204 <class 'str'>\n",
            "206 <class 'str'>\n",
            "208 <class 'str'>\n",
            "210 <class 'str'>\n",
            "212 <class 'str'>\n",
            "214 <class 'str'>\n",
            "216 <class 'str'>\n",
            "218 <class 'str'>\n",
            "220 <class 'str'>\n",
            "222 <class 'str'>\n",
            "224 <class 'str'>\n",
            "226 <class 'str'>\n",
            "228 <class 'str'>\n",
            "230 <class 'str'>\n",
            "232 <class 'str'>\n",
            "234 <class 'str'>\n",
            "236 <class 'str'>\n",
            "238 <class 'str'>\n",
            "240 <class 'str'>\n",
            "242 <class 'str'>\n",
            "244 <class 'str'>\n",
            "246 <class 'str'>\n",
            "248 <class 'str'>\n",
            "250 <class 'str'>\n",
            "252 <class 'str'>\n",
            "254 <class 'str'>\n",
            "256 <class 'str'>\n",
            "258 <class 'str'>\n",
            "260 <class 'str'>\n",
            "262 <class 'str'>\n",
            "264 <class 'str'>\n",
            "266 <class 'str'>\n",
            "268 <class 'str'>\n",
            "270 <class 'str'>\n",
            "272 <class 'str'>\n",
            "274 <class 'str'>\n",
            "276 <class 'str'>\n",
            "278 <class 'str'>\n",
            "280 <class 'str'>\n",
            "282 <class 'str'>\n",
            "284 <class 'str'>\n",
            "286 <class 'str'>\n",
            "288 <class 'str'>\n",
            "290 <class 'str'>\n",
            "292 <class 'str'>\n",
            "294 <class 'str'>\n",
            "296 <class 'str'>\n",
            "298 <class 'str'>\n",
            "300 <class 'str'>\n",
            "302 <class 'str'>\n",
            "304 <class 'str'>\n",
            "306 <class 'str'>\n",
            "308 <class 'str'>\n",
            "310 <class 'str'>\n",
            "312 <class 'str'>\n",
            "314 <class 'str'>\n",
            "316 <class 'str'>\n",
            "318 <class 'str'>\n",
            "320 <class 'str'>\n",
            "322 <class 'str'>\n",
            "324 <class 'str'>\n",
            "326 <class 'str'>\n",
            "328 <class 'str'>\n",
            "330 <class 'str'>\n",
            "332 <class 'str'>\n",
            "334 <class 'str'>\n",
            "336 <class 'str'>\n",
            "338 <class 'str'>\n",
            "340 <class 'str'>\n",
            "342 <class 'str'>\n",
            "344 <class 'str'>\n",
            "346 <class 'str'>\n",
            "348 <class 'str'>\n",
            "350 <class 'str'>\n",
            "352 <class 'str'>\n",
            "354 <class 'str'>\n",
            "356 <class 'str'>\n",
            "358 <class 'str'>\n",
            "360 <class 'str'>\n",
            "362 <class 'str'>\n",
            "364 <class 'str'>\n",
            "366 <class 'str'>\n",
            "368 <class 'str'>\n",
            "370 <class 'str'>\n",
            "372 <class 'str'>\n",
            "374 <class 'str'>\n",
            "376 <class 'str'>\n",
            "378 <class 'str'>\n",
            "380 <class 'str'>\n",
            "382 <class 'str'>\n",
            "384 <class 'str'>\n",
            "386 <class 'str'>\n",
            "388 <class 'str'>\n",
            "390 <class 'str'>\n",
            "392 <class 'str'>\n",
            "394 <class 'str'>\n",
            "396 <class 'str'>\n",
            "398 <class 'str'>\n",
            "400 <class 'str'>\n",
            "402 <class 'str'>\n",
            "404 <class 'str'>\n",
            "406 <class 'str'>\n",
            "408 <class 'str'>\n",
            "410 <class 'str'>\n",
            "412 <class 'str'>\n",
            "414 <class 'str'>\n",
            "416 <class 'str'>\n",
            "418 <class 'str'>\n",
            "420 <class 'str'>\n",
            "422 <class 'str'>\n",
            "424 <class 'str'>\n",
            "426 <class 'str'>\n",
            "428 <class 'str'>\n",
            "430 <class 'str'>\n",
            "432 <class 'str'>\n",
            "434 <class 'str'>\n",
            "436 <class 'str'>\n",
            "438 <class 'str'>\n",
            "440 <class 'str'>\n",
            "442 <class 'str'>\n",
            "444 <class 'str'>\n",
            "446 <class 'str'>\n",
            "448 <class 'str'>\n",
            "450 <class 'str'>\n",
            "452 <class 'str'>\n",
            "454 <class 'str'>\n",
            "456 <class 'str'>\n",
            "458 <class 'str'>\n",
            "460 <class 'str'>\n",
            "462 <class 'str'>\n",
            "464 <class 'str'>\n",
            "466 <class 'str'>\n",
            "468 <class 'str'>\n",
            "470 <class 'str'>\n",
            "472 <class 'str'>\n",
            "474 <class 'str'>\n",
            "476 <class 'str'>\n",
            "478 <class 'str'>\n",
            "480 <class 'str'>\n",
            "482 <class 'str'>\n",
            "484 <class 'str'>\n",
            "486 <class 'str'>\n",
            "488 <class 'str'>\n",
            "490 <class 'str'>\n",
            "492 <class 'str'>\n",
            "494 <class 'str'>\n",
            "496 <class 'str'>\n",
            "498 <class 'str'>\n",
            "500 <class 'str'>\n",
            "502 <class 'str'>\n",
            "504 <class 'str'>\n",
            "506 <class 'str'>\n",
            "508 <class 'str'>\n",
            "510 <class 'str'>\n",
            "512 <class 'str'>\n",
            "514 <class 'str'>\n",
            "516 <class 'str'>\n",
            "518 <class 'str'>\n",
            "520 <class 'str'>\n",
            "522 <class 'str'>\n",
            "524 <class 'str'>\n",
            "526 <class 'str'>\n",
            "528 <class 'str'>\n",
            "530 <class 'str'>\n",
            "532 <class 'str'>\n",
            "534 <class 'str'>\n",
            "536 <class 'str'>\n",
            "538 <class 'str'>\n",
            "540 <class 'str'>\n",
            "542 <class 'str'>\n",
            "544 <class 'str'>\n",
            "546 <class 'str'>\n",
            "548 <class 'str'>\n",
            "550 <class 'str'>\n",
            "552 <class 'str'>\n",
            "554 <class 'str'>\n",
            "556 <class 'str'>\n",
            "558 <class 'str'>\n",
            "560 <class 'str'>\n",
            "562 <class 'str'>\n",
            "564 <class 'str'>\n",
            "566 <class 'str'>\n",
            "568 <class 'str'>\n",
            "570 <class 'str'>\n",
            "572 <class 'str'>\n",
            "574 <class 'str'>\n",
            "576 <class 'str'>\n",
            "578 <class 'str'>\n",
            "580 <class 'str'>\n",
            "582 <class 'str'>\n",
            "584 <class 'str'>\n",
            "586 <class 'str'>\n",
            "588 <class 'str'>\n",
            "590 <class 'str'>\n",
            "592 <class 'str'>\n",
            "594 <class 'str'>\n",
            "596 <class 'str'>\n",
            "598 <class 'str'>\n",
            "600 <class 'str'>\n",
            "602 <class 'str'>\n",
            "604 <class 'str'>\n",
            "606 <class 'str'>\n",
            "608 <class 'str'>\n",
            "610 <class 'str'>\n",
            "612 <class 'str'>\n",
            "614 <class 'str'>\n",
            "616 <class 'str'>\n",
            "618 <class 'str'>\n",
            "620 <class 'str'>\n",
            "622 <class 'str'>\n",
            "624 <class 'str'>\n",
            "626 <class 'str'>\n",
            "628 <class 'str'>\n",
            "630 <class 'str'>\n",
            "632 <class 'str'>\n",
            "634 <class 'str'>\n",
            "636 <class 'str'>\n",
            "638 <class 'str'>\n",
            "640 <class 'str'>\n",
            "642 <class 'str'>\n",
            "644 <class 'str'>\n",
            "646 <class 'str'>\n",
            "648 <class 'str'>\n",
            "650 <class 'str'>\n",
            "652 <class 'str'>\n",
            "654 <class 'str'>\n",
            "656 <class 'str'>\n",
            "658 <class 'str'>\n",
            "660 <class 'str'>\n",
            "662 <class 'str'>\n",
            "664 <class 'str'>\n",
            "666 <class 'str'>\n",
            "668 <class 'str'>\n",
            "670 <class 'str'>\n",
            "672 <class 'str'>\n",
            "674 <class 'str'>\n",
            "676 <class 'str'>\n",
            "678 <class 'str'>\n",
            "680 <class 'str'>\n",
            "682 <class 'str'>\n",
            "684 <class 'str'>\n",
            "686 <class 'str'>\n",
            "688 <class 'str'>\n",
            "690 <class 'str'>\n",
            "692 <class 'str'>\n",
            "694 <class 'str'>\n",
            "696 <class 'str'>\n",
            "698 <class 'str'>\n",
            "700 <class 'str'>\n",
            "702 <class 'str'>\n",
            "704 <class 'str'>\n",
            "706 <class 'str'>\n",
            "708 <class 'str'>\n",
            "710 <class 'str'>\n",
            "712 <class 'str'>\n",
            "714 <class 'str'>\n",
            "716 <class 'str'>\n",
            "718 <class 'str'>\n",
            "720 <class 'str'>\n",
            "722 <class 'str'>\n",
            "724 <class 'str'>\n",
            "726 <class 'str'>\n",
            "728 <class 'str'>\n",
            "730 <class 'str'>\n",
            "732 <class 'str'>\n",
            "734 <class 'str'>\n",
            "736 <class 'str'>\n",
            "738 <class 'str'>\n",
            "740 <class 'str'>\n",
            "742 <class 'str'>\n",
            "744 <class 'str'>\n",
            "746 <class 'str'>\n",
            "748 <class 'str'>\n",
            "750 <class 'str'>\n",
            "752 <class 'str'>\n",
            "754 <class 'str'>\n",
            "756 <class 'str'>\n",
            "758 <class 'str'>\n",
            "760 <class 'str'>\n",
            "762 <class 'str'>\n",
            "764 <class 'str'>\n",
            "766 <class 'str'>\n",
            "768 <class 'str'>\n",
            "770 <class 'str'>\n",
            "772 <class 'str'>\n",
            "774 <class 'str'>\n",
            "776 <class 'str'>\n",
            "778 <class 'str'>\n",
            "780 <class 'str'>\n",
            "782 <class 'str'>\n",
            "784 <class 'str'>\n",
            "786 <class 'str'>\n",
            "788 <class 'str'>\n",
            "790 <class 'str'>\n",
            "792 <class 'str'>\n",
            "794 <class 'str'>\n",
            "796 <class 'str'>\n",
            "798 <class 'str'>\n",
            "800 <class 'str'>\n",
            "802 <class 'str'>\n",
            "804 <class 'str'>\n",
            "806 <class 'str'>\n",
            "808 <class 'str'>\n",
            "810 <class 'str'>\n",
            "812 <class 'str'>\n",
            "814 <class 'str'>\n",
            "816 <class 'str'>\n",
            "818 <class 'str'>\n",
            "820 <class 'str'>\n",
            "822 <class 'str'>\n",
            "824 <class 'str'>\n",
            "826 <class 'str'>\n",
            "828 <class 'str'>\n",
            "830 <class 'str'>\n",
            "832 <class 'str'>\n",
            "834 <class 'str'>\n",
            "836 <class 'str'>\n",
            "838 <class 'str'>\n",
            "840 <class 'str'>\n",
            "842 <class 'str'>\n",
            "844 <class 'str'>\n",
            "846 <class 'str'>\n",
            "848 <class 'str'>\n",
            "850 <class 'str'>\n",
            "852 <class 'str'>\n",
            "854 <class 'str'>\n",
            "856 <class 'str'>\n",
            "858 <class 'str'>\n",
            "860 <class 'str'>\n",
            "862 <class 'str'>\n",
            "864 <class 'str'>\n",
            "866 <class 'str'>\n",
            "868 <class 'str'>\n",
            "870 <class 'str'>\n",
            "872 <class 'str'>\n",
            "874 <class 'str'>\n",
            "876 <class 'str'>\n",
            "878 <class 'str'>\n",
            "880 <class 'str'>\n",
            "882 <class 'str'>\n",
            "884 <class 'str'>\n",
            "886 <class 'str'>\n",
            "888 <class 'str'>\n",
            "890 <class 'str'>\n",
            "892 <class 'str'>\n",
            "894 <class 'str'>\n",
            "896 <class 'str'>\n",
            "898 <class 'str'>\n",
            "900 <class 'str'>\n",
            "902 <class 'str'>\n",
            "904 <class 'str'>\n",
            "906 <class 'str'>\n",
            "908 <class 'str'>\n",
            "910 <class 'str'>\n",
            "912 <class 'str'>\n",
            "914 <class 'str'>\n",
            "916 <class 'str'>\n",
            "918 <class 'str'>\n",
            "920 <class 'str'>\n",
            "922 <class 'str'>\n",
            "924 <class 'str'>\n",
            "926 <class 'str'>\n",
            "928 <class 'str'>\n",
            "930 <class 'str'>\n",
            "932 <class 'str'>\n",
            "934 <class 'str'>\n",
            "936 <class 'str'>\n",
            "938 <class 'str'>\n",
            "940 <class 'str'>\n",
            "942 <class 'str'>\n",
            "944 <class 'str'>\n",
            "946 <class 'str'>\n",
            "948 <class 'str'>\n",
            "950 <class 'str'>\n",
            "952 <class 'str'>\n",
            "954 <class 'str'>\n",
            "956 <class 'str'>\n",
            "958 <class 'str'>\n",
            "960 <class 'str'>\n",
            "962 <class 'str'>\n",
            "964 <class 'str'>\n",
            "966 <class 'str'>\n",
            "968 <class 'str'>\n",
            "970 <class 'str'>\n",
            "972 <class 'str'>\n",
            "974 <class 'str'>\n",
            "976 <class 'str'>\n",
            "978 <class 'str'>\n",
            "980 <class 'str'>\n",
            "982 <class 'str'>\n",
            "984 <class 'str'>\n",
            "986 <class 'str'>\n",
            "988 <class 'str'>\n",
            "990 <class 'str'>\n",
            "992 <class 'str'>\n",
            "994 <class 'str'>\n",
            "996 <class 'str'>\n",
            "998 <class 'str'>\n",
            "1000 <class 'str'>\n"
          ],
          "name": "stdout"
        }
      ]
    },
    {
      "cell_type": "code",
      "metadata": {
        "colab": {
          "base_uri": "https://localhost:8080/",
          "height": 1000
        },
        "id": "kj1nndmPi6rB",
        "outputId": "b388a664-92f1-4567-b66d-b9052927ec85"
      },
      "source": [
        "#Exercício 3\n",
        "for a in lista:\n",
        "  print(a, type(a))\n",
        "\n",
        "for b in listastr:\n",
        "  print(b, type(b))\n",
        "\n",
        "for inteiro,string in zip(lista,listastr):\n",
        "  soma = inteiro + string\n",
        "  print(soma)"
      ],
      "execution_count": 36,
      "outputs": [
        {
          "output_type": "stream",
          "text": [
            "1 <class 'int'>\n",
            "2 <class 'int'>\n",
            "3 <class 'int'>\n",
            "4 <class 'int'>\n",
            "5 <class 'int'>\n",
            "6 <class 'int'>\n",
            "6 <class 'int'>\n",
            "7 <class 'int'>\n",
            "8 <class 'int'>\n",
            "9 <class 'int'>\n",
            "0 <class 'str'>\n",
            "2 <class 'str'>\n",
            "4 <class 'str'>\n",
            "6 <class 'str'>\n",
            "8 <class 'str'>\n",
            "10 <class 'str'>\n",
            "12 <class 'str'>\n",
            "14 <class 'str'>\n",
            "16 <class 'str'>\n",
            "18 <class 'str'>\n",
            "20 <class 'str'>\n",
            "22 <class 'str'>\n",
            "24 <class 'str'>\n",
            "26 <class 'str'>\n",
            "28 <class 'str'>\n",
            "30 <class 'str'>\n",
            "32 <class 'str'>\n",
            "34 <class 'str'>\n",
            "36 <class 'str'>\n",
            "38 <class 'str'>\n",
            "40 <class 'str'>\n",
            "42 <class 'str'>\n",
            "44 <class 'str'>\n",
            "46 <class 'str'>\n",
            "48 <class 'str'>\n",
            "50 <class 'str'>\n",
            "52 <class 'str'>\n",
            "54 <class 'str'>\n",
            "56 <class 'str'>\n",
            "58 <class 'str'>\n",
            "60 <class 'str'>\n",
            "62 <class 'str'>\n",
            "64 <class 'str'>\n",
            "66 <class 'str'>\n",
            "68 <class 'str'>\n",
            "70 <class 'str'>\n",
            "72 <class 'str'>\n",
            "74 <class 'str'>\n",
            "76 <class 'str'>\n",
            "78 <class 'str'>\n",
            "80 <class 'str'>\n",
            "82 <class 'str'>\n",
            "84 <class 'str'>\n",
            "86 <class 'str'>\n",
            "88 <class 'str'>\n",
            "90 <class 'str'>\n",
            "92 <class 'str'>\n",
            "94 <class 'str'>\n",
            "96 <class 'str'>\n",
            "98 <class 'str'>\n",
            "100 <class 'str'>\n",
            "102 <class 'str'>\n",
            "104 <class 'str'>\n",
            "106 <class 'str'>\n",
            "108 <class 'str'>\n",
            "110 <class 'str'>\n",
            "112 <class 'str'>\n",
            "114 <class 'str'>\n",
            "116 <class 'str'>\n",
            "118 <class 'str'>\n",
            "120 <class 'str'>\n",
            "122 <class 'str'>\n",
            "124 <class 'str'>\n",
            "126 <class 'str'>\n",
            "128 <class 'str'>\n",
            "130 <class 'str'>\n",
            "132 <class 'str'>\n",
            "134 <class 'str'>\n",
            "136 <class 'str'>\n",
            "138 <class 'str'>\n",
            "140 <class 'str'>\n",
            "142 <class 'str'>\n",
            "144 <class 'str'>\n",
            "146 <class 'str'>\n",
            "148 <class 'str'>\n",
            "150 <class 'str'>\n",
            "152 <class 'str'>\n",
            "154 <class 'str'>\n",
            "156 <class 'str'>\n",
            "158 <class 'str'>\n",
            "160 <class 'str'>\n",
            "162 <class 'str'>\n",
            "164 <class 'str'>\n",
            "166 <class 'str'>\n",
            "168 <class 'str'>\n",
            "170 <class 'str'>\n",
            "172 <class 'str'>\n",
            "174 <class 'str'>\n",
            "176 <class 'str'>\n",
            "178 <class 'str'>\n",
            "180 <class 'str'>\n",
            "182 <class 'str'>\n",
            "184 <class 'str'>\n",
            "186 <class 'str'>\n",
            "188 <class 'str'>\n",
            "190 <class 'str'>\n",
            "192 <class 'str'>\n",
            "194 <class 'str'>\n",
            "196 <class 'str'>\n",
            "198 <class 'str'>\n",
            "200 <class 'str'>\n",
            "202 <class 'str'>\n",
            "204 <class 'str'>\n",
            "206 <class 'str'>\n",
            "208 <class 'str'>\n",
            "210 <class 'str'>\n",
            "212 <class 'str'>\n",
            "214 <class 'str'>\n",
            "216 <class 'str'>\n",
            "218 <class 'str'>\n",
            "220 <class 'str'>\n",
            "222 <class 'str'>\n",
            "224 <class 'str'>\n",
            "226 <class 'str'>\n",
            "228 <class 'str'>\n",
            "230 <class 'str'>\n",
            "232 <class 'str'>\n",
            "234 <class 'str'>\n",
            "236 <class 'str'>\n",
            "238 <class 'str'>\n",
            "240 <class 'str'>\n",
            "242 <class 'str'>\n",
            "244 <class 'str'>\n",
            "246 <class 'str'>\n",
            "248 <class 'str'>\n",
            "250 <class 'str'>\n",
            "252 <class 'str'>\n",
            "254 <class 'str'>\n",
            "256 <class 'str'>\n",
            "258 <class 'str'>\n",
            "260 <class 'str'>\n",
            "262 <class 'str'>\n",
            "264 <class 'str'>\n",
            "266 <class 'str'>\n",
            "268 <class 'str'>\n",
            "270 <class 'str'>\n",
            "272 <class 'str'>\n",
            "274 <class 'str'>\n",
            "276 <class 'str'>\n",
            "278 <class 'str'>\n",
            "280 <class 'str'>\n",
            "282 <class 'str'>\n",
            "284 <class 'str'>\n",
            "286 <class 'str'>\n",
            "288 <class 'str'>\n",
            "290 <class 'str'>\n",
            "292 <class 'str'>\n",
            "294 <class 'str'>\n",
            "296 <class 'str'>\n",
            "298 <class 'str'>\n",
            "300 <class 'str'>\n",
            "302 <class 'str'>\n",
            "304 <class 'str'>\n",
            "306 <class 'str'>\n",
            "308 <class 'str'>\n",
            "310 <class 'str'>\n",
            "312 <class 'str'>\n",
            "314 <class 'str'>\n",
            "316 <class 'str'>\n",
            "318 <class 'str'>\n",
            "320 <class 'str'>\n",
            "322 <class 'str'>\n",
            "324 <class 'str'>\n",
            "326 <class 'str'>\n",
            "328 <class 'str'>\n",
            "330 <class 'str'>\n",
            "332 <class 'str'>\n",
            "334 <class 'str'>\n",
            "336 <class 'str'>\n",
            "338 <class 'str'>\n",
            "340 <class 'str'>\n",
            "342 <class 'str'>\n",
            "344 <class 'str'>\n",
            "346 <class 'str'>\n",
            "348 <class 'str'>\n",
            "350 <class 'str'>\n",
            "352 <class 'str'>\n",
            "354 <class 'str'>\n",
            "356 <class 'str'>\n",
            "358 <class 'str'>\n",
            "360 <class 'str'>\n",
            "362 <class 'str'>\n",
            "364 <class 'str'>\n",
            "366 <class 'str'>\n",
            "368 <class 'str'>\n",
            "370 <class 'str'>\n",
            "372 <class 'str'>\n",
            "374 <class 'str'>\n",
            "376 <class 'str'>\n",
            "378 <class 'str'>\n",
            "380 <class 'str'>\n",
            "382 <class 'str'>\n",
            "384 <class 'str'>\n",
            "386 <class 'str'>\n",
            "388 <class 'str'>\n",
            "390 <class 'str'>\n",
            "392 <class 'str'>\n",
            "394 <class 'str'>\n",
            "396 <class 'str'>\n",
            "398 <class 'str'>\n",
            "400 <class 'str'>\n",
            "402 <class 'str'>\n",
            "404 <class 'str'>\n",
            "406 <class 'str'>\n",
            "408 <class 'str'>\n",
            "410 <class 'str'>\n",
            "412 <class 'str'>\n",
            "414 <class 'str'>\n",
            "416 <class 'str'>\n",
            "418 <class 'str'>\n",
            "420 <class 'str'>\n",
            "422 <class 'str'>\n",
            "424 <class 'str'>\n",
            "426 <class 'str'>\n",
            "428 <class 'str'>\n",
            "430 <class 'str'>\n",
            "432 <class 'str'>\n",
            "434 <class 'str'>\n",
            "436 <class 'str'>\n",
            "438 <class 'str'>\n",
            "440 <class 'str'>\n",
            "442 <class 'str'>\n",
            "444 <class 'str'>\n",
            "446 <class 'str'>\n",
            "448 <class 'str'>\n",
            "450 <class 'str'>\n",
            "452 <class 'str'>\n",
            "454 <class 'str'>\n",
            "456 <class 'str'>\n",
            "458 <class 'str'>\n",
            "460 <class 'str'>\n",
            "462 <class 'str'>\n",
            "464 <class 'str'>\n",
            "466 <class 'str'>\n",
            "468 <class 'str'>\n",
            "470 <class 'str'>\n",
            "472 <class 'str'>\n",
            "474 <class 'str'>\n",
            "476 <class 'str'>\n",
            "478 <class 'str'>\n",
            "480 <class 'str'>\n",
            "482 <class 'str'>\n",
            "484 <class 'str'>\n",
            "486 <class 'str'>\n",
            "488 <class 'str'>\n",
            "490 <class 'str'>\n",
            "492 <class 'str'>\n",
            "494 <class 'str'>\n",
            "496 <class 'str'>\n",
            "498 <class 'str'>\n",
            "500 <class 'str'>\n",
            "502 <class 'str'>\n",
            "504 <class 'str'>\n",
            "506 <class 'str'>\n",
            "508 <class 'str'>\n",
            "510 <class 'str'>\n",
            "512 <class 'str'>\n",
            "514 <class 'str'>\n",
            "516 <class 'str'>\n",
            "518 <class 'str'>\n",
            "520 <class 'str'>\n",
            "522 <class 'str'>\n",
            "524 <class 'str'>\n",
            "526 <class 'str'>\n",
            "528 <class 'str'>\n",
            "530 <class 'str'>\n",
            "532 <class 'str'>\n",
            "534 <class 'str'>\n",
            "536 <class 'str'>\n",
            "538 <class 'str'>\n",
            "540 <class 'str'>\n",
            "542 <class 'str'>\n",
            "544 <class 'str'>\n",
            "546 <class 'str'>\n",
            "548 <class 'str'>\n",
            "550 <class 'str'>\n",
            "552 <class 'str'>\n",
            "554 <class 'str'>\n",
            "556 <class 'str'>\n",
            "558 <class 'str'>\n",
            "560 <class 'str'>\n",
            "562 <class 'str'>\n",
            "564 <class 'str'>\n",
            "566 <class 'str'>\n",
            "568 <class 'str'>\n",
            "570 <class 'str'>\n",
            "572 <class 'str'>\n",
            "574 <class 'str'>\n",
            "576 <class 'str'>\n",
            "578 <class 'str'>\n",
            "580 <class 'str'>\n",
            "582 <class 'str'>\n",
            "584 <class 'str'>\n",
            "586 <class 'str'>\n",
            "588 <class 'str'>\n",
            "590 <class 'str'>\n",
            "592 <class 'str'>\n",
            "594 <class 'str'>\n",
            "596 <class 'str'>\n",
            "598 <class 'str'>\n",
            "600 <class 'str'>\n",
            "602 <class 'str'>\n",
            "604 <class 'str'>\n",
            "606 <class 'str'>\n",
            "608 <class 'str'>\n",
            "610 <class 'str'>\n",
            "612 <class 'str'>\n",
            "614 <class 'str'>\n",
            "616 <class 'str'>\n",
            "618 <class 'str'>\n",
            "620 <class 'str'>\n",
            "622 <class 'str'>\n",
            "624 <class 'str'>\n",
            "626 <class 'str'>\n",
            "628 <class 'str'>\n",
            "630 <class 'str'>\n",
            "632 <class 'str'>\n",
            "634 <class 'str'>\n",
            "636 <class 'str'>\n",
            "638 <class 'str'>\n",
            "640 <class 'str'>\n",
            "642 <class 'str'>\n",
            "644 <class 'str'>\n",
            "646 <class 'str'>\n",
            "648 <class 'str'>\n",
            "650 <class 'str'>\n",
            "652 <class 'str'>\n",
            "654 <class 'str'>\n",
            "656 <class 'str'>\n",
            "658 <class 'str'>\n",
            "660 <class 'str'>\n",
            "662 <class 'str'>\n",
            "664 <class 'str'>\n",
            "666 <class 'str'>\n",
            "668 <class 'str'>\n",
            "670 <class 'str'>\n",
            "672 <class 'str'>\n",
            "674 <class 'str'>\n",
            "676 <class 'str'>\n",
            "678 <class 'str'>\n",
            "680 <class 'str'>\n",
            "682 <class 'str'>\n",
            "684 <class 'str'>\n",
            "686 <class 'str'>\n",
            "688 <class 'str'>\n",
            "690 <class 'str'>\n",
            "692 <class 'str'>\n",
            "694 <class 'str'>\n",
            "696 <class 'str'>\n",
            "698 <class 'str'>\n",
            "700 <class 'str'>\n",
            "702 <class 'str'>\n",
            "704 <class 'str'>\n",
            "706 <class 'str'>\n",
            "708 <class 'str'>\n",
            "710 <class 'str'>\n",
            "712 <class 'str'>\n",
            "714 <class 'str'>\n",
            "716 <class 'str'>\n",
            "718 <class 'str'>\n",
            "720 <class 'str'>\n",
            "722 <class 'str'>\n",
            "724 <class 'str'>\n",
            "726 <class 'str'>\n",
            "728 <class 'str'>\n",
            "730 <class 'str'>\n",
            "732 <class 'str'>\n",
            "734 <class 'str'>\n",
            "736 <class 'str'>\n",
            "738 <class 'str'>\n",
            "740 <class 'str'>\n",
            "742 <class 'str'>\n",
            "744 <class 'str'>\n",
            "746 <class 'str'>\n",
            "748 <class 'str'>\n",
            "750 <class 'str'>\n",
            "752 <class 'str'>\n",
            "754 <class 'str'>\n",
            "756 <class 'str'>\n",
            "758 <class 'str'>\n",
            "760 <class 'str'>\n",
            "762 <class 'str'>\n",
            "764 <class 'str'>\n",
            "766 <class 'str'>\n",
            "768 <class 'str'>\n",
            "770 <class 'str'>\n",
            "772 <class 'str'>\n",
            "774 <class 'str'>\n",
            "776 <class 'str'>\n",
            "778 <class 'str'>\n",
            "780 <class 'str'>\n",
            "782 <class 'str'>\n",
            "784 <class 'str'>\n",
            "786 <class 'str'>\n",
            "788 <class 'str'>\n",
            "790 <class 'str'>\n",
            "792 <class 'str'>\n",
            "794 <class 'str'>\n",
            "796 <class 'str'>\n",
            "798 <class 'str'>\n",
            "800 <class 'str'>\n",
            "802 <class 'str'>\n",
            "804 <class 'str'>\n",
            "806 <class 'str'>\n",
            "808 <class 'str'>\n",
            "810 <class 'str'>\n",
            "812 <class 'str'>\n",
            "814 <class 'str'>\n",
            "816 <class 'str'>\n",
            "818 <class 'str'>\n",
            "820 <class 'str'>\n",
            "822 <class 'str'>\n",
            "824 <class 'str'>\n",
            "826 <class 'str'>\n",
            "828 <class 'str'>\n",
            "830 <class 'str'>\n",
            "832 <class 'str'>\n",
            "834 <class 'str'>\n",
            "836 <class 'str'>\n",
            "838 <class 'str'>\n",
            "840 <class 'str'>\n",
            "842 <class 'str'>\n",
            "844 <class 'str'>\n",
            "846 <class 'str'>\n",
            "848 <class 'str'>\n",
            "850 <class 'str'>\n",
            "852 <class 'str'>\n",
            "854 <class 'str'>\n",
            "856 <class 'str'>\n",
            "858 <class 'str'>\n",
            "860 <class 'str'>\n",
            "862 <class 'str'>\n",
            "864 <class 'str'>\n",
            "866 <class 'str'>\n",
            "868 <class 'str'>\n",
            "870 <class 'str'>\n",
            "872 <class 'str'>\n",
            "874 <class 'str'>\n",
            "876 <class 'str'>\n",
            "878 <class 'str'>\n",
            "880 <class 'str'>\n",
            "882 <class 'str'>\n",
            "884 <class 'str'>\n",
            "886 <class 'str'>\n",
            "888 <class 'str'>\n",
            "890 <class 'str'>\n",
            "892 <class 'str'>\n",
            "894 <class 'str'>\n",
            "896 <class 'str'>\n",
            "898 <class 'str'>\n",
            "900 <class 'str'>\n",
            "902 <class 'str'>\n",
            "904 <class 'str'>\n",
            "906 <class 'str'>\n",
            "908 <class 'str'>\n",
            "910 <class 'str'>\n",
            "912 <class 'str'>\n",
            "914 <class 'str'>\n",
            "916 <class 'str'>\n",
            "918 <class 'str'>\n",
            "920 <class 'str'>\n",
            "922 <class 'str'>\n",
            "924 <class 'str'>\n",
            "926 <class 'str'>\n",
            "928 <class 'str'>\n",
            "930 <class 'str'>\n",
            "932 <class 'str'>\n",
            "934 <class 'str'>\n",
            "936 <class 'str'>\n",
            "938 <class 'str'>\n",
            "940 <class 'str'>\n",
            "942 <class 'str'>\n",
            "944 <class 'str'>\n",
            "946 <class 'str'>\n",
            "948 <class 'str'>\n",
            "950 <class 'str'>\n",
            "952 <class 'str'>\n",
            "954 <class 'str'>\n",
            "956 <class 'str'>\n",
            "958 <class 'str'>\n",
            "960 <class 'str'>\n",
            "962 <class 'str'>\n",
            "964 <class 'str'>\n",
            "966 <class 'str'>\n",
            "968 <class 'str'>\n",
            "970 <class 'str'>\n",
            "972 <class 'str'>\n",
            "974 <class 'str'>\n",
            "976 <class 'str'>\n",
            "978 <class 'str'>\n",
            "980 <class 'str'>\n",
            "982 <class 'str'>\n",
            "984 <class 'str'>\n",
            "986 <class 'str'>\n",
            "988 <class 'str'>\n",
            "990 <class 'str'>\n",
            "992 <class 'str'>\n",
            "994 <class 'str'>\n",
            "996 <class 'str'>\n",
            "998 <class 'str'>\n",
            "1000 <class 'str'>\n"
          ],
          "name": "stdout"
        },
        {
          "output_type": "error",
          "ename": "TypeError",
          "evalue": "ignored",
          "traceback": [
            "\u001b[0;31m---------------------------------------------------------------------------\u001b[0m",
            "\u001b[0;31mTypeError\u001b[0m                                 Traceback (most recent call last)",
            "\u001b[0;32m<ipython-input-36-4889152c4ebf>\u001b[0m in \u001b[0;36m<module>\u001b[0;34m()\u001b[0m\n\u001b[1;32m      7\u001b[0m \u001b[0;34m\u001b[0m\u001b[0m\n\u001b[1;32m      8\u001b[0m \u001b[0;32mfor\u001b[0m \u001b[0minteiro\u001b[0m\u001b[0;34m,\u001b[0m\u001b[0mstring\u001b[0m \u001b[0;32min\u001b[0m \u001b[0mzip\u001b[0m\u001b[0;34m(\u001b[0m\u001b[0mlista\u001b[0m\u001b[0;34m,\u001b[0m\u001b[0mlistastr\u001b[0m\u001b[0;34m)\u001b[0m\u001b[0;34m:\u001b[0m\u001b[0;34m\u001b[0m\u001b[0;34m\u001b[0m\u001b[0m\n\u001b[0;32m----> 9\u001b[0;31m   \u001b[0msoma\u001b[0m \u001b[0;34m=\u001b[0m \u001b[0minteiro\u001b[0m \u001b[0;34m+\u001b[0m \u001b[0mstring\u001b[0m\u001b[0;34m\u001b[0m\u001b[0;34m\u001b[0m\u001b[0m\n\u001b[0m\u001b[1;32m     10\u001b[0m   \u001b[0mprint\u001b[0m\u001b[0;34m(\u001b[0m\u001b[0msoma\u001b[0m\u001b[0;34m)\u001b[0m\u001b[0;34m\u001b[0m\u001b[0;34m\u001b[0m\u001b[0m\n",
            "\u001b[0;31mTypeError\u001b[0m: unsupported operand type(s) for +: 'int' and 'str'"
          ]
        }
      ]
    },
    {
      "cell_type": "markdown",
      "metadata": {
        "id": "PFXVVEDeoMPY"
      },
      "source": [
        "#Aula 2 - Enumerante e Zip"
      ]
    },
    {
      "cell_type": "code",
      "metadata": {
        "colab": {
          "base_uri": "https://localhost:8080/"
        },
        "id": "cre7JqFXmZ38",
        "outputId": "c3cbbc78-1afe-4de3-c360-115c5ada9048"
      },
      "source": [
        "#criando uma lista e percorrendo ela no for com enumarate print a e b\n",
        "lista = [1, 2, 3, 4, 5, 6, 6, 7, 8, 9]\n",
        "tupla = (10, 2, 3, 4, 5, 6, 34, 62)\n",
        "\n",
        "for a, b in enumerate(lista):\n",
        "  print(a, b)"
      ],
      "execution_count": 31,
      "outputs": [
        {
          "output_type": "stream",
          "text": [
            "0 1\n",
            "1 2\n",
            "2 3\n",
            "3 4\n",
            "4 5\n",
            "5 6\n",
            "6 6\n",
            "7 7\n",
            "8 8\n",
            "9 9\n"
          ],
          "name": "stdout"
        }
      ]
    },
    {
      "cell_type": "code",
      "metadata": {
        "colab": {
          "base_uri": "https://localhost:8080/"
        },
        "id": "J_Wx44pfoco0",
        "outputId": "adf418b4-63a9-456d-b123-8e6ee7ef9474"
      },
      "source": [
        "#criando uma tupla e percorrendo ela e a lista com zip printando os 2 valores\n",
        "\n",
        "for a,b in zip(lista,tupla):\n",
        "  print(a, b)"
      ],
      "execution_count": 35,
      "outputs": [
        {
          "output_type": "stream",
          "text": [
            "1 10\n",
            "2 2\n",
            "3 3\n",
            "4 4\n",
            "5 5\n",
            "6 6\n",
            "6 34\n",
            "7 62\n"
          ],
          "name": "stdout"
        }
      ]
    },
    {
      "cell_type": "code",
      "metadata": {
        "colab": {
          "base_uri": "https://localhost:8080/"
        },
        "id": "SZtYbLAPof2D",
        "outputId": "c3993a7c-b11c-418e-badb-5349406344d7"
      },
      "source": [
        "#é possível começar o range de outro ponto que não o 0\n",
        "for a in range(0, 10):\n",
        "  print(a)"
      ],
      "execution_count": 37,
      "outputs": [
        {
          "output_type": "stream",
          "text": [
            "0\n",
            "1\n",
            "2\n",
            "3\n",
            "4\n",
            "5\n",
            "6\n",
            "7\n",
            "8\n",
            "9\n"
          ],
          "name": "stdout"
        }
      ]
    },
    {
      "cell_type": "code",
      "metadata": {
        "colab": {
          "base_uri": "https://localhost:8080/"
        },
        "id": "LNJfze8WpveD",
        "outputId": "b17635ec-0e49-42bf-eed8-c61c08ed3f02"
      },
      "source": [
        "for a in range(3, 10):\n",
        "  print(a)"
      ],
      "execution_count": 38,
      "outputs": [
        {
          "output_type": "stream",
          "text": [
            "3\n",
            "4\n",
            "5\n",
            "6\n",
            "7\n",
            "8\n",
            "9\n"
          ],
          "name": "stdout"
        }
      ]
    },
    {
      "cell_type": "code",
      "metadata": {
        "colab": {
          "base_uri": "https://localhost:8080/"
        },
        "id": "hrDMYvkqpx4m",
        "outputId": "dad3a8e8-6c24-4ee0-e31b-d1287254990d"
      },
      "source": [
        "for a in range(3, 10, 2):\n",
        "  print(a)"
      ],
      "execution_count": 39,
      "outputs": [
        {
          "output_type": "stream",
          "text": [
            "3\n",
            "5\n",
            "7\n",
            "9\n"
          ],
          "name": "stdout"
        }
      ]
    },
    {
      "cell_type": "code",
      "metadata": {
        "colab": {
          "base_uri": "https://localhost:8080/"
        },
        "id": "VJmesVeqp0-P",
        "outputId": "66131e94-21c1-4266-b062-fa1e203c4c8d"
      },
      "source": [
        "#podemos utilizar o else no for diretamente sem o if\n",
        "\n",
        "for a in range (10):\n",
        "  print(a)\n",
        "else:\n",
        "  print('range maior ou igual a 10')"
      ],
      "execution_count": 40,
      "outputs": [
        {
          "output_type": "stream",
          "text": [
            "0\n",
            "1\n",
            "2\n",
            "3\n",
            "4\n",
            "5\n",
            "6\n",
            "7\n",
            "8\n",
            "9\n",
            "range maior ou igual a 10\n"
          ],
          "name": "stdout"
        }
      ]
    },
    {
      "cell_type": "code",
      "metadata": {
        "colab": {
          "base_uri": "https://localhost:8080/"
        },
        "id": "APG_KFd9p9u7",
        "outputId": "6939e926-2c5d-446d-f64e-b2c490da8a03"
      },
      "source": [
        "#percorrendo uma string com o for\n",
        "texto = 'eu vou fazer os exercícios'\n",
        "\n",
        "for a in texto:\n",
        "  print(a)"
      ],
      "execution_count": 44,
      "outputs": [
        {
          "output_type": "stream",
          "text": [
            "e\n",
            "u\n",
            " \n",
            "v\n",
            "o\n",
            "u\n",
            " \n",
            "f\n",
            "a\n",
            "z\n",
            "e\n",
            "r\n",
            " \n",
            "o\n",
            "s\n",
            " \n",
            "e\n",
            "x\n",
            "e\n",
            "r\n",
            "c\n",
            "í\n",
            "c\n",
            "i\n",
            "o\n",
            "s\n"
          ],
          "name": "stdout"
        }
      ]
    },
    {
      "cell_type": "code",
      "metadata": {
        "colab": {
          "base_uri": "https://localhost:8080/"
        },
        "id": "ZAbRu-wuqEZj",
        "outputId": "a46c88d3-8008-4323-f76d-b49b54e44ab4"
      },
      "source": [
        "# atribuindo o split da string a uma nova variável e printando\n",
        "lista_de_palavras = texto.split()\n",
        "for a in lista_de_palavras:\n",
        "  print(a)"
      ],
      "execution_count": 47,
      "outputs": [
        {
          "output_type": "stream",
          "text": [
            "eu\n",
            "vou\n",
            "fazer\n",
            "os\n",
            "exercícios\n"
          ],
          "name": "stdout"
        }
      ]
    },
    {
      "cell_type": "code",
      "metadata": {
        "colab": {
          "base_uri": "https://localhost:8080/"
        },
        "id": "RmKPlIYHqg1J",
        "outputId": "b14be5d0-86dc-4536-a094-700a01a591eb"
      },
      "source": [
        "#deixando a primeira letra de cada palavra maiúscula\n",
        "for a in lista_de_palavras:\n",
        "  print(a[0].upper()+a[1:])"
      ],
      "execution_count": 48,
      "outputs": [
        {
          "output_type": "stream",
          "text": [
            "Eu\n",
            "Vou\n",
            "Fazer\n",
            "Os\n",
            "Exercícios\n"
          ],
          "name": "stdout"
        }
      ]
    },
    {
      "cell_type": "code",
      "metadata": {
        "colab": {
          "base_uri": "https://localhost:8080/"
        },
        "id": "0-udTZw2qllQ",
        "outputId": "662b203b-b9cc-4568-d4e8-4f3bc1ed9125"
      },
      "source": [
        "#for aninhado percorrendo a lista\n",
        "\n",
        "for a in lista_de_palavras:\n",
        "  for b in lista_de_palavras:\n",
        "    print(a,b)"
      ],
      "execution_count": 49,
      "outputs": [
        {
          "output_type": "stream",
          "text": [
            "eu eu\n",
            "eu vou\n",
            "eu fazer\n",
            "eu os\n",
            "eu exercícios\n",
            "vou eu\n",
            "vou vou\n",
            "vou fazer\n",
            "vou os\n",
            "vou exercícios\n",
            "fazer eu\n",
            "fazer vou\n",
            "fazer fazer\n",
            "fazer os\n",
            "fazer exercícios\n",
            "os eu\n",
            "os vou\n",
            "os fazer\n",
            "os os\n",
            "os exercícios\n",
            "exercícios eu\n",
            "exercícios vou\n",
            "exercícios fazer\n",
            "exercícios os\n",
            "exercícios exercícios\n"
          ],
          "name": "stdout"
        }
      ]
    },
    {
      "cell_type": "code",
      "metadata": {
        "colab": {
          "base_uri": "https://localhost:8080/"
        },
        "id": "61W2p3tGq7WG",
        "outputId": "df16784e-b0ed-46b2-87a1-fbd833da1c6b"
      },
      "source": [
        "#fazendo tabuada\n",
        "for a in range(1,11):\n",
        "  for b in range(1,11):\n",
        "    print(a, 'x', b, '=', a*b)"
      ],
      "execution_count": 52,
      "outputs": [
        {
          "output_type": "stream",
          "text": [
            "1 x 1 = 1\n",
            "1 x 2 = 2\n",
            "1 x 3 = 3\n",
            "1 x 4 = 4\n",
            "1 x 5 = 5\n",
            "1 x 6 = 6\n",
            "1 x 7 = 7\n",
            "1 x 8 = 8\n",
            "1 x 9 = 9\n",
            "1 x 10 = 10\n",
            "2 x 1 = 2\n",
            "2 x 2 = 4\n",
            "2 x 3 = 6\n",
            "2 x 4 = 8\n",
            "2 x 5 = 10\n",
            "2 x 6 = 12\n",
            "2 x 7 = 14\n",
            "2 x 8 = 16\n",
            "2 x 9 = 18\n",
            "2 x 10 = 20\n",
            "3 x 1 = 3\n",
            "3 x 2 = 6\n",
            "3 x 3 = 9\n",
            "3 x 4 = 12\n",
            "3 x 5 = 15\n",
            "3 x 6 = 18\n",
            "3 x 7 = 21\n",
            "3 x 8 = 24\n",
            "3 x 9 = 27\n",
            "3 x 10 = 30\n",
            "4 x 1 = 4\n",
            "4 x 2 = 8\n",
            "4 x 3 = 12\n",
            "4 x 4 = 16\n",
            "4 x 5 = 20\n",
            "4 x 6 = 24\n",
            "4 x 7 = 28\n",
            "4 x 8 = 32\n",
            "4 x 9 = 36\n",
            "4 x 10 = 40\n",
            "5 x 1 = 5\n",
            "5 x 2 = 10\n",
            "5 x 3 = 15\n",
            "5 x 4 = 20\n",
            "5 x 5 = 25\n",
            "5 x 6 = 30\n",
            "5 x 7 = 35\n",
            "5 x 8 = 40\n",
            "5 x 9 = 45\n",
            "5 x 10 = 50\n",
            "6 x 1 = 6\n",
            "6 x 2 = 12\n",
            "6 x 3 = 18\n",
            "6 x 4 = 24\n",
            "6 x 5 = 30\n",
            "6 x 6 = 36\n",
            "6 x 7 = 42\n",
            "6 x 8 = 48\n",
            "6 x 9 = 54\n",
            "6 x 10 = 60\n",
            "7 x 1 = 7\n",
            "7 x 2 = 14\n",
            "7 x 3 = 21\n",
            "7 x 4 = 28\n",
            "7 x 5 = 35\n",
            "7 x 6 = 42\n",
            "7 x 7 = 49\n",
            "7 x 8 = 56\n",
            "7 x 9 = 63\n",
            "7 x 10 = 70\n",
            "8 x 1 = 8\n",
            "8 x 2 = 16\n",
            "8 x 3 = 24\n",
            "8 x 4 = 32\n",
            "8 x 5 = 40\n",
            "8 x 6 = 48\n",
            "8 x 7 = 56\n",
            "8 x 8 = 64\n",
            "8 x 9 = 72\n",
            "8 x 10 = 80\n",
            "9 x 1 = 9\n",
            "9 x 2 = 18\n",
            "9 x 3 = 27\n",
            "9 x 4 = 36\n",
            "9 x 5 = 45\n",
            "9 x 6 = 54\n",
            "9 x 7 = 63\n",
            "9 x 8 = 72\n",
            "9 x 9 = 81\n",
            "9 x 10 = 90\n",
            "10 x 1 = 10\n",
            "10 x 2 = 20\n",
            "10 x 3 = 30\n",
            "10 x 4 = 40\n",
            "10 x 5 = 50\n",
            "10 x 6 = 60\n",
            "10 x 7 = 70\n",
            "10 x 8 = 80\n",
            "10 x 9 = 90\n",
            "10 x 10 = 100\n"
          ],
          "name": "stdout"
        }
      ]
    },
    {
      "cell_type": "markdown",
      "metadata": {
        "id": "HIBmP_q7reD7"
      },
      "source": [
        "#Exercícios!!\n",
        "\n",
        "1- Crie um loop que percorra uma string e coloque a posição de cada caracter contida nela\n",
        "\n",
        "2- Refaça o exercício 1, mas dessa vez pulando os espaços\n",
        "\n",
        "3- crie duas listas e percorra as duas no mesmo for, se elas tiverem tamanhos diferentes descreva o que acontece"
      ]
    },
    {
      "cell_type": "code",
      "metadata": {
        "colab": {
          "base_uri": "https://localhost:8080/"
        },
        "id": "1L7ed7FLrMmL",
        "outputId": "22e6069e-f314-4f22-bd5d-92df7f591709"
      },
      "source": [
        "##Exercício 1\n",
        "texto = 'estou adorando aprender Python'\n",
        "\n",
        "for a in texto:\n",
        "  print(a, texto.index(a))"
      ],
      "execution_count": 58,
      "outputs": [
        {
          "output_type": "stream",
          "text": [
            "e 0\n",
            "s 1\n",
            "t 2\n",
            "o 3\n",
            "u 4\n",
            "  5\n",
            "a 6\n",
            "d 7\n",
            "o 3\n",
            "r 9\n",
            "a 6\n",
            "n 11\n",
            "d 7\n",
            "o 3\n",
            "  5\n",
            "a 6\n",
            "p 16\n",
            "r 9\n",
            "e 0\n",
            "n 11\n",
            "d 7\n",
            "e 0\n",
            "r 9\n",
            "  5\n",
            "P 24\n",
            "y 25\n",
            "t 2\n",
            "h 27\n",
            "o 3\n",
            "n 11\n"
          ],
          "name": "stdout"
        }
      ]
    },
    {
      "cell_type": "code",
      "metadata": {
        "colab": {
          "base_uri": "https://localhost:8080/"
        },
        "id": "U9Xz-OArr4Wj",
        "outputId": "daf65021-154d-4304-ba70-4c6674a81eca"
      },
      "source": [
        "#Exercício 2\n",
        "\n",
        "for a in texto.replace(' ',''):\n",
        "  print(a, texto.index(a))"
      ],
      "execution_count": 70,
      "outputs": [
        {
          "output_type": "stream",
          "text": [
            "e 0\n",
            "s 1\n",
            "t 2\n",
            "o 3\n",
            "u 4\n",
            "a 6\n",
            "d 7\n",
            "o 3\n",
            "r 9\n",
            "a 6\n",
            "n 11\n",
            "d 7\n",
            "o 3\n",
            "a 6\n",
            "p 16\n",
            "r 9\n",
            "e 0\n",
            "n 11\n",
            "d 7\n",
            "e 0\n",
            "r 9\n",
            "P 24\n",
            "y 25\n",
            "t 2\n",
            "h 27\n",
            "o 3\n",
            "n 11\n"
          ],
          "name": "stdout"
        }
      ]
    },
    {
      "cell_type": "code",
      "metadata": {
        "colab": {
          "base_uri": "https://localhost:8080/"
        },
        "id": "kMGLI4n_s_27",
        "outputId": "26c07636-ec24-4826-c5c8-cbccfd672164"
      },
      "source": [
        "# Exercício 3\n",
        "\n",
        "lista1 = [0, 1, 3, 5, 7, 9]\n",
        "lista2 = [0, 2, 4, 6, 8, 10, 12, 14, 16, 18, 20]\n",
        "\n",
        "for a, b in zip(lista1, lista2):\n",
        "  print(a, b)"
      ],
      "execution_count": 78,
      "outputs": [
        {
          "output_type": "stream",
          "text": [
            "0 0\n",
            "1 2\n",
            "3 4\n",
            "5 6\n",
            "7 8\n",
            "9 10\n"
          ],
          "name": "stdout"
        }
      ]
    },
    {
      "cell_type": "markdown",
      "metadata": {
        "id": "7X_YyLMPufWN"
      },
      "source": [
        "Neste caso, irá percorrer as duas listas, porém, irá parar no último indíce da menor lista."
      ]
    },
    {
      "cell_type": "markdown",
      "metadata": {
        "id": "VUgLLcPSvXni"
      },
      "source": [
        "#Aula 3 - Dicionário"
      ]
    },
    {
      "cell_type": "code",
      "metadata": {
        "colab": {
          "base_uri": "https://localhost:8080/"
        },
        "id": "VHGhLCjJub9H",
        "outputId": "bce72f71-a6d4-4bb4-eca0-26cb5d4d3d24"
      },
      "source": [
        "#criando um dicionário e printando o valor da chave1\n",
        "dicionario = {'chave':2942,'chave2':2942, 'chave3':'12394'}\n",
        "print(dicionario)"
      ],
      "execution_count": 83,
      "outputs": [
        {
          "output_type": "stream",
          "text": [
            "{'chave': 2942, 'chave2': 2942, 'chave3': '12394'}\n"
          ],
          "name": "stdout"
        }
      ]
    },
    {
      "cell_type": "code",
      "metadata": {
        "colab": {
          "base_uri": "https://localhost:8080/"
        },
        "id": "A35ZGtwnv-Ap",
        "outputId": "681c32e3-f76d-4420-fcdf-3511dbd4f176"
      },
      "source": [
        "#printando dicionário inteiro\n",
        "dicionario.items()"
      ],
      "execution_count": 84,
      "outputs": [
        {
          "output_type": "execute_result",
          "data": {
            "text/plain": [
              "dict_items([('chave', 2942), ('chave2', 2942), ('chave3', '12394')])"
            ]
          },
          "metadata": {
            "tags": []
          },
          "execution_count": 84
        }
      ]
    },
    {
      "cell_type": "code",
      "metadata": {
        "colab": {
          "base_uri": "https://localhost:8080/"
        },
        "id": "wNyeAiYRv_e9",
        "outputId": "f3a6e532-fcfc-4d3a-d3c6-187bb66eb66e"
      },
      "source": [
        "#printando itens do dicionário\n",
        "dicionario.values()"
      ],
      "execution_count": 85,
      "outputs": [
        {
          "output_type": "execute_result",
          "data": {
            "text/plain": [
              "dict_values([2942, 2942, '12394'])"
            ]
          },
          "metadata": {
            "tags": []
          },
          "execution_count": 85
        }
      ]
    },
    {
      "cell_type": "code",
      "metadata": {
        "colab": {
          "base_uri": "https://localhost:8080/"
        },
        "id": "dBxaM5alwA5S",
        "outputId": "5f3281fd-7487-4f36-89a7-9bcadf16b62a"
      },
      "source": [
        "#printando chaves do dicionário\n",
        "dicionario.keys()"
      ],
      "execution_count": 86,
      "outputs": [
        {
          "output_type": "execute_result",
          "data": {
            "text/plain": [
              "dict_keys(['chave', 'chave2', 'chave3'])"
            ]
          },
          "metadata": {
            "tags": []
          },
          "execution_count": 86
        }
      ]
    },
    {
      "cell_type": "code",
      "metadata": {
        "colab": {
          "base_uri": "https://localhost:8080/"
        },
        "id": "PwnVwCGUwts5",
        "outputId": "c1249f61-2dc5-4188-eb35-6bc25fecbda9"
      },
      "source": [
        "#printando chave do dicionario\n",
        "dicionario['chave']"
      ],
      "execution_count": 89,
      "outputs": [
        {
          "output_type": "execute_result",
          "data": {
            "text/plain": [
              "2942"
            ]
          },
          "metadata": {
            "tags": []
          },
          "execution_count": 89
        }
      ]
    },
    {
      "cell_type": "code",
      "metadata": {
        "colab": {
          "base_uri": "https://localhost:8080/"
        },
        "id": "4Ws12hQpw6O_",
        "outputId": "f3d7834b-f654-445c-9def-9e763ff3813e"
      },
      "source": [
        "#criando duas listas\n",
        "\n",
        "lista = [1, 2, 3, 4, 5, 6]\n",
        "lista2 = [2, 3, 4, 5, 6, 6]\n",
        "\n",
        "dict(zip(lista, lista2))"
      ],
      "execution_count": 90,
      "outputs": [
        {
          "output_type": "execute_result",
          "data": {
            "text/plain": [
              "{1: 2, 2: 3, 3: 4, 4: 5, 5: 6, 6: 6}"
            ]
          },
          "metadata": {
            "tags": []
          },
          "execution_count": 90
        }
      ]
    },
    {
      "cell_type": "code",
      "metadata": {
        "colab": {
          "base_uri": "https://localhost:8080/"
        },
        "id": "nREEVDiQxL4V",
        "outputId": "8f052170-45eb-464e-f935-4a928ffbbe4a"
      },
      "source": [
        "#criando um terceiro dicionario\n",
        "dicionario2 = {}\n",
        "\n",
        "#criando duas listas, uma de cores e outra de adjetivos\n",
        "cores = ['azul', 'vermelho', 'amarelo', 'verde']\n",
        "adjetivos = ['perfeito', 'chamativo', 'não consigo ver', 'me lembra vegetais']\n",
        "\n",
        "#percorrendo a lista e atribuindo ao dicionário chave e valor pelo zip das cores e adjetivos\n",
        "for cor,adj in zip(cores, adjetivos):\n",
        "  dicionario2[cor]=adj\n",
        "\n",
        "dicionario2"
      ],
      "execution_count": 93,
      "outputs": [
        {
          "output_type": "execute_result",
          "data": {
            "text/plain": [
              "{'amarelo': 'não consigo ver',\n",
              " 'azul': 'perfeito',\n",
              " 'verde': 'me lembra vegetais',\n",
              " 'vermelho': 'chamativo'}"
            ]
          },
          "metadata": {
            "tags": []
          },
          "execution_count": 93
        }
      ]
    },
    {
      "cell_type": "code",
      "metadata": {
        "colab": {
          "base_uri": "https://localhost:8080/"
        },
        "id": "uTqwphjGx25_",
        "outputId": "5814f2cc-f7f5-4c72-d4e3-6c0e49dd4b47"
      },
      "source": [
        "#printando cada campo do dicionario em forma de json\n",
        "dicionario_3 = [{'nome':'Peter', 'idade':19, 'município':['Nova York', 'São Paulo']},\n",
        "                {'nome': 'Tony', 'idade':44, 'município':['Nova York', 'Los Angeles']},\n",
        "                {'nome': 'Lucas', 'idade':27, 'município':['Alfenas', 'São Paulo']}]\n",
        "\n",
        "\n",
        "#printando len da lista (quantidade de valores)\n",
        "print(dicionario_3[0]['nome'])\n",
        "print(dicionario_3[0]['idade'])\n",
        "print(dicionario_3[0]['município'])\n",
        "print(dicionario_3[1]['nome'])\n",
        "print(dicionario_3[1]['idade'])\n",
        "print(dicionario_3[1]['município'])\n",
        "print(dicionario_3[2]['nome'])\n",
        "print(dicionario_3[2]['idade'])\n",
        "print(dicionario_3[2]['município'])\n",
        "print('----' * 10)\n",
        "for a in dicionario_3:\n",
        "  print(a['nome'])"
      ],
      "execution_count": 101,
      "outputs": [
        {
          "output_type": "stream",
          "text": [
            "Peter\n",
            "19\n",
            "['Nova York', 'São Paulo']\n",
            "Tony\n",
            "44\n",
            "['Nova York', 'Los Angeles']\n",
            "Lucas\n",
            "27\n",
            "['Alfenas', 'São Paulo']\n",
            "----------------------------------------\n",
            "Peter\n",
            "Tony\n",
            "Lucas\n"
          ],
          "name": "stdout"
        }
      ]
    },
    {
      "cell_type": "code",
      "metadata": {
        "colab": {
          "base_uri": "https://localhost:8080/"
        },
        "id": "LcVnUeDDyv9T",
        "outputId": "b68e6953-31fe-4777-f0ca-cf30c29b3460"
      },
      "source": [
        "#Criando dicionário com 3 dicionários\n",
        "dicionario_3 = {'usuário1':{'nome':'Peter', 'idade':19, 'município':['Nova York', 'São Paulo']},\n",
        "                'usuário2':{'nome': 'Tony', 'idade':44, 'município':['Nova York', 'Los Angeles']},\n",
        "                'usuário3':{'nome': 'Lucas', 'idade':27, 'município':['Alfenas', 'São Paulo']}}\n",
        "\n",
        "dicionario_3"
      ],
      "execution_count": 113,
      "outputs": [
        {
          "output_type": "execute_result",
          "data": {
            "text/plain": [
              "{'usuário1': {'idade': 19,\n",
              "  'município': ['Nova York', 'São Paulo'],\n",
              "  'nome': 'Peter'},\n",
              " 'usuário2': {'idade': 44,\n",
              "  'município': ['Nova York', 'Los Angeles'],\n",
              "  'nome': 'Tony'},\n",
              " 'usuário3': {'idade': 27,\n",
              "  'município': ['Alfenas', 'São Paulo'],\n",
              "  'nome': 'Lucas'}}"
            ]
          },
          "metadata": {
            "tags": []
          },
          "execution_count": 113
        }
      ]
    },
    {
      "cell_type": "code",
      "metadata": {
        "colab": {
          "base_uri": "https://localhost:8080/"
        },
        "id": "aoh3uinR0XZu",
        "outputId": "0446f588-adf9-40c9-8933-06689e964497"
      },
      "source": [
        "for a in dicionario_3.items():\n",
        "  print(a)"
      ],
      "execution_count": 114,
      "outputs": [
        {
          "output_type": "stream",
          "text": [
            "('usuário1', {'nome': 'Peter', 'idade': 19, 'município': ['Nova York', 'São Paulo']})\n",
            "('usuário2', {'nome': 'Tony', 'idade': 44, 'município': ['Nova York', 'Los Angeles']})\n",
            "('usuário3', {'nome': 'Lucas', 'idade': 27, 'município': ['Alfenas', 'São Paulo']})\n"
          ],
          "name": "stdout"
        }
      ]
    },
    {
      "cell_type": "code",
      "metadata": {
        "colab": {
          "base_uri": "https://localhost:8080/"
        },
        "id": "ipZdhlUj05SZ",
        "outputId": "0c58cc9a-41e0-4a4e-d65a-3c8cc64ec2fe"
      },
      "source": [
        "for a,b in dicionario_3.items():\n",
        "  print(a,b['nome'])\n",
        "  print(a,b['idade'])\n",
        "  print(a,b['município'])\n",
        "  print('----'*10)"
      ],
      "execution_count": 115,
      "outputs": [
        {
          "output_type": "stream",
          "text": [
            "usuário1 Peter\n",
            "usuário1 19\n",
            "usuário1 ['Nova York', 'São Paulo']\n",
            "----------------------------------------\n",
            "usuário2 Tony\n",
            "usuário2 44\n",
            "usuário2 ['Nova York', 'Los Angeles']\n",
            "----------------------------------------\n",
            "usuário3 Lucas\n",
            "usuário3 27\n",
            "usuário3 ['Alfenas', 'São Paulo']\n",
            "----------------------------------------\n"
          ],
          "name": "stdout"
        }
      ]
    },
    {
      "cell_type": "code",
      "metadata": {
        "colab": {
          "base_uri": "https://localhost:8080/"
        },
        "id": "ktf4UcOQ1HHy",
        "outputId": "d328494e-0ad4-421d-ec54-b7826fc0064f"
      },
      "source": [
        "for a,b in dicionario_3.items():\n",
        "  print(a, b['nome'], b['idade'], len(b['município']))\n",
        "  print('---'*10)"
      ],
      "execution_count": 116,
      "outputs": [
        {
          "output_type": "stream",
          "text": [
            "usuário1 Peter 19 2\n",
            "------------------------------\n",
            "usuário2 Tony 44 2\n",
            "------------------------------\n",
            "usuário3 Lucas 27 2\n",
            "------------------------------\n"
          ],
          "name": "stdout"
        }
      ]
    },
    {
      "cell_type": "code",
      "metadata": {
        "colab": {
          "base_uri": "https://localhost:8080/"
        },
        "id": "haNBrNV_2C3Q",
        "outputId": "dde7fac3-cef9-4bc3-ce1e-b91b665290f8"
      },
      "source": [
        "#percorrendo valores do dicionário\n",
        "for a in dicionario_3.values():\n",
        "  print(a)"
      ],
      "execution_count": 117,
      "outputs": [
        {
          "output_type": "stream",
          "text": [
            "{'nome': 'Peter', 'idade': 19, 'município': ['Nova York', 'São Paulo']}\n",
            "{'nome': 'Tony', 'idade': 44, 'município': ['Nova York', 'Los Angeles']}\n",
            "{'nome': 'Lucas', 'idade': 27, 'município': ['Alfenas', 'São Paulo']}\n"
          ],
          "name": "stdout"
        }
      ]
    },
    {
      "cell_type": "code",
      "metadata": {
        "colab": {
          "base_uri": "https://localhost:8080/"
        },
        "id": "2A7JUkIQ2jdW",
        "outputId": "180e7164-2ae5-44ee-e84d-10359cf47080"
      },
      "source": [
        "#percorrendo chaves do dicionario\n",
        "for a in dicionario_3.keys():\n",
        "  print(a)"
      ],
      "execution_count": 118,
      "outputs": [
        {
          "output_type": "stream",
          "text": [
            "usuário1\n",
            "usuário2\n",
            "usuário3\n"
          ],
          "name": "stdout"
        }
      ]
    },
    {
      "cell_type": "code",
      "metadata": {
        "colab": {
          "base_uri": "https://localhost:8080/"
        },
        "id": "yriLH2S62oHp",
        "outputId": "4fa61f68-d7a1-4093-9d25-f6d1e3726937"
      },
      "source": [
        "#percorrendo valores do dicionario e verificando se o type de algum deles é int\n",
        "#criando um novo for e percorrendo até range(len(a)) os valores \n",
        "for a,b in dicionario_3.items():\n",
        "  if type(b['município']) == list:\n",
        "    print(a,b['nome'], len(b['município']))"
      ],
      "execution_count": 122,
      "outputs": [
        {
          "output_type": "stream",
          "text": [
            "usuário1 Peter 2\n",
            "usuário2 Tony 2\n",
            "usuário3 Lucas 2\n"
          ],
          "name": "stdout"
        }
      ]
    },
    {
      "cell_type": "code",
      "metadata": {
        "colab": {
          "base_uri": "https://localhost:8080/"
        },
        "id": "oxXNa_4z3FRN",
        "outputId": "12038acd-968b-4436-a6cb-e01d0e7c8f37"
      },
      "source": [
        "#percorrendo os items do dicionario com enumerate\n",
        "for a,b in enumerate(dicionario_3):\n",
        "  print(a,b)"
      ],
      "execution_count": 124,
      "outputs": [
        {
          "output_type": "stream",
          "text": [
            "0 usuário1\n",
            "1 usuário2\n",
            "2 usuário3\n"
          ],
          "name": "stdout"
        }
      ]
    },
    {
      "cell_type": "code",
      "metadata": {
        "colab": {
          "base_uri": "https://localhost:8080/"
        },
        "id": "PjVQgU243oc5",
        "outputId": "5886d3f4-82e3-4433-e766-06afe2faf3a0"
      },
      "source": [
        "for a in zip(enumerate(dicionario_3)):\n",
        "  print(a)"
      ],
      "execution_count": 125,
      "outputs": [
        {
          "output_type": "stream",
          "text": [
            "((0, 'usuário1'),)\n",
            "((1, 'usuário2'),)\n",
            "((2, 'usuário3'),)\n"
          ],
          "name": "stdout"
        }
      ]
    },
    {
      "cell_type": "markdown",
      "metadata": {
        "id": "Gkd4NHkv4CQX"
      },
      "source": [
        "##Exercícios!!!\n",
        "1- Percorra cada pet no dicionário acima e imprima sua espécie\n",
        "\n",
        "2- Percorra cada pet no dicionário e imprima o pet com maior quantidade de dislikes\n",
        "\n",
        "3- Conte o total de comidas citadas no dicionário e quantas se repetem"
      ]
    },
    {
      "cell_type": "code",
      "metadata": {
        "colab": {
          "base_uri": "https://localhost:8080/"
        },
        "id": "zCSX1ADZ4jC-",
        "outputId": "df225736-4294-4030-cd98-a34b771707b1"
      },
      "source": [
        "!wget https://raw.githubusercontent.com/LearnWebCode/json-example/master/animals-1.json"
      ],
      "execution_count": 127,
      "outputs": [
        {
          "output_type": "stream",
          "text": [
            "--2021-05-12 14:02:36--  https://raw.githubusercontent.com/LearnWebCode/json-example/master/animals-1.json\n",
            "Resolving raw.githubusercontent.com (raw.githubusercontent.com)... 185.199.108.133, 185.199.111.133, 185.199.109.133, ...\n",
            "Connecting to raw.githubusercontent.com (raw.githubusercontent.com)|185.199.108.133|:443... connected.\n",
            "HTTP request sent, awaiting response... 200 OK\n",
            "Length: 420 [text/plain]\n",
            "Saving to: ‘animals-1.json’\n",
            "\n",
            "animals-1.json      100%[===================>]     420  --.-KB/s    in 0s      \n",
            "\n",
            "2021-05-12 14:02:37 (8.45 MB/s) - ‘animals-1.json’ saved [420/420]\n",
            "\n"
          ],
          "name": "stdout"
        }
      ]
    },
    {
      "cell_type": "code",
      "metadata": {
        "colab": {
          "base_uri": "https://localhost:8080/"
        },
        "id": "wZy-9bdJ3uxh",
        "outputId": "d407aad5-75ba-47a2-9820-4e58a6251119"
      },
      "source": [
        "import json\n",
        "with open('animals-1.json') as json_file:\n",
        "  itemData = json.load(json_file)\n",
        "\n",
        "itemData"
      ],
      "execution_count": 128,
      "outputs": [
        {
          "output_type": "execute_result",
          "data": {
            "text/plain": [
              "[{'foods': {'dislikes': ['ham', 'zucchini'], 'likes': ['tuna', 'catnip']},\n",
              "  'name': 'Meowsy',\n",
              "  'species': 'cat'},\n",
              " {'foods': {'dislikes': ['tuna'], 'likes': ['bones', 'carrots']},\n",
              "  'name': 'Barky',\n",
              "  'species': 'dog'},\n",
              " {'foods': {'dislikes': ['cookies'], 'likes': ['mice']},\n",
              "  'name': 'Purrpaws',\n",
              "  'species': 'cat'}]"
            ]
          },
          "metadata": {
            "tags": []
          },
          "execution_count": 128
        }
      ]
    },
    {
      "cell_type": "code",
      "metadata": {
        "colab": {
          "base_uri": "https://localhost:8080/"
        },
        "id": "-KdCU8fr4cM1",
        "outputId": "40d0c069-5209-490f-eb67-93003405863a"
      },
      "source": [
        "type(itemData)"
      ],
      "execution_count": 137,
      "outputs": [
        {
          "output_type": "execute_result",
          "data": {
            "text/plain": [
              "list"
            ]
          },
          "metadata": {
            "tags": []
          },
          "execution_count": 137
        }
      ]
    },
    {
      "cell_type": "code",
      "metadata": {
        "colab": {
          "base_uri": "https://localhost:8080/"
        },
        "id": "VIuTPpo65Uc7",
        "outputId": "4d2fe8e4-b86b-4501-9d4d-6ccd3a4841f4"
      },
      "source": [
        "#Exercício 1\n",
        "for especie in itemData:\n",
        "  print(especie['species'])"
      ],
      "execution_count": 143,
      "outputs": [
        {
          "output_type": "stream",
          "text": [
            "cat\n",
            "dog\n",
            "cat\n"
          ],
          "name": "stdout"
        }
      ]
    },
    {
      "cell_type": "code",
      "metadata": {
        "colab": {
          "base_uri": "https://localhost:8080/",
          "height": 86
        },
        "id": "FgeZC1AN91rC",
        "outputId": "1c0bc8db-28a1-4065-891a-482940b37fda"
      },
      "source": [
        "#Exercício 2\n",
        "pet = ''\n",
        "dislikes = 0\n",
        "for a in itemData:\n",
        "  print(len(a['foods']['dislikes']), a['name'])\n",
        "  if dislikes < len(a['foods']['dislikes']):\n",
        "    dislikes = len(a['foods']['dislikes'])\n",
        "    pet=a['name']\n",
        "pet"
      ],
      "execution_count": 144,
      "outputs": [
        {
          "output_type": "stream",
          "text": [
            "2 Meowsy\n",
            "1 Barky\n",
            "1 Purrpaws\n"
          ],
          "name": "stdout"
        },
        {
          "output_type": "execute_result",
          "data": {
            "application/vnd.google.colaboratory.intrinsic+json": {
              "type": "string"
            },
            "text/plain": [
              "'Meowsy'"
            ]
          },
          "metadata": {
            "tags": []
          },
          "execution_count": 144
        }
      ]
    },
    {
      "cell_type": "code",
      "metadata": {
        "colab": {
          "base_uri": "https://localhost:8080/"
        },
        "id": "tAoPwhMo-YJd",
        "outputId": "6498e1f6-ba57-4cab-c0b4-908a877eec94"
      },
      "source": [
        "#Exercicio 3\n",
        "comidas = []\n",
        "for a in itemData:\n",
        "  for b in a['foods']['dislikes']:\n",
        "    comidas.append(b)\n",
        "  for c in a['foods']['likes']:\n",
        "    comidas.append(c)\n",
        "comidas"
      ],
      "execution_count": 139,
      "outputs": [
        {
          "output_type": "execute_result",
          "data": {
            "text/plain": [
              "['ham',\n",
              " 'zucchini',\n",
              " 'tuna',\n",
              " 'catnip',\n",
              " 'tuna',\n",
              " 'bones',\n",
              " 'carrots',\n",
              " 'cookies',\n",
              " 'mice']"
            ]
          },
          "metadata": {
            "tags": []
          },
          "execution_count": 139
        }
      ]
    },
    {
      "cell_type": "code",
      "metadata": {
        "colab": {
          "base_uri": "https://localhost:8080/"
        },
        "id": "QAoKh4Us-oB8",
        "outputId": "24382d7f-d3b5-41b4-9fa7-85a7cf983f39"
      },
      "source": [
        "for a in comidas:\n",
        "  print(comidas.count(a),a)"
      ],
      "execution_count": 140,
      "outputs": [
        {
          "output_type": "stream",
          "text": [
            "1 ham\n",
            "1 zucchini\n",
            "2 tuna\n",
            "1 catnip\n",
            "2 tuna\n",
            "1 bones\n",
            "1 carrots\n",
            "1 cookies\n",
            "1 mice\n"
          ],
          "name": "stdout"
        }
      ]
    },
    {
      "cell_type": "code",
      "metadata": {
        "id": "lyknrq1F-tzE"
      },
      "source": [
        ""
      ],
      "execution_count": null,
      "outputs": []
    }
  ]
}