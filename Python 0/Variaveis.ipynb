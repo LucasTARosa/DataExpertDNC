{
  "nbformat": 4,
  "nbformat_minor": 0,
  "metadata": {
    "colab": {
      "name": "Variaveis.ipynb",
      "provenance": [],
      "collapsed_sections": []
    },
    "kernelspec": {
      "name": "python3",
      "display_name": "Python 3"
    },
    "language_info": {
      "name": "python"
    }
  },
  "cells": [
    {
      "cell_type": "code",
      "metadata": {
        "id": "2dmNTwcrYukO"
      },
      "source": [
        "nome_inteiro = 3\n",
        "real = 4.5\n",
        "text_1 = 'esse é meu texto'\n",
        "text_2 = \"esse é meu texto 2\""
      ],
      "execution_count": null,
      "outputs": []
    },
    {
      "cell_type": "code",
      "metadata": {
        "colab": {
          "base_uri": "https://localhost:8080/"
        },
        "id": "fhdF8JuoalEW",
        "outputId": "6819038a-28b7-4224-ee1c-433fabfdde28"
      },
      "source": [
        "#podemos colocar comentários dentro de cada célula de código dessa forma\n",
        "print(nome_inteiro)"
      ],
      "execution_count": null,
      "outputs": [
        {
          "output_type": "stream",
          "text": [
            "3\n"
          ],
          "name": "stdout"
        }
      ]
    },
    {
      "cell_type": "code",
      "metadata": {
        "colab": {
          "base_uri": "https://localhost:8080/"
        },
        "id": "TtxtSO-lamkq",
        "outputId": "0e0c18db-50cd-4dff-8aea-3c3f44ec2c53"
      },
      "source": [
        "#podemos colocar diversos prints na mesma célula\n",
        "print(real)\n",
        "print(text_1)\n",
        "print(text_2)"
      ],
      "execution_count": null,
      "outputs": [
        {
          "output_type": "stream",
          "text": [
            "4.5\n",
            "esse é meu texto\n",
            "esse é meu texto 2\n"
          ],
          "name": "stdout"
        }
      ]
    },
    {
      "cell_type": "code",
      "metadata": {
        "colab": {
          "base_uri": "https://localhost:8080/"
        },
        "id": "WD1wJQscawoM",
        "outputId": "b0cf15ce-3e94-4f0c-d839-0c50e8587cdd"
      },
      "source": [
        "#ou podemos imprimir tudo em uma única linha\n",
        "print(nome_inteiro, real, text_1, text_2)"
      ],
      "execution_count": null,
      "outputs": [
        {
          "output_type": "stream",
          "text": [
            "3 4.5 esse é meu texto esse é meu texto 2\n"
          ],
          "name": "stdout"
        }
      ]
    },
    {
      "cell_type": "code",
      "metadata": {
        "colab": {
          "base_uri": "https://localhost:8080/"
        },
        "id": "_UTpLKe7a7mI",
        "outputId": "0a6d9a47-2c03-4161-fdf7-a94332df3e0a"
      },
      "source": [
        "#podemos também usar uma linha de código e printar pulando linha com o \\n\n",
        "print( nome_inteiro, '\\n',real, '\\n', text_1, '\\n', text_2)"
      ],
      "execution_count": null,
      "outputs": [
        {
          "output_type": "stream",
          "text": [
            "3 \n",
            " 4.5 \n",
            " esse é meu texto \n",
            " esse é meu texto 2\n"
          ],
          "name": "stdout"
        }
      ]
    },
    {
      "cell_type": "code",
      "metadata": {
        "colab": {
          "base_uri": "https://localhost:8080/"
        },
        "id": "GutSV41WbKqq",
        "outputId": "98f805f7-5292-4bdf-86c9-60a0e5278963"
      },
      "source": [
        "#o python possui a função \"type ()\" já nativa e construída para mostrar o tipo da variável\n",
        "print(nome_inteiro, type(nome_inteiro))\n",
        "print(real, type(real))\n",
        "print(text_1, type(text_1))\n",
        "print(text_2, type(text_2))"
      ],
      "execution_count": null,
      "outputs": [
        {
          "output_type": "stream",
          "text": [
            "3 <class 'int'>\n",
            "4.5 <class 'float'>\n",
            "esse é meu texto <class 'str'>\n",
            "esse é meu texto 2 <class 'str'>\n"
          ],
          "name": "stdout"
        }
      ]
    },
    {
      "cell_type": "markdown",
      "metadata": {
        "id": "aY-McllScPfU"
      },
      "source": [
        "# Exercício!\n",
        "\n",
        "1- Crie uma variável de cada tipo aprendido e atribua um valor para cada uma delas, lembre-se de utilizar as dicas da aula\n",
        "\n",
        "2- Imprima os valores atribuiços em cada variável, pule uma linha de uma variável para a outra\n",
        "\n",
        "3- Imprima os tipos de cada variável"
      ]
    },
    {
      "cell_type": "code",
      "metadata": {
        "id": "J8RU2GE-bkZ2"
      },
      "source": [
        "# Exercício 1\n",
        "inteiro = 2\n",
        "decimal = 3.14\n",
        "verdadeiro = True\n",
        "texto = 'Olá, eu sou o Goku'"
      ],
      "execution_count": null,
      "outputs": []
    },
    {
      "cell_type": "code",
      "metadata": {
        "colab": {
          "base_uri": "https://localhost:8080/"
        },
        "id": "LR-H-tfqcp8Y",
        "outputId": "a8f698d4-63c0-4d7a-e575-e7c04c157785"
      },
      "source": [
        "# Exercício 2\n",
        "\n",
        "# 1ª maneira\n",
        "print(inteiro)\n",
        "print(decimal)\n",
        "print(verdadeiro)\n",
        "print(texto)\n",
        "\n",
        "# 2ª maneira\n",
        "print('\\n', inteiro, '\\n', decimal, '\\n', verdadeiro, '\\n', texto)"
      ],
      "execution_count": null,
      "outputs": [
        {
          "output_type": "stream",
          "text": [
            "2\n",
            "3.14\n",
            "True\n",
            "Olá, eu sou o Goku\n",
            "\n",
            " 2 \n",
            " 3.14 \n",
            " True \n",
            " Olá, eu sou o Goku\n"
          ],
          "name": "stdout"
        }
      ]
    },
    {
      "cell_type": "code",
      "metadata": {
        "colab": {
          "base_uri": "https://localhost:8080/"
        },
        "id": "TN5rxlGxcr-x",
        "outputId": "c6a7f49d-f59c-410a-fc37-6818959a8210"
      },
      "source": [
        "# Exercício 3\n",
        "\n",
        "print(inteiro, type(inteiro))\n",
        "print(decimal, type(decimal))\n",
        "print(verdadeiro, type(verdadeiro))\n",
        "print(texto, type(texto))"
      ],
      "execution_count": null,
      "outputs": [
        {
          "output_type": "stream",
          "text": [
            "2 <class 'int'>\n",
            "3.14 <class 'float'>\n",
            "True <class 'bool'>\n",
            "Olá, eu sou o Goku <class 'str'>\n"
          ],
          "name": "stdout"
        }
      ]
    },
    {
      "cell_type": "code",
      "metadata": {
        "id": "KJYjaiiDdwm_"
      },
      "source": [
        ""
      ],
      "execution_count": null,
      "outputs": []
    }
  ]
}