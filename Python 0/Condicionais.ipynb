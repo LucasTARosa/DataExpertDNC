{
  "nbformat": 4,
  "nbformat_minor": 0,
  "metadata": {
    "colab": {
      "name": "Condicionais.ipynb",
      "provenance": []
    },
    "kernelspec": {
      "name": "python3",
      "display_name": "Python 3"
    },
    "language_info": {
      "name": "python"
    }
  },
  "cells": [
    {
      "cell_type": "code",
      "metadata": {
        "colab": {
          "base_uri": "https://localhost:8080/"
        },
        "id": "RTsthvCh4PHP",
        "outputId": "3de95077-1567-4162-a13b-f8449c69f505"
      },
      "source": [
        "# é possível também fazer uma operação antes do x e fazer a verificação com o seu resultado\n",
        "x = 7\n",
        "y = 10\n",
        "if x == y:\n",
        "  print('x é igual a y')\n",
        "else:\n",
        "  print('x não é igual a y')"
      ],
      "execution_count": null,
      "outputs": [
        {
          "output_type": "stream",
          "text": [
            "x não é igual a y\n"
          ],
          "name": "stdout"
        }
      ]
    },
    {
      "cell_type": "code",
      "metadata": {
        "colab": {
          "base_uri": "https://localhost:8080/"
        },
        "id": "nsfQPZVh4wcP",
        "outputId": "8a441eb9-676d-4957-ad20-9c677492e4e6"
      },
      "source": [
        "# caso tenha mais de uma condição para validar é utilizado o elif como um else\n",
        "x = 7\n",
        "y = 10\n",
        "if x == y:\n",
        "  print('x é igual a y')\n",
        "elif x < y:\n",
        "  print('x é menor que o y')\n",
        "else:\n",
        "  print('x não é igual a t')"
      ],
      "execution_count": null,
      "outputs": [
        {
          "output_type": "stream",
          "text": [
            "x é menor que o y\n"
          ],
          "name": "stdout"
        }
      ]
    },
    {
      "cell_type": "code",
      "metadata": {
        "colab": {
          "base_uri": "https://localhost:8080/"
        },
        "id": "9IBdc4vU5Hi6",
        "outputId": "543b1f89-dbd0-4d9e-a57c-cb72cec28db9"
      },
      "source": [
        "x = 7\n",
        "y = 7.0\n",
        "if x == y:\n",
        "  print('x é igual a y')\n",
        "elif x < y:\n",
        "  print('x é menor que o y')\n",
        "else:\n",
        "  print('x não é igual a t')"
      ],
      "execution_count": null,
      "outputs": [
        {
          "output_type": "stream",
          "text": [
            "x é igual a y\n"
          ],
          "name": "stdout"
        }
      ]
    },
    {
      "cell_type": "code",
      "metadata": {
        "colab": {
          "base_uri": "https://localhost:8080/"
        },
        "id": "G242di9Z5PWh",
        "outputId": "e931d045-da6a-4e96-8193-709f03bf9dae"
      },
      "source": [
        "x = 7\n",
        "y = 7.1\n",
        "if x == y:\n",
        "  print('x é igual a y')\n",
        "elif x < y:\n",
        "  print('x é menor que o y')\n",
        "else:\n",
        "  print('x não é igual a t')"
      ],
      "execution_count": null,
      "outputs": [
        {
          "output_type": "stream",
          "text": [
            "x é menor que o y\n"
          ],
          "name": "stdout"
        }
      ]
    },
    {
      "cell_type": "code",
      "metadata": {
        "id": "mSr_77T45RW_"
      },
      "source": [
        "#print verdadeiro no if\n"
      ],
      "execution_count": null,
      "outputs": []
    },
    {
      "cell_type": "code",
      "metadata": {
        "colab": {
          "base_uri": "https://localhost:8080/"
        },
        "id": "_K8QHMvB6Thp",
        "outputId": "62291c33-5c2d-46a1-fdc1-d6b6daf639d4"
      },
      "source": [
        "#listas e tuplas\n",
        "\n",
        "lista = ['oi', 1, 2, 3, 4, 5, 64, 32.2, True, \"Boa noite\"]\n",
        "tupla = (1, 234, 23, 4, 50, 3, 'oi', 'boa tarde')\n",
        "tupla2 = ('oi', 1, 2, 3, 4, 5, 64, 32.2, True, \"Boa noite\")\n",
        "\n",
        "if lista == tupla2:\n",
        "  print('lista e tuplas são iguais')\n",
        "else:\n",
        "  print('são diferentes')"
      ],
      "execution_count": null,
      "outputs": [
        {
          "output_type": "stream",
          "text": [
            "são diferentes\n"
          ],
          "name": "stdout"
        }
      ]
    },
    {
      "cell_type": "code",
      "metadata": {
        "colab": {
          "base_uri": "https://localhost:8080/"
        },
        "id": "TBhZwb1B6ssG",
        "outputId": "2344cf07-d0b9-40d2-e511-51c09265fff7"
      },
      "source": [
        "print(lista, type(lista))\n",
        "print(tupla2, type(tupla2))"
      ],
      "execution_count": null,
      "outputs": [
        {
          "output_type": "stream",
          "text": [
            "['oi', 1, 2, 3, 4, 5, 64, 32.2, True, 'Boa noite'] <class 'list'>\n",
            "('oi', 1, 2, 3, 4, 5, 64, 32.2, True, 'Boa noite') <class 'tuple'>\n"
          ],
          "name": "stdout"
        }
      ]
    },
    {
      "cell_type": "code",
      "metadata": {
        "colab": {
          "base_uri": "https://localhost:8080/"
        },
        "id": "LFg7rtEO7cCn",
        "outputId": "a356a40f-1ece-4b3b-e17c-6c0e90520ed2"
      },
      "source": [
        "print(lista[0])\n",
        "print(tupla2[0])"
      ],
      "execution_count": null,
      "outputs": [
        {
          "output_type": "stream",
          "text": [
            "oi\n",
            "oi\n"
          ],
          "name": "stdout"
        }
      ]
    },
    {
      "cell_type": "code",
      "metadata": {
        "colab": {
          "base_uri": "https://localhost:8080/"
        },
        "id": "pCidnFU26z7Z",
        "outputId": "7e27594f-4385-479b-e44a-b63c235b1cf9"
      },
      "source": [
        "if lista[0] == tupla2[0]:\n",
        "  print('o primeiro elemento da lista é igual ao primeiro elemento da tupla')\n",
        "else:\n",
        "  print('eles não são iguais')"
      ],
      "execution_count": null,
      "outputs": [
        {
          "output_type": "stream",
          "text": [
            "o primeiro elemento da lista é igual ao primeiro elemento da tupla\n"
          ],
          "name": "stdout"
        }
      ]
    },
    {
      "cell_type": "code",
      "metadata": {
        "colab": {
          "base_uri": "https://localhost:8080/"
        },
        "id": "Jkz16XdP7AT4",
        "outputId": "3f9453e9-2daa-45e6-aeb4-d19ab33e045a"
      },
      "source": [
        "# adicionando um novo elemento na lista\n",
        "lista.append('um novo elemento')\n",
        "\n",
        "print(lista)"
      ],
      "execution_count": null,
      "outputs": [
        {
          "output_type": "stream",
          "text": [
            "['oi', 1, 2, 3, 4, 5, 64, 32.2, True, 'Boa noite', 'um novo elemento']\n"
          ],
          "name": "stdout"
        }
      ]
    },
    {
      "cell_type": "code",
      "metadata": {
        "colab": {
          "base_uri": "https://localhost:8080/"
        },
        "id": "LFrcOp0W7izC",
        "outputId": "4fa4886f-a1bb-4a3b-f28d-ba06fce700a1"
      },
      "source": [
        "# removendo o ultimo elemento da lista\n",
        "lista.pop(-1)\n",
        "print(lista)"
      ],
      "execution_count": null,
      "outputs": [
        {
          "output_type": "stream",
          "text": [
            "['oi', 1, 2, 3, 4, 5, 64, 32.2, True, 'Boa noite']\n"
          ],
          "name": "stdout"
        }
      ]
    },
    {
      "cell_type": "code",
      "metadata": {
        "colab": {
          "base_uri": "https://localhost:8080/"
        },
        "id": "OUGLe7bn74tU",
        "outputId": "a4f81c23-c971-40e5-93ed-6757c43d88eb"
      },
      "source": [
        "#já a tupla é um elemento imutável, ou seja, não se pode adicionar ou remover dados\n",
        "#convertendo tupla em lista\n",
        "tupla2 = list(tupla2)\n",
        "print(type(tupla2))\n",
        "\n",
        "#adicionando um novo valor\n",
        "tupla2.append('novo elemento')\n",
        "print(tupla2)"
      ],
      "execution_count": null,
      "outputs": [
        {
          "output_type": "stream",
          "text": [
            "<class 'list'>\n",
            "['oi', 1, 2, 3, 4, 5, 64, 32.2, True, 'Boa noite', 'novo elemento']\n"
          ],
          "name": "stdout"
        }
      ]
    },
    {
      "cell_type": "code",
      "metadata": {
        "colab": {
          "base_uri": "https://localhost:8080/"
        },
        "id": "TWOy4L9u8I86",
        "outputId": "870bc98a-c818-49ab-8771-86ecc08ebaca"
      },
      "source": [
        "#convertendo lista em tupla\n",
        "print(type(tupla2))\n",
        "tupla2 = tuple(tupla2)\n",
        "print(type(tupla2))"
      ],
      "execution_count": null,
      "outputs": [
        {
          "output_type": "stream",
          "text": [
            "<class 'list'>\n",
            "<class 'tuple'>\n"
          ],
          "name": "stdout"
        }
      ]
    },
    {
      "cell_type": "code",
      "metadata": {
        "colab": {
          "base_uri": "https://localhost:8080/"
        },
        "id": "zR98UHQU8j7Z",
        "outputId": "056be0f7-1371-442c-fec9-a1040e8b6c36"
      },
      "source": [
        "#verificando se oi está na lista\n",
        "print(lista)\n",
        "if 1 in lista:\n",
        "  print('contêm em lista')\n",
        "else:\n",
        "  print('não contêm na lista')\n",
        "\n",
        "if 'oi' in lista:\n",
        "  print('contêm em lista')\n",
        "else:\n",
        "  print('não contêm na lista')\n",
        "\n",
        "if 'ei' in lista:\n",
        "  print('contêm em lista')\n",
        "else:\n",
        "  print('não contêm na lista')"
      ],
      "execution_count": null,
      "outputs": [
        {
          "output_type": "stream",
          "text": [
            "['oi', 1, 2, 3, 4, 5, 64, 32.2, True, 'Boa noite']\n",
            "contêm em lista\n",
            "contêm em lista\n",
            "não contêm na lista\n"
          ],
          "name": "stdout"
        }
      ]
    },
    {
      "cell_type": "code",
      "metadata": {
        "colab": {
          "base_uri": "https://localhost:8080/"
        },
        "id": "8AWXVgwV9Fxg",
        "outputId": "b63ef7df-bf30-4cd5-d5c0-1e122fc95df9"
      },
      "source": [
        "#verificando mais de uma condição\n",
        "\n",
        "x = 10\n",
        "y = 12\n",
        "if x == 10 and x < y:\n",
        "  print('x é igual a 10 e menor que y')\n",
        "else:\n",
        "  print('caiu no else')"
      ],
      "execution_count": null,
      "outputs": [
        {
          "output_type": "stream",
          "text": [
            "x é igual a 10 e menor que y\n"
          ],
          "name": "stdout"
        }
      ]
    },
    {
      "cell_type": "code",
      "metadata": {
        "colab": {
          "base_uri": "https://localhost:8080/"
        },
        "id": "AgNu8bMa9o1t",
        "outputId": "7ed87dcc-c6d8-4323-dcdd-8358e78e3ef1"
      },
      "source": [
        "#verificando se x está na lista E x é maior que 3 E x menor que 10\n",
        "\n",
        "x = 5\n",
        "y = 12\n",
        "\n",
        "if x in lista and x >3 and x <10:\n",
        "  print('x contem na lista, é maior do que 3 e é menor que 10')\n",
        "else:\n",
        "  print('caiu no else')"
      ],
      "execution_count": null,
      "outputs": [
        {
          "output_type": "stream",
          "text": [
            "x contem na lista, é maior do que 3 e é menor que 10\n"
          ],
          "name": "stdout"
        }
      ]
    },
    {
      "cell_type": "code",
      "metadata": {
        "colab": {
          "base_uri": "https://localhost:8080/"
        },
        "id": "bqnCm33T97i8",
        "outputId": "73519cf1-034c-49c9-838f-71e5535adb28"
      },
      "source": [
        "# verifciando se x não esta na lista ou na tupla\n",
        "\n",
        "x = 5\n",
        "y = 12\n",
        "if x in lista or x in tupla2:\n",
        "  print('x contem na lista e x..')\n",
        "else:\n",
        "  print('caiu no else')"
      ],
      "execution_count": null,
      "outputs": [
        {
          "output_type": "stream",
          "text": [
            "x contem na lista e x..\n"
          ],
          "name": "stdout"
        }
      ]
    },
    {
      "cell_type": "markdown",
      "metadata": {
        "id": "lQXTigaW-lJ_"
      },
      "source": [
        "#Exercício!!! \n",
        "\n",
        "1- Construa uma condição para verificar se o número é múltiplo de 3\n",
        "\n",
        "2- Crie 3 condicionais utilizando a estrutura elif\n",
        "\n",
        "3- Crie uma lista e verifique se ela contêm os números 7 e 3"
      ]
    },
    {
      "cell_type": "code",
      "metadata": {
        "colab": {
          "base_uri": "https://localhost:8080/"
        },
        "id": "ZM84vqKq-OmR",
        "outputId": "c2f9bd46-030b-49d2-daf5-a463227b51e6"
      },
      "source": [
        "#Exercício 1\n",
        "x = 9\n",
        "\n",
        "if x%3 == 0:\n",
        "  print('o número é múltiplo de 3')\n",
        "else:\n",
        "  print('o número não é múltiplo de 3')"
      ],
      "execution_count": null,
      "outputs": [
        {
          "output_type": "stream",
          "text": [
            "o número é múltiplo de 3\n"
          ],
          "name": "stdout"
        }
      ]
    },
    {
      "cell_type": "code",
      "metadata": {
        "colab": {
          "base_uri": "https://localhost:8080/"
        },
        "id": "irpMNedY_KXr",
        "outputId": "30010ef1-ce2b-4616-eb5f-03c6c1321421"
      },
      "source": [
        "#Exercício 2\n",
        "temperatura = 23\n",
        "\n",
        "if temperatura > 30:\n",
        "  print('está muito quente!')\n",
        "elif temperatura <= 30 and temperatura > 25:\n",
        "  print('vamos correr no parque?')\n",
        "elif temperatura <= 25 and temperatura > 20:\n",
        "  print('o tempo está agradável')\n",
        "elif temperatura <= 20 and temperatura > 10: \n",
        "  print('que tempo bom!')\n",
        "else:\n",
        "  print('está congelando!')\n"
      ],
      "execution_count": null,
      "outputs": [
        {
          "output_type": "stream",
          "text": [
            "o tempo está agradável\n"
          ],
          "name": "stdout"
        }
      ]
    },
    {
      "cell_type": "code",
      "metadata": {
        "colab": {
          "base_uri": "https://localhost:8080/"
        },
        "id": "Ma0YE_yAABge",
        "outputId": "19ccc7ed-fbe7-4cb4-dc9d-44f2f1d04db2"
      },
      "source": [
        "#Exercício 3\n",
        "lista = [1, 5, 'olá', True, False, 'Good Morning', 7, 20]\n",
        "\n",
        "print(lista)\n",
        "\n",
        "if 3 in lista and 7 in lista:\n",
        "  print('3 e 7 estão na lista')\n",
        "elif 3 in lista:\n",
        "  print('apenas o 3 está na lista')\n",
        "elif 7 in lista:\n",
        "  print('apenas o 7 está na lista')\n",
        "else:\n",
        "  print('3 e 7 não estão na lista')"
      ],
      "execution_count": null,
      "outputs": [
        {
          "output_type": "stream",
          "text": [
            "[1, 5, 'olá', True, False, 'Good Morning', 7, 20]\n",
            "apenas o 7 está na lista\n"
          ],
          "name": "stdout"
        }
      ]
    },
    {
      "cell_type": "markdown",
      "metadata": {
        "id": "Qbv-_w8CBBYi"
      },
      "source": [
        "#DESAFIO\n",
        "\n",
        "Crie uma lista com 5 valores e uma tupla com 10 valores, verifique se algum valor da lista está contido na tupla"
      ]
    },
    {
      "cell_type": "code",
      "metadata": {
        "colab": {
          "base_uri": "https://localhost:8080/"
        },
        "id": "R4KHrKI_AV3K",
        "outputId": "934e3688-01f9-4e4c-c041-7de5841dd4a0"
      },
      "source": [
        "#Desafio\n",
        "\n",
        "lista = [1, 2, 3, 4, 5]\n",
        "tupla = (5, 6, 7, 8, 9, 10, 11, 12, 13, 14)\n",
        "\n",
        "print(lista)\n",
        "print(tupla)"
      ],
      "execution_count": null,
      "outputs": [
        {
          "output_type": "stream",
          "text": [
            "[1, 2, 3, 4, 5]\n",
            "(5, 6, 7, 8, 9, 10, 11, 12, 13, 14)\n"
          ],
          "name": "stdout"
        }
      ]
    },
    {
      "cell_type": "code",
      "metadata": {
        "colab": {
          "base_uri": "https://localhost:8080/"
        },
        "id": "S5HwH2T1BSJ0",
        "outputId": "c14a4f6a-8268-47de-a316-b5d111111047"
      },
      "source": [
        "if lista[0] or lista[1] or lista[2] or lista[3] or lista[4] in tupla:\n",
        "  print('Um número da lista está contido na tupla')\n",
        "else:\n",
        "  print('não está')"
      ],
      "execution_count": null,
      "outputs": [
        {
          "output_type": "stream",
          "text": [
            "Um número da lista está contido na tupla\n"
          ],
          "name": "stdout"
        }
      ]
    },
    {
      "cell_type": "code",
      "metadata": {
        "id": "MR2VbYd2BmoO"
      },
      "source": [
        ""
      ],
      "execution_count": null,
      "outputs": []
    }
  ]
}